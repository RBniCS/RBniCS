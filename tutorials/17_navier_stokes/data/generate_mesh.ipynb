{
 "cells": [
  {
   "cell_type": "code",
   "execution_count": null,
   "id": "fenics_installation",
   "metadata": {},
   "outputs": [],
   "source": [
    "# Install FEniCS\n",
    "try:\n",
    "    import dolfin\n",
    "except ImportError:\n",
    "    !wget \"https://fem-on-colab.github.io/releases/fenics-install-real.sh\" -O \"/tmp/fenics-install.sh\" && bash \"/tmp/fenics-install.sh\"\n",
    "    import dolfin"
   ]
  },
  {
   "cell_type": "code",
   "execution_count": null,
   "id": "rbnics_installation",
   "metadata": {},
   "outputs": [],
   "source": [
    "# Install RBniCS\n",
    "try:\n",
    "    import rbnics\n",
    "except ImportError:\n",
    "    !pip3 install git+https://github.com/RBniCS/RBniCS.git\n",
    "    import rbnics\n",
    "import rbnics.utils.config\n",
    "assert \"dolfin\" in rbnics.utils.config.config.get(\"backends\", \"required backends\")"
   ]
  },
  {
   "cell_type": "code",
   "execution_count": null,
   "metadata": {},
   "outputs": [],
   "source": [
    "from dolfin import *\n",
    "from mshr import *"
   ]
  },
  {
   "cell_type": "code",
   "execution_count": null,
   "metadata": {},
   "outputs": [],
   "source": [
    "# Geometrical parameters\n",
    "pre_step_length = 4.\n",
    "after_step_length = 18.\n",
    "pre_step_height = 3.\n",
    "after_step_height = 5."
   ]
  },
  {
   "cell_type": "code",
   "execution_count": null,
   "metadata": {},
   "outputs": [],
   "source": [
    "# Create mesh\n",
    "domain = (Rectangle(Point(0., 0.), Point(pre_step_length + after_step_length, after_step_height))\n",
    "          - Rectangle(Point(0., 0.), Point(pre_step_length, after_step_height - pre_step_height)))\n",
    "top_subdomain = Rectangle(Point(0., after_step_height - pre_step_height),\n",
    "                          Point(pre_step_length + after_step_length, after_step_height))\n",
    "bottom_subdomain = Rectangle(Point(pre_step_length, 0.),\n",
    "                             Point(pre_step_length + after_step_length, after_step_height - pre_step_height))\n",
    "domain.set_subdomain(1, top_subdomain)\n",
    "domain.set_subdomain(2, bottom_subdomain)\n",
    "mesh = generate_mesh(domain, 50)\n",
    "plot(mesh)"
   ]
  },
  {
   "cell_type": "code",
   "execution_count": null,
   "metadata": {},
   "outputs": [],
   "source": [
    "# Create subdomains\n",
    "subdomains = MeshFunction(\"size_t\", mesh, 2, mesh.domains())\n",
    "plot(subdomains)"
   ]
  },
  {
   "cell_type": "code",
   "execution_count": null,
   "metadata": {},
   "outputs": [],
   "source": [
    "# Create boundaries\n",
    "class Inlet(SubDomain):\n",
    "    def inside(self, x, on_boundary):\n",
    "        return on_boundary and abs(x[0]) < DOLFIN_EPS\n",
    "\n",
    "\n",
    "class Bottom(SubDomain):\n",
    "    def inside(self, x, on_boundary):\n",
    "        return on_boundary and (\n",
    "            (x[0] <= pre_step_length and abs(x[1] - after_step_height + pre_step_height) < DOLFIN_EPS)\n",
    "            or (x[1] <= after_step_height - pre_step_height and abs(x[0] - pre_step_length) < DOLFIN_EPS)\n",
    "            or (x[0] >= pre_step_length and abs(x[1]) < DOLFIN_EPS)\n",
    "        )\n",
    "\n",
    "\n",
    "class Top(SubDomain):\n",
    "    def inside(self, x, on_boundary):\n",
    "        return on_boundary and abs(x[1] - after_step_height) < DOLFIN_EPS\n",
    "\n",
    "\n",
    "boundaries = MeshFunction(\"size_t\", mesh, mesh.topology().dim() - 1)\n",
    "boundaries.set_all(0)\n",
    "inlet = Inlet()\n",
    "inlet_ID = 1\n",
    "inlet.mark(boundaries, inlet_ID)\n",
    "bottom = Bottom()\n",
    "bottom_ID = 2\n",
    "bottom.mark(boundaries, bottom_ID)\n",
    "top = Top()\n",
    "top_ID = 2\n",
    "top.mark(boundaries, top_ID)"
   ]
  },
  {
   "cell_type": "code",
   "execution_count": null,
   "metadata": {},
   "outputs": [],
   "source": [
    "# Save to xml file\n",
    "File(\"backward_facing_step.xml\") << mesh\n",
    "File(\"backward_facing_step_physical_region.xml\") << subdomains\n",
    "File(\"backward_facing_step_facet_region.xml\") << boundaries\n",
    "XDMFFile(\"backward_facing_step.xdmf\").write(mesh)\n",
    "XDMFFile(\"backward_facing_step_physical_region.xdmf\").write(subdomains)\n",
    "XDMFFile(\"backward_facing_step_facet_region.xdmf\").write(boundaries)"
   ]
  }
 ],
 "metadata": {
  "kernelspec": {
   "display_name": "Python 3",
   "language": "python",
   "name": "python3"
  },
  "language_info": {
   "codemirror_mode": {
    "name": "ipython"
   },
   "file_extension": ".py",
   "mimetype": "text/x-python",
   "name": "python",
   "nbconvert_exporter": "python"
  }
 },
 "nbformat": 4,
 "nbformat_minor": 2
}
