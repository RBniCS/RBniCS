{
 "cells": [
  {
   "cell_type": "markdown",
   "metadata": {},
   "source": [
    "## Tutorial 17 - Navier Stokes equations\n",
    "**_Keywords: exact parametrized functions, supremizer operator_**\n",
    "\n",
    "### 1. Introduction\n",
    "\n",
    "In this tutorial, we will study the Navier-Stokes equations over the two-dimensional backward-facing step domain $\\Omega$ shown below:\n",
    "\n",
    "<img src=\"https://github.com/RBniCS/RBniCS/raw/master/tutorials/17_navier_stokes/data/backward_facing_step.png\" width=\"80%\"/>\n",
    "\n",
    "A Poiseuille flow profile is imposed on the inlet boundary, and a no-flow (zero velocity) condition is imposed on the walls. A homogeneous Neumann condition of the Cauchy stress tensor is applied at the outflow boundary.\n",
    "\n",
    "The inflow velocity boundary condition is characterized by $$\\boldsymbol{u}(\\boldsymbol{x};\\mu)=\\mu\\bigg \\{\\frac{1}{2.25}(x_1-2)(5-x_1),0\\bigg \\} \\quad \\forall \\boldsymbol{x}=(x_0,x_1) \\in \\Omega$$ \n",
    "\n",
    "This problem is characterized by one parameter $\\mu$, which characterizes the inlet velocity. The range of $\\mu$ is the following $$\\mu \\in [1.0, 80.0].$$ \n",
    "\n",
    "Thus, the parameter domain is $$\\mathbb{P}=[1.0,80.0].$$\n",
    "\n",
    "In order to be able to compare the interpolation method (DEIM) used to solve this problem, we pursue an exact model reduction by means of a POD-Galerkin reduced order method.\n"
   ]
  },
  {
   "cell_type": "code",
   "execution_count": null,
   "id": "fenics_installation",
   "metadata": {},
   "outputs": [],
   "source": [
    "# Install FEniCS\n",
    "try:\n",
    "    import dolfin\n",
    "except ImportError:\n",
    "    !wget \"https://fem-on-colab.github.io/releases/fenics-install.sh\" -O \"/tmp/fenics-install.sh\" && bash \"/tmp/fenics-install.sh\"\n",
    "    import dolfin"
   ]
  },
  {
   "cell_type": "code",
   "execution_count": null,
   "id": "rbnics_installation",
   "metadata": {},
   "outputs": [],
   "source": [
    "# Install RBniCS\n",
    "try:\n",
    "    import rbnics\n",
    "except ImportError:\n",
    "    !pip3 install git+https://github.com/RBniCS/RBniCS.git\n",
    "    import rbnics\n",
    "import rbnics.utils.config\n",
    "assert \"dolfin\" in rbnics.utils.config.config.get(\"backends\", \"required backends\")"
   ]
  },
  {
   "cell_type": "code",
   "execution_count": null,
   "id": "auxiliary_files",
   "metadata": {},
   "outputs": [],
   "source": [
    "# Download data files\n",
    "!mkdir -p data\n",
    "![ -f data/backward_facing_step.xml ] || wget https://github.com/RBniCS/RBniCS/raw/master/tutorials/17_navier_stokes/data/backward_facing_step.xml -O data/backward_facing_step.xml\n",
    "![ -f data/backward_facing_step_facet_region.xml ] || wget https://github.com/RBniCS/RBniCS/raw/master/tutorials/17_navier_stokes/data/backward_facing_step_facet_region.xml -O data/backward_facing_step_facet_region.xml\n",
    "![ -f data/backward_facing_step_physical_region.xml ] || wget https://github.com/RBniCS/RBniCS/raw/master/tutorials/17_navier_stokes/data/backward_facing_step_physical_region.xml -O data/backward_facing_step_physical_region.xml"
   ]
  },
  {
   "cell_type": "markdown",
   "metadata": {},
   "source": [
    "### 2. Parametrized formulation\n",
    "\n",
    "Let $\\boldsymbol{u}(\\mu)$ be the velocity vector and $p(\\mu)$ be the pressure in the domain $\\Omega$.\n",
    "\n",
    "We will directly provide a weak formulation for this problem: <center>for a given parameter $\\mu \\in \\mathbb{P},$ find $u(\\mu) \\in \\mathbb{V}(\\mu), \\; p \\in\\mathbb{M}$ such that </center>\n",
    "    \n",
    "<center>\n",
    "    $\n",
    "    \\begin{cases}\n",
    "        \\nu \\int_{\\Omega_o} \\nabla \\boldsymbol{u_o} : \\nabla \\boldsymbol{v_o} \\ d\\Omega + \\int_{\\Omega_o} [(\\boldsymbol{u_o} \\cdot \\nabla) \\boldsymbol{u_o}] \\cdot \\boldsymbol{v_o} \\ d\\Omega - \\int_{\\Omega_o} p_o \\nabla \\cdot \\boldsymbol{v_o} \\ d\\Omega = \\int_{\\Omega_o} \\boldsymbol{f_o} \\cdot \\boldsymbol{v_o} \\ d\\Omega, \\quad \\forall \\boldsymbol{v_o} \\in\\mathbb{V_o},  \\\\\n",
    "        \\int_{\\Omega_o} q_o \\nabla \\cdot \\boldsymbol{u_o} \\ d\\Omega = 0, \\quad \\forall q_o \\in\\mathbb{M_o}\n",
    "    \\end{cases}\n",
    "    $\n",
    "</center>\n",
    "where\n",
    "\n",
    "* $\\nu$ represents kinematic viscosity\n",
    "* the functional space $\\mathbb{V}(\\mu)$ is defined as $\\mathbb{V}=[H^1_{\\Gamma_{wall}}(\\Omega)]^2$\n",
    "* the functional space $\\mathbb{M}(\\mu)$ is defined as $\\mathbb{M}=L^2(\\Omega)$\n",
    "\n",
    "\n",
    "Since this problem utilizes mixed finite element discretization with the velocity and pressure as solution variables, the inf-sup condition is necessary for the well posedness of this problem. Thus, the supremizer operator $T^{\\mu}: \\mathbb{M}_h \\rightarrow \\mathbb{V}_h$ will be used.\n"
   ]
  },
  {
   "cell_type": "code",
   "execution_count": null,
   "metadata": {},
   "outputs": [],
   "source": [
    "from ufl_legacy import transpose\n",
    "from dolfin import *\n",
    "from rbnics import *"
   ]
  },
  {
   "cell_type": "markdown",
   "metadata": {},
   "source": [
    "### 3. Affine Decomposition \n",
    "\n"
   ]
  },
  {
   "cell_type": "code",
   "execution_count": null,
   "metadata": {},
   "outputs": [],
   "source": [
    "@ExactParametrizedFunctions()\n",
    "@PullBackFormsToReferenceDomain()\n",
    "@ShapeParametrization(\n",
    "    (\"x[0]\", \"x[1]\"),  # subdomain 1\n",
    "    (\"x[0]\", \"mu[1] / 2. * x[1] + (2. - mu[1])\"),  # subdomain 2\n",
    ")\n",
    "class NavierStokes(NavierStokesProblem):\n",
    "\n",
    "    # Default initialization of members\n",
    "    def __init__(self, V, **kwargs):\n",
    "        # Call the standard initialization\n",
    "        NavierStokesProblem.__init__(self, V, **kwargs)\n",
    "        # ... and also store FEniCS data structures for assembly\n",
    "        assert \"subdomains\" in kwargs\n",
    "        assert \"boundaries\" in kwargs\n",
    "        self.subdomains, self.boundaries = kwargs[\"subdomains\"], kwargs[\"boundaries\"]\n",
    "        dup = TrialFunction(V)\n",
    "        (self.du, self.dp) = split(dup)\n",
    "        (self.u, _) = split(self._solution)\n",
    "        vq = TestFunction(V)\n",
    "        (self.v, self.q) = split(vq)\n",
    "        self.dx = Measure(\"dx\")(subdomain_data=self.subdomains)\n",
    "        self.ds = Measure(\"ds\")(subdomain_data=self.boundaries)\n",
    "        # ... as well as forcing terms and inlet velocity\n",
    "        self.inlet = Expression((\"1. / 2.25 * (x[1] - 2) * (5 - x[1])\", \"0.\"), degree=2)\n",
    "        self.f = Constant((0.0, 0.0))\n",
    "        self.g = Constant(0.0)\n",
    "        # Customize nonlinear solver parameters\n",
    "        self._nonlinear_solver_parameters.update({\n",
    "            \"linear_solver\": \"mumps\",\n",
    "            \"maximum_iterations\": 20,\n",
    "            \"report\": True\n",
    "        })\n",
    "\n",
    "    # Return custom problem name\n",
    "    def name(self):\n",
    "        return \"NavierStokesExact2\"\n",
    "\n",
    "    # Return theta multiplicative terms of the affine expansion of the problem.\n",
    "    @compute_theta_for_derivatives\n",
    "    @compute_theta_for_supremizers\n",
    "    def compute_theta(self, term):\n",
    "        mu = self.mu\n",
    "        if term == \"a\":\n",
    "            theta_a0 = 1.\n",
    "            return (theta_a0,)\n",
    "        elif term in (\"b\", \"bt\"):\n",
    "            theta_b0 = 1.\n",
    "            return (theta_b0,)\n",
    "        elif term == \"c\":\n",
    "            theta_c0 = 1.\n",
    "            return (theta_c0,)\n",
    "        elif term == \"f\":\n",
    "            theta_f0 = 1.\n",
    "            return (theta_f0,)\n",
    "        elif term == \"g\":\n",
    "            theta_g0 = 1.\n",
    "            return (theta_g0,)\n",
    "        elif term == \"dirichlet_bc_u\":\n",
    "            theta_bc00 = mu[0]\n",
    "            return (theta_bc00,)\n",
    "        else:\n",
    "            raise ValueError(\"Invalid term for compute_theta().\")\n",
    "\n",
    "    # Return forms resulting from the discretization of the affine expansion of the problem operators.\n",
    "    @assemble_operator_for_derivatives\n",
    "    @assemble_operator_for_supremizers\n",
    "    def assemble_operator(self, term):\n",
    "        dx = self.dx\n",
    "        if term == \"a\":\n",
    "            u = self.du\n",
    "            v = self.v\n",
    "            a0 = inner(grad(u) + transpose(grad(u)), grad(v)) * dx\n",
    "            return (a0,)\n",
    "        elif term == \"b\":\n",
    "            u = self.du\n",
    "            q = self.q\n",
    "            b0 = - q * div(u) * dx\n",
    "            return (b0,)\n",
    "        elif term == \"bt\":\n",
    "            p = self.dp\n",
    "            v = self.v\n",
    "            bt0 = - p * div(v) * dx\n",
    "            return (bt0,)\n",
    "        elif term == \"c\":\n",
    "            u = self.u\n",
    "            v = self.v\n",
    "            c0 = inner(grad(u) * u, v) * dx\n",
    "            return (c0,)\n",
    "        elif term == \"f\":\n",
    "            v = self.v\n",
    "            f0 = inner(self.f, v) * dx\n",
    "            return (f0,)\n",
    "        elif term == \"g\":\n",
    "            q = self.q\n",
    "            g0 = self.g * q * dx\n",
    "            return (g0,)\n",
    "        elif term == \"dirichlet_bc_u\":\n",
    "            bc0 = [DirichletBC(self.V.sub(0), self.inlet, self.boundaries, 1),\n",
    "                   DirichletBC(self.V.sub(0), Constant((0.0, 0.0)), self.boundaries, 2)]\n",
    "            return (bc0,)\n",
    "        elif term == \"inner_product_u\":\n",
    "            u = self.du\n",
    "            v = self.v\n",
    "            x0 = inner(grad(u), grad(v)) * dx\n",
    "            return (x0,)\n",
    "        elif term == \"inner_product_p\":\n",
    "            p = self.dp\n",
    "            q = self.q\n",
    "            x0 = inner(p, q) * dx\n",
    "            return (x0,)\n",
    "        else:\n",
    "            raise ValueError(\"Invalid term for assemble_operator().\")\n",
    "\n",
    "\n",
    "# Customize the resulting reduced problem\n",
    "@CustomizeReducedProblemFor(NavierStokesProblem)\n",
    "def CustomizeReducedNavierStokes(ReducedNavierStokes_Base):\n",
    "    class ReducedNavierStokes(ReducedNavierStokes_Base):\n",
    "        def __init__(self, truth_problem, **kwargs):\n",
    "            ReducedNavierStokes_Base.__init__(self, truth_problem, **kwargs)\n",
    "            self._nonlinear_solver_parameters.update({\n",
    "                \"report\": True,\n",
    "                \"line_search\": \"wolfe\"\n",
    "            })\n",
    "\n",
    "    return ReducedNavierStokes"
   ]
  },
  {
   "cell_type": "markdown",
   "metadata": {},
   "source": [
    "## 4. Main program\n",
    "\n",
    "### 4.1. Read the mesh for this problem\n",
    "The mesh was generated by the [data/generate_mesh.ipynb](https://colab.research.google.com/github/RBniCS/RBniCS/blob/open-in-colab/tutorials/17_navier_stokes/data/generate_mesh.ipynb\n",
    ") notebook."
   ]
  },
  {
   "cell_type": "code",
   "execution_count": null,
   "metadata": {},
   "outputs": [],
   "source": [
    "mesh = Mesh(\"data/backward_facing_step.xml\")\n",
    "subdomains = MeshFunction(\"size_t\", mesh, \"data/backward_facing_step_physical_region.xml\")\n",
    "boundaries = MeshFunction(\"size_t\", mesh, \"data/backward_facing_step_facet_region.xml\")"
   ]
  },
  {
   "cell_type": "markdown",
   "metadata": {},
   "source": [
    "### 4.2. Create Finite Element Space (Taylor-Hood P2-P1)"
   ]
  },
  {
   "cell_type": "code",
   "execution_count": null,
   "metadata": {},
   "outputs": [],
   "source": [
    "element_u = VectorElement(\"Lagrange\", mesh.ufl_cell(), 2)\n",
    "element_p = FiniteElement(\"Lagrange\", mesh.ufl_cell(), 1)\n",
    "element = MixedElement(element_u, element_p)\n",
    "V = FunctionSpace(mesh, element, components=[[\"u\", \"s\"], \"p\"])"
   ]
  },
  {
   "cell_type": "markdown",
   "metadata": {},
   "source": [
    "### 4.3. Allocate an object of the NavierStokes class"
   ]
  },
  {
   "cell_type": "code",
   "execution_count": null,
   "metadata": {},
   "outputs": [],
   "source": [
    "problem = NavierStokes(V, subdomains=subdomains, boundaries=boundaries)\n",
    "mu_range = [(1.0, 70.0), (1.5, 2.5)]\n",
    "problem.set_mu_range(mu_range)"
   ]
  },
  {
   "cell_type": "markdown",
   "metadata": {},
   "source": [
    "### 4.4. Prepare reduction with a POD-Galerkin method"
   ]
  },
  {
   "cell_type": "code",
   "execution_count": null,
   "metadata": {},
   "outputs": [],
   "source": [
    "reduction_method = PODGalerkin(problem)\n",
    "reduction_method.set_Nmax(20)"
   ]
  },
  {
   "cell_type": "markdown",
   "metadata": {},
   "source": [
    "### 4.5. Perform the offline phase"
   ]
  },
  {
   "cell_type": "code",
   "execution_count": null,
   "metadata": {},
   "outputs": [],
   "source": [
    "lifting_mu = (1.0, 2.0)\n",
    "problem.set_mu(lifting_mu)\n",
    "reduction_method.initialize_training_set(100, sampling=EquispacedDistribution())\n",
    "reduced_problem = reduction_method.offline()"
   ]
  },
  {
   "cell_type": "markdown",
   "metadata": {},
   "source": [
    "### 4.6. Perform an online solve"
   ]
  },
  {
   "cell_type": "code",
   "execution_count": null,
   "metadata": {},
   "outputs": [],
   "source": [
    "online_mu = (70.0, 1.5)\n",
    "reduced_problem.set_mu(online_mu)\n",
    "reduced_solution = reduced_problem.solve()"
   ]
  },
  {
   "cell_type": "code",
   "execution_count": null,
   "metadata": {},
   "outputs": [],
   "source": [
    "plot(reduced_solution, reduced_problem=reduced_problem, component=\"u\")"
   ]
  },
  {
   "cell_type": "code",
   "execution_count": null,
   "metadata": {},
   "outputs": [],
   "source": [
    "plot(reduced_solution, reduced_problem=reduced_problem, component=\"p\")"
   ]
  },
  {
   "cell_type": "markdown",
   "metadata": {},
   "source": [
    "### 4.7. Perform an error analysis"
   ]
  },
  {
   "cell_type": "code",
   "execution_count": null,
   "metadata": {},
   "outputs": [],
   "source": [
    "reduction_method.initialize_testing_set(36, sampling=EquispacedDistribution())\n",
    "reduction_method.error_analysis()"
   ]
  },
  {
   "cell_type": "markdown",
   "metadata": {},
   "source": [
    "### 4.8. Perform a speedup analysis"
   ]
  },
  {
   "cell_type": "code",
   "execution_count": null,
   "metadata": {},
   "outputs": [],
   "source": [
    "reduction_method.speedup_analysis()"
   ]
  }
 ],
 "metadata": {
  "kernelspec": {
   "display_name": "Python 3",
   "language": "python",
   "name": "python3"
  },
  "language_info": {
   "codemirror_mode": {
    "name": "ipython"
   },
   "file_extension": ".py",
   "mimetype": "text/x-python",
   "name": "python",
   "nbconvert_exporter": "python"
  }
 },
 "nbformat": 4,
 "nbformat_minor": 2
}
