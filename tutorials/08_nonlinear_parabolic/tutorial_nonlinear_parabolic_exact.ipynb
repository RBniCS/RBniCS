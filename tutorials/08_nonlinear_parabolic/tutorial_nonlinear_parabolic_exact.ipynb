{
 "cells": [
  {
   "cell_type": "markdown",
   "metadata": {},
   "source": [
    "## Tutorial 08 - Non linear Parabolic problem\n",
    "**_Keywords: exact parametrized functions, POD-Galerkin_**\n",
    "\n",
    "### 1. Introduction\n",
    "\n",
    "In this tutorial, we consider the FitzHugh-Nagumo (F-N) system. The F-N system is used to describe neuron excitable systems. The nonlinear parabolic problem for the F-N system is defined on the interval $I=[0,L]$. Let $x\\in I$, $t\\geq0$\n",
    "\n",
    "$$\\begin{cases} \n",
    "    \\varepsilon u_t(x,t) =\\varepsilon^2u_{xx}(x,t)+g(u(x,t))-\\omega(x,t)+c, & x\\in I,\\quad t\\geq 0, \\\\\n",
    "    \\omega_t(x,t) =bu(x,t)-\\gamma\\omega(x,t)+c, & x\\in I,\\quad t\\geq 0, \\\\\n",
    "    u(x,0) = 0,\\quad\\omega(x,0)=0, & x\\in I, \\\\\n",
    "    u_x(0,t)=-i_0(t),\\quad u_x(L,t)=0, & t\\geq 0,\n",
    "\\end{cases}$$\n",
    "\n",
    "where the nonlinear function is defined by\n",
    "$$g(u) = u(u-0.1)(1-u)$$\n",
    "\n",
    "and the parameters are given by $L = 1$, $\\varepsilon = 0.015$, $b = 0.5$, $\\gamma = 2$, and $c = 0.05$. The stimulus $i_0(t)=50000t^3\\exp(-15t)$. The variables $u$ and $\\omega$ represent the $\\textit{voltage}$ and the $\\textit{recovery of voltage}$, respectively. \n",
    "\n",
    "In order to obtain an exact solution of the problem we pursue a model reduction by means of a POD-Galerkin reduced order method."
   ]
  },
  {
   "cell_type": "markdown",
   "metadata": {},
   "source": [
    "### 2. Formulation for the F-N system\n",
    "\n",
    "Let $u,\\omega$ the solutions in the domain $I$.\n",
    "\n",
    "For this problem we want to find $\\boldsymbol{u}=(u,\\omega)$ such that\n",
    "\n",
    "$$\n",
    "m\\left(\\partial_t\\boldsymbol{u}(t),\\boldsymbol{v}\\right)+a\\left(\\boldsymbol{u}(t),\\boldsymbol{v}\\right)+c\\left(u(t),v\\right)=f(\\boldsymbol{v})\\quad \\forall \\boldsymbol{v}=(v,\\tilde{v}), \\text{ with }v,\\tilde{v} \\in\\mathbb{V},\\quad\\forall t\\geq0\n",
    "$$\n",
    "\n",
    "\n",
    "\n",
    "where\n",
    "\n",
    "* the function space $\\mathbb{V}$ is defined as\n",
    "$$\n",
    "\\mathbb{V} = \\{v\\in L^2(I) : v|_{\\{0\\}}=0\\}\n",
    "$$\n",
    "* the bilinear form $m(\\cdot, \\cdot): \\mathbb{V} \\times \\mathbb{V} \\to \\mathbb{R}$ is defined by\n",
    "$$m(\\partial\\boldsymbol{u}(t), \\boldsymbol{v})=\\varepsilon\\int_{I}\\frac{\\partial u}{\\partial t}v \\ d\\boldsymbol{x} \\ + \\ \\int_{I}\\frac{\\partial\\omega}{\\partial t}\\tilde{v} \\ d\\boldsymbol{x},$$\n",
    "* the bilinear form $a(\\cdot, \\cdot): \\mathbb{V} \\times \\mathbb{V} \\to \\mathbb{R}$ is defined by\n",
    "$$a(\\boldsymbol{u}(t), \\boldsymbol{v})=\\varepsilon^2\\int_{I} \\nabla u\\cdot \\nabla v \\ d\\boldsymbol{x}+\\int_{I}\\omega v \\ d\\boldsymbol{x} \\ - \\ b\\int_{I} u\\tilde{v} \\ d\\boldsymbol{x}+\\gamma\\int_{I}\\omega\\tilde{v} \\ d\\boldsymbol{x},$$\n",
    "* the bilinear form $c(\\cdot, \\cdot): \\mathbb{V} \\times \\mathbb{V} \\to \\mathbb{R}$ is defined by\n",
    "$$c(u, v)=-\\int_{I} g(u)v \\ d\\boldsymbol{x},$$\n",
    "* the linear form $f(\\cdot): \\mathbb{V} \\to \\mathbb{R}$ is defined by\n",
    "$$f(\\boldsymbol{v})= c\\int_{I}\\left(v+\\tilde{v}\\right) \\ d\\boldsymbol{x} \\ + \\ \\varepsilon^2i_0(t)\\int_{\\{0\\}}v \\ d\\boldsymbol{s}.$$\n",
    "\n",
    "The output of interest $s(t)$ is given by\n",
    "$$s(t) = c\\int_{I}\\left[u(t)+\\omega(t)\\right] \\ d\\boldsymbol{x} \\ + \\ \\varepsilon^2i_0(t)\\int_{\\{0\\}}u(t) \\ d\\boldsymbol{s} $$."
   ]
  },
  {
   "cell_type": "code",
   "execution_count": null,
   "metadata": {},
   "outputs": [],
   "source": [
    "from dolfin import *\n",
    "from rbnics import *\n",
    "from utils import *"
   ]
  },
  {
   "cell_type": "markdown",
   "metadata": {},
   "source": [
    "### 3. Affine Decomposition \n",
    "\n",
    "We set the variables $u:=u_1$, $\\omega:=u_2$ and the test functions $v:=v_1$, $\\tilde{v}:=v_2$.\n",
    "For this problem the affine decomposition is straightforward:\n",
    "    $$m(\\boldsymbol{u},\\boldsymbol{v})=\\underbrace{\\varepsilon}_{\\Theta^{m}_0}\\underbrace{\\int_{I}u_1v_1 \\ d\\boldsymbol{x}}_{m_0(u_1,v_1)} \\ + \\ \\underbrace{1}_{\\Theta^{m}_1}\\underbrace{\\int_{I}u_2v_2 \\ d\\boldsymbol{x}}_{m_1(u_2,v_2)},$$\n",
    "$$a(\\boldsymbol{u},\\boldsymbol{v})=\\underbrace{\\varepsilon^2}_{\\Theta^{a}_0}\\underbrace{\\int_{I}\\nabla u_1 \\cdot \\nabla v_1 \\ d\\boldsymbol{x}}_{a_0(u_1,v_1)} \\ + \\ \\underbrace{1}_{\\Theta^{a}_1}\\underbrace{\\int_{I}u_2v_1 \\ d\\boldsymbol{x}}_{a_1(u_2,v_1)} \\ + \\ \\underbrace{-b}_{\\Theta^{a}_2}\\underbrace{\\int_{I}u_1v_2 \\ d\\boldsymbol{x}}_{a_2(u_1,v_2)} \\ + \\ \\underbrace{\\gamma}_{\\Theta^{a}_3}\\underbrace{\\int_{I}u_2v_2 \\ d\\boldsymbol{x}}_{a_3(u_2,v_2)},$$\n",
    "$$c(u,v)=\\underbrace{-1}_{\\Theta^{c}_0}\\underbrace{\\int_{I}g(u_1)v_1 \\ d\\boldsymbol{x}}_{c_0(u_1,v_1)},$$\n",
    "$$f(\\boldsymbol{v}) = \\underbrace{c}_{\\Theta^{f}_0} \\underbrace{\\int_{I}(v_1 + v_2) \\ d\\boldsymbol{x}}_{f_0(v_1,v_2)} \\ + \\ \\underbrace{\\varepsilon^2i_0(t)}_{\\Theta^{f}_1} \\underbrace{\\int_{\\{0\\}} v_1 \\ d\\boldsymbol{s}}_{f_1(v_1)}.$$\n",
    "We will implement the numerical discretization of the problem in the class\n",
    "```\n",
    "class FitzHughNagumo(NonlinearParabolicProblem):\n",
    "```\n",
    "by specifying the coefficients $\\Theta^{m}_*$, $\\Theta^{a}_*$, $\\Theta^{c}_*$ and $\\Theta^{f}_*$ in the method\n",
    "```\n",
    "    def compute_theta(self, term):\n",
    "```\n",
    "and the bilinear forms $m_*(\\boldsymbol{u}, \\boldsymbol{v})$, $a_*(\\boldsymbol{u}, \\boldsymbol{v})$, $c_*(u, v)$ and linear forms $f_*(\\boldsymbol{v})$ in\n",
    "```\n",
    "    def assemble_operator(self, term):\n",
    "```"
   ]
  },
  {
   "cell_type": "code",
   "execution_count": null,
   "metadata": {},
   "outputs": [],
   "source": [
    "@ExactParametrizedFunctions()\n",
    "class FitzHughNagumo(NonlinearParabolicProblem):\n",
    "\n",
    "    # Default initialization of members\n",
    "    def __init__(self, V, **kwargs):\n",
    "        # Call the standard initialization\n",
    "        NonlinearParabolicProblem.__init__(self, V, **kwargs)\n",
    "        # ... and also store FEniCS data structures for assembly\n",
    "        assert \"subdomains\" in kwargs\n",
    "        assert \"boundaries\" in kwargs\n",
    "        self.subdomains, self.boundaries = kwargs[\"subdomains\"], kwargs[\"boundaries\"]\n",
    "        self.du = TrialFunction(V)\n",
    "        (self.du1, self.du2) = split(self.du)\n",
    "        self.u = self._solution\n",
    "        (self.u1, self.u2) = split(self.u)\n",
    "        self.v = TestFunction(V)\n",
    "        (self.v1, self.v2) = split(self.v)\n",
    "        self.dx = Measure(\"dx\")(subdomain_data=self.subdomains)\n",
    "        self.ds = Measure(\"ds\")(subdomain_data=self.boundaries)\n",
    "        # Problem coefficients\n",
    "        self.epsilon = 0.015\n",
    "        self.b = 0.5\n",
    "        self.gamma = 2\n",
    "        self.c = 0.05\n",
    "        self.i0 = lambda t: 50000 * t**3 * exp(-15 * t)\n",
    "        self.g = lambda v: v * (v - 0.1) * (1 - v)\n",
    "        # Customize time stepping parameters\n",
    "        self._time_stepping_parameters.update({\n",
    "            \"report\": True,\n",
    "            \"snes_solver\": {\n",
    "                \"linear_solver\": \"mumps\",\n",
    "                \"maximum_iterations\": 20,\n",
    "                \"report\": True\n",
    "            }\n",
    "        })\n",
    "\n",
    "    # Return custom problem name\n",
    "    def name(self):\n",
    "        return \"FitzHughNagumoExact\"\n",
    "\n",
    "    # Return theta multiplicative terms of the affine expansion of the problem.\n",
    "    @compute_theta_for_derivatives\n",
    "    def compute_theta(self, term):\n",
    "        if term == \"m\":\n",
    "            theta_m0 = self.epsilon\n",
    "            theta_m1 = 1.\n",
    "            return (theta_m0, theta_m1)\n",
    "        elif term == \"a\":\n",
    "            theta_a0 = self.epsilon**2\n",
    "            theta_a1 = 1.\n",
    "            theta_a2 = - self.b\n",
    "            theta_a3 = self.gamma\n",
    "            return (theta_a0, theta_a1, theta_a2, theta_a3)\n",
    "        elif term == \"c\":\n",
    "            theta_c0 = - 1.\n",
    "            return (theta_c0,)\n",
    "        elif term == \"f\":\n",
    "            t = self.t\n",
    "            theta_f0 = self.c\n",
    "            theta_f1 = self.epsilon**2 * self.i0(t)\n",
    "            return (theta_f0, theta_f1)\n",
    "        elif term == \"s\":\n",
    "            t = self.t\n",
    "            theta_s0 = self.c\n",
    "            theta_s1 = self.epsilon**2 * self.i0(t)\n",
    "            return (theta_s0, theta_s1)\n",
    "        else:\n",
    "            raise ValueError(\"Invalid term for compute_theta().\")\n",
    "\n",
    "    # Return forms resulting from the discretization of the affine expansion of the problem operators.\n",
    "    @assemble_operator_for_derivatives\n",
    "    def assemble_operator(self, term):\n",
    "        (v1, v2) = (self.v1, self.v2)\n",
    "        dx = self.dx\n",
    "        if term == \"m\":\n",
    "            (u1, u2) = (self.du1, self.du2)\n",
    "            m0 = u1 * v1 * dx\n",
    "            m1 = u2 * v2 * dx\n",
    "            return (m0, m1)\n",
    "        elif term == \"a\":\n",
    "            (u1, u2) = (self.du1, self.du2)\n",
    "            a0 = inner(grad(u1), grad(v1)) * dx\n",
    "            a1 = u2 * v1 * dx\n",
    "            a2 = u1 * v2 * dx\n",
    "            a3 = u2 * v2 * dx\n",
    "            return (a0, a1, a2, a3)\n",
    "        elif term == \"c\":\n",
    "            u1 = self.u1\n",
    "            c0 = self.g(u1) * v1 * dx\n",
    "            return (c0,)\n",
    "        elif term == \"f\":\n",
    "            ds = self.ds\n",
    "            f0 = v1 * dx + v2 * dx\n",
    "            f1 = v1 * ds(1)\n",
    "            return (f0, f1)\n",
    "        elif term == \"s\":\n",
    "            (v1, v2) = (self.v1, self.v2)\n",
    "            ds = self.ds\n",
    "            s0 = v1 * dx + v2 * dx\n",
    "            s1 = v1 * ds(1)\n",
    "            return (s0, s1)\n",
    "        elif term == \"inner_product\":\n",
    "            (u1, u2) = (self.du1, self.du2)\n",
    "            x0 = inner(grad(u1), grad(v1)) * dx + u2 * v2 * dx\n",
    "            return (x0,)\n",
    "        else:\n",
    "            raise ValueError(\"Invalid term for assemble_operator().\")\n",
    "\n",
    "\n",
    "# Customize the resulting reduced problem\n",
    "@CustomizeReducedProblemFor(NonlinearParabolicProblem)\n",
    "def CustomizeReducedNonlinearParabolic(ReducedNonlinearParabolic_Base):\n",
    "    class ReducedNonlinearParabolic(ReducedNonlinearParabolic_Base):\n",
    "        def __init__(self, truth_problem, **kwargs):\n",
    "            ReducedNonlinearParabolic_Base.__init__(self, truth_problem, **kwargs)\n",
    "            self._time_stepping_parameters.update({\n",
    "                \"report\": True,\n",
    "                \"nonlinear_solver\": {\n",
    "                    \"report\": True,\n",
    "                    \"line_search\": \"wolfe\"\n",
    "                }\n",
    "            })\n",
    "\n",
    "    return ReducedNonlinearParabolic"
   ]
  },
  {
   "cell_type": "markdown",
   "metadata": {},
   "source": [
    "## 4. Main program\n",
    "\n",
    "### 4.1. Read the mesh for this problem\n",
    "The mesh was generated by the [data/generate_mesh.ipynb](data/generate_mesh.ipynb) notebook."
   ]
  },
  {
   "cell_type": "code",
   "execution_count": null,
   "metadata": {},
   "outputs": [],
   "source": [
    "mesh = Mesh(\"data/interval.xml\")\n",
    "subdomains = MeshFunction(\"size_t\", mesh, \"data/interval_physical_region.xml\")\n",
    "boundaries = MeshFunction(\"size_t\", mesh, \"data/interval_facet_region.xml\")"
   ]
  },
  {
   "cell_type": "markdown",
   "metadata": {},
   "source": [
    "### 4.2. Create Finite Element space (Lagrange P1)"
   ]
  },
  {
   "cell_type": "code",
   "execution_count": null,
   "metadata": {},
   "outputs": [],
   "source": [
    "V = VectorFunctionSpace(mesh, \"Lagrange\", 1, dim=2)"
   ]
  },
  {
   "cell_type": "markdown",
   "metadata": {},
   "source": [
    "### 4.3. Allocate an object of the FitzHughNagumo class"
   ]
  },
  {
   "cell_type": "code",
   "execution_count": null,
   "metadata": {},
   "outputs": [],
   "source": [
    "problem = FitzHughNagumo(V, subdomains=subdomains, boundaries=boundaries)\n",
    "mu_range = []\n",
    "problem.set_mu_range(mu_range)\n",
    "problem.set_time_step_size(0.02)\n",
    "problem.set_final_time(8)"
   ]
  },
  {
   "cell_type": "markdown",
   "metadata": {},
   "source": [
    "### 4.4. Prepare reduction with a POD-Galerkin method"
   ]
  },
  {
   "cell_type": "code",
   "execution_count": null,
   "metadata": {},
   "outputs": [],
   "source": [
    "reduction_method = PODGalerkin(problem)\n",
    "reduction_method.set_Nmax(20)"
   ]
  },
  {
   "cell_type": "markdown",
   "metadata": {},
   "source": [
    "### 4.5. Perform the offline phase"
   ]
  },
  {
   "cell_type": "code",
   "execution_count": null,
   "metadata": {},
   "outputs": [],
   "source": [
    "reduction_method.initialize_training_set(1)\n",
    "reduced_problem = reduction_method.offline()"
   ]
  },
  {
   "cell_type": "markdown",
   "metadata": {},
   "source": [
    "### 4.6. Perform an online solve"
   ]
  },
  {
   "cell_type": "code",
   "execution_count": null,
   "metadata": {},
   "outputs": [],
   "source": [
    "solution_over_time = problem.solve()\n",
    "reduced_solution_over_time = reduced_problem.solve()\n",
    "print(reduced_problem.compute_output())\n",
    "basis_functions = reduced_problem.basis_functions"
   ]
  },
  {
   "cell_type": "code",
   "execution_count": null,
   "metadata": {},
   "outputs": [],
   "source": [
    "plot_phase_space(solution_over_time, reduced_solution_over_time, basis_functions, 0.0)"
   ]
  },
  {
   "cell_type": "code",
   "execution_count": null,
   "metadata": {},
   "outputs": [],
   "source": [
    "plot_phase_space(solution_over_time, reduced_solution_over_time, basis_functions, 0.1)"
   ]
  },
  {
   "cell_type": "code",
   "execution_count": null,
   "metadata": {},
   "outputs": [],
   "source": [
    "plot_phase_space(solution_over_time, reduced_solution_over_time, basis_functions, 0.5)"
   ]
  },
  {
   "cell_type": "markdown",
   "metadata": {},
   "source": [
    "### 4.7. Perform an error analysis"
   ]
  },
  {
   "cell_type": "code",
   "execution_count": null,
   "metadata": {},
   "outputs": [],
   "source": [
    "reduction_method.initialize_testing_set(1)\n",
    "reduction_method.error_analysis()"
   ]
  },
  {
   "cell_type": "markdown",
   "metadata": {},
   "source": [
    "### 4.8. Perform a speedup analysis"
   ]
  },
  {
   "cell_type": "code",
   "execution_count": null,
   "metadata": {},
   "outputs": [],
   "source": [
    "reduction_method.speedup_analysis()"
   ]
  }
 ],
 "metadata": {
  "kernelspec": {
   "display_name": "Python 3",
   "language": "python",
   "name": "python3"
  },
  "language_info": {
   "codemirror_mode": {
    "name": "ipython"
   },
   "file_extension": ".py",
   "mimetype": "text/x-python",
   "name": "python",
   "nbconvert_exporter": "python"
  }
 },
 "nbformat": 4,
 "nbformat_minor": 4
}
