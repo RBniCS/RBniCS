{
 "cells": [
  {
   "cell_type": "code",
   "execution_count": null,
   "id": "fenics_installation",
   "metadata": {},
   "outputs": [],
   "source": [
    "# Install FEniCS\n",
    "try:\n",
    "    import dolfin\n",
    "except ImportError:\n",
    "    !wget \"https://fem-on-colab.github.io/releases/fenics-install-real.sh\" -O \"/tmp/fenics-install.sh\" && bash \"/tmp/fenics-install.sh\"\n",
    "    import dolfin"
   ]
  },
  {
   "cell_type": "code",
   "execution_count": null,
   "id": "rbnics_installation",
   "metadata": {},
   "outputs": [],
   "source": [
    "# Install RBniCS\n",
    "try:\n",
    "    import rbnics\n",
    "except ImportError:\n",
    "    !pip3 install git+https://github.com/RBniCS/RBniCS.git\n",
    "    import rbnics\n",
    "import rbnics.utils.config\n",
    "assert \"dolfin\" in rbnics.utils.config.config.get(\"backends\", \"required backends\")"
   ]
  },
  {
   "cell_type": "code",
   "execution_count": null,
   "metadata": {},
   "outputs": [],
   "source": [
    "from dolfin import *\n",
    "from mshr import *"
   ]
  },
  {
   "cell_type": "code",
   "execution_count": null,
   "metadata": {},
   "outputs": [],
   "source": [
    "# Create mesh\n",
    "domain = Rectangle(Point(0., 0.), Point(1., 1.))\n",
    "for i in range(3):\n",
    "    for j in range(3):\n",
    "        domain.set_subdomain(i + j * 3 + 1, Rectangle(Point(i / 3., j / 3.), Point((i + 1) / 3., (j + 1) / 3.)))\n",
    "mesh = generate_mesh(domain, 32)"
   ]
  },
  {
   "cell_type": "code",
   "execution_count": null,
   "metadata": {},
   "outputs": [],
   "source": [
    "# Create subdomains\n",
    "subdomains = MeshFunction(\"size_t\", mesh, 2, mesh.domains())"
   ]
  },
  {
   "cell_type": "code",
   "execution_count": null,
   "metadata": {},
   "outputs": [],
   "source": [
    "# Create boundaries\n",
    "class Left(SubDomain):\n",
    "    def __init__(self, y_min, y_max):\n",
    "        SubDomain.__init__(self)\n",
    "        self.y_min = y_min\n",
    "        self.y_max = y_max\n",
    "\n",
    "    def inside(self, x, on_boundary):\n",
    "        return on_boundary and abs(x[0] - 0.) < DOLFIN_EPS and x[1] >= self.y_min and x[1] <= self.y_max\n",
    "\n",
    "\n",
    "class Right(SubDomain):\n",
    "    def __init__(self, y_min, y_max):\n",
    "        SubDomain.__init__(self)\n",
    "        self.y_min = y_min\n",
    "        self.y_max = y_max\n",
    "\n",
    "    def inside(self, x, on_boundary):\n",
    "        return on_boundary and abs(x[0] - 1.) < DOLFIN_EPS and x[1] >= self.y_min and x[1] <= self.y_max\n",
    "\n",
    "\n",
    "class Bottom(SubDomain):\n",
    "    def __init__(self, x_min, x_max):\n",
    "        SubDomain.__init__(self)\n",
    "        self.x_min = x_min\n",
    "        self.x_max = x_max\n",
    "\n",
    "    def inside(self, x, on_boundary):\n",
    "        return on_boundary and abs(x[1] - 0.) < DOLFIN_EPS and x[0] >= self.x_min and x[0] <= self.x_max\n",
    "\n",
    "\n",
    "class Top(SubDomain):\n",
    "    def __init__(self, x_min, x_max):\n",
    "        SubDomain.__init__(self)\n",
    "        self.x_min = x_min\n",
    "        self.x_max = x_max\n",
    "\n",
    "    def inside(self, x, on_boundary):\n",
    "        return on_boundary and abs(x[1] - 1.) < DOLFIN_EPS and x[0] >= self.x_min and x[0] <= self.x_max\n",
    "\n",
    "\n",
    "boundaries = MeshFunction(\"size_t\", mesh, mesh.topology().dim() - 1)\n",
    "boundaries.set_all(0)\n",
    "for i in range(3):\n",
    "    left = Left(i / 3., (i + 1) / 3.)\n",
    "    left.mark(boundaries, 6)\n",
    "    top = Top(i / 3., (i + 1) / 3.)\n",
    "    top.mark(boundaries, 5)\n",
    "    right = Right(i / 3., (i + 1) / 3.)\n",
    "    right.mark(boundaries, i + 2)\n",
    "    bottom = Bottom(i / 3., (i + 1) / 3.)\n",
    "    bottom.mark(boundaries, 1)"
   ]
  },
  {
   "cell_type": "code",
   "execution_count": null,
   "metadata": {},
   "outputs": [],
   "source": [
    "# Save\n",
    "File(\"elastic_block.xml\") << mesh\n",
    "File(\"elastic_block_physical_region.xml\") << subdomains\n",
    "File(\"elastic_block_facet_region.xml\") << boundaries\n",
    "XDMFFile(\"elastic_block.xdmf\").write(mesh)\n",
    "XDMFFile(\"elastic_block_physical_region.xdmf\").write(subdomains)\n",
    "XDMFFile(\"elastic_block_facet_region.xdmf\").write(boundaries)"
   ]
  }
 ],
 "metadata": {
  "kernelspec": {
   "display_name": "Python 3",
   "language": "python",
   "name": "python3"
  },
  "language_info": {
   "codemirror_mode": {
    "name": "ipython"
   },
   "file_extension": ".py",
   "mimetype": "text/x-python",
   "name": "python",
   "nbconvert_exporter": "python"
  }
 },
 "nbformat": 4,
 "nbformat_minor": 2
}
