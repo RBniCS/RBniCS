{
 "cells": [
  {
   "attachments": {},
   "cell_type": "markdown",
   "metadata": {},
   "source": [
    "## TUTORIAL 21 - Thermal subfin problem\n",
    "**_Keywords: geometrical parametrization_**\n",
    "\n",
    "### 1. Introduction\n",
    "This Tutorial addresses geometrical parametrization for a steady-state heat transfer problem through a fin (solid material with high thermal conductivity). In particular, we will solve a Laplace problem, which deals with the increase of the heat transfer from surfaces by means of a fluid flowing through the fin $\\Omega_o(\\boldsymbol{\\mu})$ which heats it, and divided into four parts, as in the following picture:\n",
    "\n",
    "<img src=\"data/thermal_subfin.png\" width=\"70%\"/>\n",
    "\n",
    "We impose uniform heat flux at the base of the primary thermal fin, $\\Gamma_{o,1}$, as a model of Joule heating, and we consider Robin boundary conditions on the rest of the fin boundary that model exposition to flowing cooling fluid with zero temperature. On all interior boundaries, $\\Gamma_{o,11,12,13}$, we impose the continuity of temperature and heat flux.\n",
    "\n",
    "This problem is characterized by eight parameters: $\\mu_0$ is related to the width of the primary fin; $\\mu_1$ takes into account the distance from the base of the primary fin to the subfin; $\\mu_2$ is related to the width of the subfin; $\\mu_3$ and $\\mu_4$ control the length of the right and left portion of the subfin respectively; $\\mu_5$ takes into account the isotropic conductivity in the subfin; $\\mu_6$ and $\\mu_7$ are related to the Biot's coefficient for fin/fluid - subfin/fluid respectively.\n",
    "\n",
    "\n",
    "The parameter vector $\\boldsymbol{\\mu}$ is thus given by \n",
    "$$\n",
    "\\boldsymbol{\\mu} = (\\mu_0, \\mu_1, \\mu_2, \\mu_3, \\mu_4, \\mu_5, \\mu_6, \\mu_7)\n",
    "$$\n",
    "on the parameter domain\n",
    "$$\n",
    "\\mathbb{P}=[0.1,0.5] \\times [0.3,0.6] \\times [0.1,0.3] \\times [0.2,1]^2 \\times [0.1,9]^3.\n",
    "$$\n",
    "\n",
    "In order to obtain a faster (yet, provably accurate) approximation of the problem, and avoiding _any_ remeshing, we pursue a model reduction by means of a certified reduced basis reduced order method from a fixed reference domain."
   ]
  },
  {
   "attachments": {},
   "cell_type": "markdown",
   "metadata": {},
   "source": [
    "### 2. Parametrized formulation\n",
    "\n",
    "Let $u_o(\\boldsymbol{\\mu})$ be the temperature in the domain $\\Omega_o(\\mu)$.\n",
    "\n",
    "We will directly provide a weak formulation for this problem: for a given parameter $\\boldsymbol{\\mu}\\in\\mathbb{P}$, find $u_o(\\boldsymbol{\\mu})\\in\\mathbb{V}_o(\\boldsymbol{\\mu})$ such that\n",
    "\n",
    "$$a_o\\left(u_o(\\boldsymbol{\\mu}),v_o;\\boldsymbol{\\mu}\\right)=f_o(v_o;\\boldsymbol{\\mu})\\quad \\forall v_o\\in\\mathbb{V}_o(\\boldsymbol{\\mu})$$\n",
    "\n",
    "where\n",
    "\n",
    "* the function space $\\mathbb{V}_o(\\boldsymbol{\\mu})$ is defined as\n",
    "$$\n",
    "\\mathbb{V}_o(\\boldsymbol{\\mu}) = \\left\\{ v \\in H^1(\\Omega_o(\\boldsymbol{\\mu})) \\right\\}\n",
    "$$\n",
    "Note that the function space is parameter dependent due to the shape variation. \n",
    "* the parametrized bilinear form $a_o(\\cdot, \\cdot; \\boldsymbol{\\mu}): \\mathbb{V}_o(\\boldsymbol{\\mu}) \\times \\mathbb{V}_o(\\boldsymbol{\\mu}) \\to \\mathbb{R}$ is defined by\n",
    "$$\\begin{align*}\n",
    "a_o(u_o(\\boldsymbol{\\mu}), v_o; \\boldsymbol{\\mu}) & =\n",
    "\\int_{\\Omega_{o,1} \\cup\\,\\Omega_{o,2}} \\nabla u_o(\\boldsymbol{\\mu}) \\cdot \\nabla v_o \\ d\\boldsymbol{x} + \\\n",
    "\\mu_5 \\int_{\\Omega_{o,3} \\cup\\,\\Omega_{o,4}} \\nabla u_o(\\boldsymbol{\\mu}) \\cdot \\nabla v_o \\ d\\boldsymbol{x} \\\\ & + \\\n",
    "\\mu_6 \\int_{\\Gamma_{o,2,6,10}} u_o(\\boldsymbol{\\mu}) v_o \\ ds + \\\n",
    "\\mu_7 \\int_{\\Gamma_{o,1,3,4,5,7,8,9}} u_o(\\boldsymbol{\\mu}) v_o \\ ds,\n",
    "\\end{align*},$$\n",
    "* the parametrized linear form $f_o(\\cdot; \\boldsymbol{\\mu}): \\mathbb{V}_o(\\boldsymbol{\\mu}) \\to \\mathbb{R}$ is defined by\n",
    "$$f_o(v_o;\\boldsymbol{\\mu}) = \\int_{\\Gamma_{o,1}} v_o \\ ds.$$"
   ]
  },
  {
   "cell_type": "code",
   "execution_count": null,
   "metadata": {},
   "outputs": [],
   "source": [
    "from dolfin import *\n",
    "from rbnics import *"
   ]
  },
  {
   "attachments": {},
   "cell_type": "markdown",
   "metadata": {},
   "source": [
    "## 3. Affine decomposition\n",
    "\n",
    "In order to obtain an affine decomposition, we recast the problem on a fixed, parameter _independent_, reference domain $\\Omega$. As reference domain which choose the one characterized by $\\bar{\\boldsymbol{\\mu}} = (0.3, 0.4, 0.2, 0.5, 0.5, 1, 1, 1)$ which we generate through the generate_mesh notebook provided in the _data_ folder.\n",
    "Then, we pull back the problem to the reference domain $\\Omega$."
   ]
  },
  {
   "cell_type": "code",
   "execution_count": null,
   "metadata": {},
   "outputs": [],
   "source": [
    "@PullBackFormsToReferenceDomain()\n",
    "@AffineShapeParametrization(\"data/subfin1_vertices_mapping.vmp\")\n",
    "\n",
    "class Subfin(EllipticCoerciveProblem):\n",
    "    # Default initialization of members\n",
    "    def __init__(self, V, **kwargs):\n",
    "        # Call the standard initialization\n",
    "        EllipticCoerciveProblem.__init__(self, V, **kwargs)\n",
    "        assert \"subdomains\" in kwargs\n",
    "        assert \"boundaries\" in kwargs\n",
    "        self.subdomains, self.boundaries = kwargs[\"subdomains\"], kwargs[\"boundaries\"]\n",
    "        self.u = TrialFunction(V)\n",
    "        self.v = TestFunction(V)\n",
    "        self.dx = Measure(\"dx\")(subdomain_data=self.subdomains)\n",
    "        self.ds = Measure(\"ds\")(subdomain_data=self.boundaries)\n",
    "\n",
    "    # Return custom problem name\n",
    "    def name(self):\n",
    "        return \"1StageSubfinPOD\"\n",
    "\n",
    "    # Return theta multiplicative terms of the affine expansion of the problem.\n",
    "    def compute_theta(self, term):\n",
    "        mu=self.mu\n",
    "        if term == \"a\":\n",
    "            theta_a0 = 1.0\n",
    "            theta_a1 = mu[5]\n",
    "            theta_a2 = mu[6]\n",
    "            theta_a3 = mu[7]\n",
    "            return (theta_a0, theta_a1, theta_a2, theta_a3)\n",
    "        elif term == \"f\":\n",
    "            theta_f0 = 1.0\n",
    "            return (theta_f0,)\n",
    "        elif term == \"s\":\n",
    "            theta_s0 = 1.0\n",
    "            return (theta_s0,)\n",
    "        else:\n",
    "            raise ValueError(\"Invalid term for compute_theta().\")\n",
    "\n",
    "    # Return forms resulting from the discretization of the affine expansion of the problem operators.\n",
    "    def assemble_operator(self, term):\n",
    "        u = self.u\n",
    "        v = self.v\n",
    "        dx = self.dx\n",
    "        ds = self.ds\n",
    "        if term == \"a\":\n",
    "            a0 = inner(grad(u),grad(v))*dx(1)+inner(grad(u),grad(v))*dx(2)+inner(grad(u),grad(v))*dx(3)+inner(grad(u),grad(v))*dx(4)\n",
    "            a1 = inner(grad(u),grad(v))*dx(5)+inner(grad(u),grad(v))*dx(6)+inner(grad(u),grad(v))*dx(7)+inner(grad(u),grad(v))*dx(8)\n",
    "            a2 = inner(u,v)*ds(2)+inner(u,v)*ds(6)+inner(u,v)*ds(10)\n",
    "            a3 = inner(u,v)*ds(1)+inner(u,v)*ds(3)+inner(u,v)*ds(4)+inner(u,v)*ds(5)+inner(u,v)*ds(7)+inner(u,v)*ds(8)+inner(u,v)*ds(9)\n",
    "            return(a0, a1, a2, a3)\n",
    "        elif term == \"f\":\n",
    "            f0 = v*ds(1)\n",
    "            return (f0,)\n",
    "        elif term == \"s\":\n",
    "            s0 = v*ds(1)\n",
    "            return (s0,)\n",
    "        elif term == \"inner_product\":\n",
    "            x0 = inner(grad(u), grad(v))*dx + inner(u, v)*dx\n",
    "            return(x0,)\n",
    "        else:\n",
    "            raise ValueError(\"Invalid term for assemble_operator().\")"
   ]
  },
  {
   "cell_type": "markdown",
   "metadata": {},
   "source": [
    "## 4. Main program\n",
    "### 4.1. Read the mesh for this problem\n",
    "The mesh was generated by the [data/generate_mesh_1.ipynb](data/generate_mesh_1.ipynb) notebook."
   ]
  },
  {
   "cell_type": "code",
   "execution_count": null,
   "metadata": {},
   "outputs": [],
   "source": [
    "mesh = Mesh(\"data/subfin1.xml\")\n",
    "subdomains = MeshFunction(\"size_t\", mesh, \"data/subfin1_physical_region.xml\")\n",
    "boundaries = MeshFunction(\"size_t\", mesh, \"data/subfin1_facet_region.xml\")"
   ]
  },
  {
   "cell_type": "markdown",
   "metadata": {},
   "source": [
    "### 4.2. Create Finite Element space (Lagrange P1)"
   ]
  },
  {
   "cell_type": "code",
   "execution_count": null,
   "metadata": {},
   "outputs": [],
   "source": [
    "V = FunctionSpace(mesh, \"Lagrange\", 1)"
   ]
  },
  {
   "attachments": {},
   "cell_type": "markdown",
   "metadata": {},
   "source": [
    "### 4.3. Allocate an object of the Subfin class"
   ]
  },
  {
   "cell_type": "code",
   "execution_count": null,
   "metadata": {},
   "outputs": [],
   "source": [
    "problem = Subfin(V, subdomains=subdomains, boundaries=boundaries)\n",
    "mu_range = [\n",
    "    (0.1, 0.5),\n",
    "    (0.3, 0.6),\n",
    "    (0.1, 0.3),\n",
    "    (0.2, 1),\n",
    "    (0.2, 1),\n",
    "    (0.1, 9),\n",
    "    (0.1, 9),\n",
    "    (0.1, 9)\n",
    "]\n",
    "problem.set_mu_range(mu_range)"
   ]
  },
  {
   "cell_type": "markdown",
   "metadata": {},
   "source": [
    "### 4.4. Prepare reduction with a reduced basis method"
   ]
  },
  {
   "cell_type": "code",
   "execution_count": null,
   "metadata": {},
   "outputs": [],
   "source": [
    "reduction_method = PODGalerkin(problem)\n",
    "reduction_method.set_Nmax(50)\n",
    "reduction_method.set_tolerance(1e-4)"
   ]
  },
  {
   "cell_type": "markdown",
   "metadata": {},
   "source": [
    "### 4.5. Perform the offline phase"
   ]
  },
  {
   "cell_type": "code",
   "execution_count": null,
   "metadata": {},
   "outputs": [],
   "source": [
    "reduction_method.initialize_training_set(100)\n",
    "reduced_problem = reduction_method.offline()"
   ]
  },
  {
   "cell_type": "markdown",
   "metadata": {},
   "source": [
    "### 4.6. Perform an online solve"
   ]
  },
  {
   "cell_type": "code",
   "execution_count": null,
   "metadata": {},
   "outputs": [],
   "source": [
    "online_mu = (0.32, 0.31, 0.17, 0.51, 0.72, 3.93, 8.03, 3.77)\n",
    "reduced_problem.set_mu(online_mu)\n",
    "reduced_solution = reduced_problem.solve()\n",
    "plot(reduced_solution, reduced_problem=reduced_problem)"
   ]
  },
  {
   "cell_type": "markdown",
   "metadata": {},
   "source": [
    "### 4.7. Perform an error analysis"
   ]
  },
  {
   "cell_type": "code",
   "execution_count": null,
   "metadata": {},
   "outputs": [],
   "source": [
    "reduction_method.initialize_testing_set(100)\n",
    "reduction_method.error_analysis(filename=\"error_analysis\")"
   ]
  },
  {
   "cell_type": "markdown",
   "metadata": {},
   "source": [
    "### 4.8. Perform a speedup analysis"
   ]
  },
  {
   "cell_type": "code",
   "execution_count": null,
   "metadata": {},
   "outputs": [],
   "source": [
    "reduction_method.speedup_analysis(filename=\"speedup_analysis\")"
   ]
  },
  {
   "attachments": {},
   "cell_type": "markdown",
   "metadata": {},
   "source": [
    "### 5. Assignments"
   ]
  },
  {
   "attachments": {},
   "cell_type": "markdown",
   "metadata": {},
   "source": [
    "\n",
    "1. Assume now also the conductivity on $\\Omega_{o,1}\\cup\\Omega_{o,2}$ to be paramerized, i.e.\\\n",
    "$$\n",
    "\\kappa(\\mu_5, \\mu_8) =\n",
    "\\begin{cases}\n",
    "\\mu_8 & \\text{in } \\Omega_{o,1}\\cup\\Omega_{o,2},\\\\\n",
    "\\mu_5 & \\text{in } \\Omega_{o,3}\\cup\\Omega_{o,4},\\\\\n",
    "\\end{cases}, \\quad \\text{for} \\quad\n",
    "\\boldsymbol{\\mu} = (\\mu_5, \\mu_8)\\in[0.1,9]^2.\n",
    "$$\n",
    "Repeat the worked out problem in this case.\n",
    "\n",
    "2. Use a RB method instead of a POD-Galerkin, employing the Successive Constraint Method (SCM) in the computation of a lower bound of the coercivity constant. Compare the results of the error analysis and speedup analysis to the ones obtained here."
   ]
  }
 ],
 "metadata": {
  "kernelspec": {
   "display_name": "fenicsproject",
   "language": "python",
   "name": "python3"
  },
  "language_info": {
   "codemirror_mode": {
    "name": "ipython",
    "version": 3
   },
   "file_extension": ".py",
   "mimetype": "text/x-python",
   "name": "python",
   "nbconvert_exporter": "python",
   "pygments_lexer": "ipython3",
   "version": "3.10.8"
  },
  "vscode": {
   "interpreter": {
    "hash": "350886dd400890bdab5bb475c6063c29c7de30eb69ba1c0ec092516149a9f42d"
   }
  }
 },
 "nbformat": 4,
 "nbformat_minor": 2
}
