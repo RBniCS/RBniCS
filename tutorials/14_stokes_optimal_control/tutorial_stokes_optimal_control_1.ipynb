{
 "cells": [
  {
   "cell_type": "markdown",
   "metadata": {},
   "source": [
    "## TUTORIAL 14 - Stokes Optimal Control\n",
    "*__Keywords: distributed optimal control, geometrical parametrization, inf-sup condition, POD-Galerkin__*\n",
    "\n",
    "### 1. Introduction\n",
    "\n",
    "In this tutorial, we consider a distributed optimal control problem for a Couette flow using the Stokes equations in a two-dimensional domain $\\Omega_o(\\boldsymbol{\\mu})$ shown below:\n",
    "\n",
    "<img src=\"https://github.com/RBniCS/RBniCS/raw/master/tutorials/14_stokes_optimal_control/data/mesh1.png\" width=\"50%\"/>\n",
    "\n",
    "The problem is characterized by two parameters, $\\mu_0$ and $\\mu_1$. The first parameter, $\\mu_0$, is a geometrical parameter that describes the channel length where $\\mu_0 \\in [0.5,2]$. The second parameter, $\\mu_1$, is a physical parameter in the forcing term of the state equation where $\\mu_1 \\in [0.5,1.5]$. \n",
    "\n",
    "Thus, the parameter vector $\\boldsymbol{\\mu}$ is given by: $$\\boldsymbol{\\mu}=(\\mu_0,\\mu_1)$$ on the parameter domain $$\\mathbb{P}=[0.5,2] \\times [0.5,1.5].$$\n",
    "\n",
    "In order to obtain a faster approximation of the optimal control problem, without any remeshing, we pursue an optimize-then-discretize approach using the POD-Galerkin method from a fixed, parameter-independent reference domain $\\Omega$."
   ]
  },
  {
   "cell_type": "code",
   "execution_count": null,
   "id": "fenics_installation",
   "metadata": {},
   "outputs": [],
   "source": [
    "# Install FEniCS\n",
    "try:\n",
    "    import dolfin\n",
    "except ImportError:\n",
    "    !wget \"https://fem-on-colab.github.io/releases/fenics-install-real.sh\" -O \"/tmp/fenics-install.sh\" && bash \"/tmp/fenics-install.sh\"\n",
    "    import dolfin"
   ]
  },
  {
   "cell_type": "code",
   "execution_count": null,
   "id": "rbnics_installation",
   "metadata": {},
   "outputs": [],
   "source": [
    "# Install RBniCS\n",
    "try:\n",
    "    import rbnics\n",
    "except ImportError:\n",
    "    !pip3 install git+https://github.com/RBniCS/RBniCS.git\n",
    "    import rbnics\n",
    "import rbnics.utils.config\n",
    "assert \"dolfin\" in rbnics.utils.config.config.get(\"backends\", \"required backends\")"
   ]
  },
  {
   "cell_type": "code",
   "execution_count": null,
   "id": "auxiliary_files",
   "metadata": {},
   "outputs": [],
   "source": [
    "# Download data files\n",
    "!mkdir -p data\n",
    "![ -f data/mesh1.xml ] || wget https://github.com/RBniCS/RBniCS/raw/master/tutorials/14_stokes_optimal_control/data/mesh1.xml -O data/mesh1.xml\n",
    "![ -f data/mesh1_facet_region.xml ] || wget https://github.com/RBniCS/RBniCS/raw/master/tutorials/14_stokes_optimal_control/data/mesh1_facet_region.xml -O data/mesh1_facet_region.xml\n",
    "![ -f data/mesh1_physical_region.xml ] || wget https://github.com/RBniCS/RBniCS/raw/master/tutorials/14_stokes_optimal_control/data/mesh1_physical_region.xml -O data/mesh1_physical_region.xml"
   ]
  },
  {
   "cell_type": "markdown",
   "metadata": {},
   "source": [
    "### 2. Parametrized formulation\n",
    "\n",
    "Let $\\boldsymbol{v_o}(\\boldsymbol{\\mu})$ represent the velocity field in the channel, $p_o(\\boldsymbol{\\mu})$ represent the pressure in the domain $\\Omega_o(\\boldsymbol{\\mu})$. Let $\\boldsymbol{u}(\\boldsymbol{\\mu})$ characterize the control vector-valued function.\n",
    "\n",
    "Consider the following optimal control problem:\n",
    "$$\n",
    "\\underset{\\boldsymbol{u}_o \\in U_o}{min} \\; J(\\boldsymbol{v_o}(\\boldsymbol{\\mu}), p_o(\\boldsymbol{\\mu}), \\boldsymbol{u_o}(\\boldsymbol{\\mu})) = \\frac{1}{2} \\left\\lVert v_{o1}(\\boldsymbol{\\mu}) - x_{o2} \\right\\rVert^2_{L^2(\\Omega_o)} + \\frac{\\alpha}{2} \\left\\lVert \\boldsymbol{u_o}(\\boldsymbol{\\mu}) \\right\\rVert^2_{L^2(\\Omega_o)}\n",
    "$$\n",
    "\n",
    "$$ \n",
    "\\text{s.t.} \n",
    "\\begin{cases}\n",
    "    -\\nu \\Delta \\boldsymbol{v}_o + \\nabla p_o =  \\boldsymbol{f}_o(\\boldsymbol{\\mu}) + \\boldsymbol{u}_o \\qquad \\quad \\text{in} \\; \\Omega_o(\\boldsymbol{\\mu}) \\\\\n",
    "    \\text{div} \\, \\boldsymbol{v}_o = 0 \\qquad \\qquad \\qquad \\qquad \\quad \\; \\text{in} \\; \\Omega_o(\\boldsymbol{\\mu}) \\\\\n",
    "    v_{o1} = x_{o2}, v_{o2} = 0 \\qquad \\qquad \\qquad \\; \\, \\text{on} \\; \\Gamma_D^o(\\boldsymbol{\\mu}) \\\\\n",
    "    -p_o \\boldsymbol{n}_{o1} + \\nu \\frac{\\partial v_{o1}}{\\partial \\boldsymbol{n}_{o1}} = 0, v_{o2}=0 \\qquad \\; \\, \\, \\text{on} \\;\\Gamma_N^o(\\boldsymbol{\\mu})\n",
    "\\end{cases}\n",
    "$$\n",
    "\n",
    "where\n",
    "* $\\nu$ represents kinematic viscosity\n",
    "* the forcing term is given by $\\boldsymbol{f}_o(\\boldsymbol{\\mu}) = (0, -\\mu_1)$\n",
    "* we observe only the first component of the velocity observation function, which is equal to $x_{o2}$\n",
    "* the velocity space is defined as $\\mathbb{V}_o = [H^1_{\\Gamma_D}(\\Omega_o)]^2$\n",
    "* the pressure space is defined as $\\mathbb{M}_o = L^2(\\Omega_o)$ \n",
    "* the state space is defined as $\\mathbb{Y}_o = \\mathbb{V}_o \\times \\mathbb{M}_o$ \n",
    "* the adjoint space is defined as $\\mathbb{Q}_o = \\mathbb{Y}_o$ \n",
    "* the control space is defined as $\\mathbb{U}_o = [L^2(\\Omega_o)]^2$\n",
    "\n",
    "The corresponding weak formulation of the optimal control problem is derived from solving the respective Lagrangian functionals for each equation in the system. Let $\\boldsymbol{w}$ and $q$ represent the Lagrange multiplier for the functional involving the equation of motion of flow and incompressibility constraint, respectively. \n",
    "\n",
    "Solving the problem\n",
    "\n",
    "$$\n",
    "\\text{find} \\; (\\boldsymbol{v}_o, p_o, \\boldsymbol{w}_o, \\boldsymbol{u}_o) \\in \\mathbb{Y} \\times \\mathbb{Q} \\times \\mathbb{U} \\, : \\\\ \\nabla L_{o1}(\\boldsymbol{v}_o, p_o, \\boldsymbol{w}_o, \\boldsymbol{u}_o)[\\boldsymbol{\\psi},\\pi,\\boldsymbol{\\phi},\\boldsymbol{\\tau}] = 0 \\quad \\forall (\\boldsymbol{\\psi},\\pi,\\boldsymbol{\\phi},\\boldsymbol{\\tau}) \\in \\mathbb{Y} \\times \\mathbb{Q} \\times \\mathbb{U} \n",
    "$$\n",
    "\n",
    "and \n",
    "\n",
    "$$\n",
    "\\text{find} \\; (\\boldsymbol{v}_o, q_o, \\boldsymbol{u}_o) \\in \\mathbb{Y} \\times \\mathbb{U} \\, : \\\\ \\nabla L_{o2}(\\boldsymbol{v}_o, q_o, \\boldsymbol{u}_o)[\\boldsymbol{\\psi},\\xi,\\boldsymbol{\\tau}] = 0 \\quad \\forall (\\boldsymbol{\\psi},\\xi,\\boldsymbol{\\tau}) \\in \\mathbb{Y} \\times \\mathbb{U} \n",
    "$$\n",
    "\n",
    "gives the weak formulation:\n",
    "$$\n",
    "\\begin{cases}\n",
    "    L_{o1,\\boldsymbol{v}} = m_o(\\boldsymbol{v}_o,\\boldsymbol{\\psi}_o) - g_o(\\boldsymbol{v_d}, \\boldsymbol{\\psi}_o) - a^*_o(\\boldsymbol{w}_o,\\boldsymbol{\\psi}_o) \\\\\n",
    "    L_{o1,p} = b^*_o(\\pi_o, \\boldsymbol{w}_o) \\\\\n",
    "    L_{o1,\\boldsymbol{w}} = -a_o(\\boldsymbol{v}_o,\\boldsymbol{\\phi}_o)+ b^T_o(p_o, \\boldsymbol{phi}_o) + f_o(\\boldsymbol{\\phi}_o) + c_o(\\boldsymbol{u}_o,\\boldsymbol{\\phi}_o) \\\\\n",
    "    L_{o1, \\boldsymbol{u}} = \\alpha n_o(\\boldsymbol{u}_o,\\boldsymbol{\\tau}_o) + c^*_o(\\boldsymbol{\\tau}_o,\\boldsymbol{w}_o) \\\\\n",
    "    L_{o2, \\boldsymbol{v}} = m_o(\\boldsymbol{v}_o,\\boldsymbol{\\psi}_o) - g_o(\\boldsymbol{v_d}, \\boldsymbol{\\psi}_o) + b^{*T}_o(q_o, \\boldsymbol{\\psi}_o) \\\\\n",
    "    L_{o2, q} = b_o(\\xi_o, \\boldsymbol{v}_o) \\\\\n",
    "\\end{cases}\n",
    "$$\n",
    "\n"
   ]
  },
  {
   "cell_type": "code",
   "execution_count": null,
   "metadata": {},
   "outputs": [],
   "source": [
    "from dolfin import *\n",
    "from rbnics import *"
   ]
  },
  {
   "cell_type": "markdown",
   "metadata": {},
   "source": [
    "### 3. Affine Decomposition\n",
    "\n",
    "In order to obtain an affine decomposition, we recast the problem on a fixed, parameter independent, reference domain Ω. We choose the reference domain characterized by $\\boldsymbol{\\mu}_{ref}=(1,1)$ which we generate through the generate_mesh notebook provided in the data folder."
   ]
  },
  {
   "cell_type": "code",
   "execution_count": null,
   "metadata": {},
   "outputs": [],
   "source": [
    "@PullBackFormsToReferenceDomain()\n",
    "@ShapeParametrization(\n",
    "    (\"x[0]\", \"mu[0] * x[1]\"),  # subdomain 1\n",
    ")\n",
    "class StokesOptimalControl(StokesOptimalControlProblem):\n",
    "\n",
    "    # Default initialization of members\n",
    "    def __init__(self, V, **kwargs):\n",
    "        # Call the standard initialization\n",
    "        StokesOptimalControlProblem.__init__(self, V, **kwargs)\n",
    "        # ... and also store FEniCS data structures for assembly\n",
    "        assert \"subdomains\" in kwargs\n",
    "        assert \"boundaries\" in kwargs\n",
    "        self.subdomains, self.boundaries = kwargs[\"subdomains\"], kwargs[\"boundaries\"]\n",
    "        trial = TrialFunction(V)\n",
    "        (self.v, self.p, self.u, self.w, self.q) = split(trial)\n",
    "        test = TestFunction(V)\n",
    "        (self.psi, self.pi, self.tau, self.phi, self.xi) = split(test)\n",
    "        self.dx = Measure(\"dx\")(subdomain_data=subdomains)\n",
    "        self.ds = Measure(\"ds\")(subdomain_data=boundaries)\n",
    "        # Regularization coefficient\n",
    "        self.alpha = 0.008\n",
    "        # Constant viscosity\n",
    "        self.nu = 0.1\n",
    "        # Desired velocity\n",
    "        self.vx_d = Expression(\"x[1]\", degree=1)\n",
    "        # Customize linear solver parameters\n",
    "        self._linear_solver_parameters.update({\n",
    "            \"linear_solver\": \"mumps\"\n",
    "        })\n",
    "\n",
    "    # Return custom problem name\n",
    "    def name(self):\n",
    "        return \"StokesOptimalControl1\"\n",
    "\n",
    "    # Return theta multiplicative terms of the affine expansion of the problem.\n",
    "    @compute_theta_for_supremizers\n",
    "    def compute_theta(self, term):\n",
    "        mu = self.mu\n",
    "        if term in (\"a\", \"a*\"):\n",
    "            theta_a0 = self.nu * 1.0\n",
    "            return (theta_a0,)\n",
    "        elif term in (\"b\", \"b*\", \"bt\", \"bt*\"):\n",
    "            theta_b0 = 1.0\n",
    "            return (theta_b0,)\n",
    "        elif term in (\"c\", \"c*\"):\n",
    "            theta_c0 = 1.0\n",
    "            return (theta_c0,)\n",
    "        elif term == \"m\":\n",
    "            theta_m0 = 1.0\n",
    "            return (theta_m0,)\n",
    "        elif term == \"n\":\n",
    "            theta_n0 = self.alpha * 1.0\n",
    "            return (theta_n0,)\n",
    "        elif term == \"f\":\n",
    "            theta_f0 = - mu[1]\n",
    "            return (theta_f0,)\n",
    "        elif term == \"g\":\n",
    "            theta_g0 = 1.0\n",
    "            return (theta_g0,)\n",
    "        elif term == \"l\":\n",
    "            theta_l0 = 1.0\n",
    "            return (theta_l0,)\n",
    "        elif term == \"h\":\n",
    "            theta_h0 = 1.0\n",
    "            return (theta_h0,)\n",
    "        elif term == \"dirichlet_bc_v\":\n",
    "            theta_bc0 = mu[0]\n",
    "            return (theta_bc0,)\n",
    "        else:\n",
    "            raise ValueError(\"Invalid term for compute_theta().\")\n",
    "\n",
    "    # Return forms resulting from the discretization of the affine expansion of the problem operators.\n",
    "    @assemble_operator_for_supremizers\n",
    "    def assemble_operator(self, term):\n",
    "        dx = self.dx\n",
    "        if term == \"a\":\n",
    "            v = self.v\n",
    "            phi = self.phi\n",
    "            a0 = inner(grad(v), grad(phi)) * dx\n",
    "            return (a0,)\n",
    "        elif term == \"a*\":\n",
    "            psi = self.psi\n",
    "            w = self.w\n",
    "            as0 = inner(grad(w), grad(psi)) * dx\n",
    "            return (as0,)\n",
    "        elif term == \"b\":\n",
    "            xi = self.xi\n",
    "            v = self.v\n",
    "            b0 = - xi * div(v) * dx\n",
    "            return (b0,)\n",
    "        elif term == \"bt\":\n",
    "            p = self.p\n",
    "            phi = self.phi\n",
    "            bt0 = - p * div(phi) * dx\n",
    "            return (bt0,)\n",
    "        elif term == \"b*\":\n",
    "            pi = self.pi\n",
    "            w = self.w\n",
    "            bs0 = - pi * div(w) * dx\n",
    "            return (bs0,)\n",
    "        elif term == \"bt*\":\n",
    "            q = self.q\n",
    "            psi = self.psi\n",
    "            bts0 = - q * div(psi) * dx\n",
    "            return (bts0,)\n",
    "        elif term == \"c\":\n",
    "            u = self.u\n",
    "            phi = self.phi\n",
    "            c0 = inner(u, phi) * dx\n",
    "            return (c0,)\n",
    "        elif term == \"c*\":\n",
    "            tau = self.tau\n",
    "            w = self.w\n",
    "            cs0 = inner(tau, w) * dx\n",
    "            return (cs0,)\n",
    "        elif term == \"m\":\n",
    "            v = self.v\n",
    "            psi = self.psi\n",
    "            m0 = v[0] * psi[0] * dx\n",
    "            return (m0,)\n",
    "        elif term == \"n\":\n",
    "            u = self.u\n",
    "            tau = self.tau\n",
    "            n0 = inner(u, tau) * dx\n",
    "            return (n0,)\n",
    "        elif term == \"f\":\n",
    "            phi = self.phi\n",
    "            f0 = phi[1] * dx\n",
    "            return (f0,)\n",
    "        elif term == \"g\":\n",
    "            psi = self.psi\n",
    "            vx_d = self.vx_d\n",
    "            g0 = vx_d * psi[0] * dx\n",
    "            return (g0,)\n",
    "        elif term == \"l\":\n",
    "            xi = self.xi\n",
    "            l0 = Constant(0.0) * xi * dx\n",
    "            return (l0,)\n",
    "        elif term == \"h\":\n",
    "            vx_d = self.vx_d\n",
    "            h0 = vx_d * vx_d * dx(domain=mesh)\n",
    "            return (h0,)\n",
    "        elif term == \"dirichlet_bc_v\":\n",
    "            bc0 = [DirichletBC(self.V.sub(\"v\").sub(0), self.vx_d, self.boundaries, 1),\n",
    "                   DirichletBC(self.V.sub(\"v\").sub(1), Constant(0.0), self.boundaries, 1)]\n",
    "            return (bc0,)\n",
    "        elif term == \"dirichlet_bc_w\":\n",
    "            bc0 = [DirichletBC(self.V.sub(\"w\"), Constant((0.0, 0.0)), self.boundaries, 1)]\n",
    "            return (bc0,)\n",
    "        elif term == \"inner_product_v\":\n",
    "            v = self.v\n",
    "            psi = self.psi\n",
    "            x0 = inner(grad(v), grad(psi)) * dx\n",
    "            return (x0,)\n",
    "        elif term == \"inner_product_p\":\n",
    "            p = self.p\n",
    "            pi = self.pi\n",
    "            x0 = p * pi * dx\n",
    "            return (x0,)\n",
    "        elif term == \"inner_product_u\":\n",
    "            u = self.u\n",
    "            tau = self.tau\n",
    "            x0 = inner(u, tau) * dx\n",
    "            return (x0,)\n",
    "        elif term == \"inner_product_w\":\n",
    "            w = self.w\n",
    "            phi = self.phi\n",
    "            x0 = inner(grad(w), grad(phi)) * dx\n",
    "            return (x0,)\n",
    "        elif term == \"inner_product_q\":\n",
    "            q = self.q\n",
    "            xi = self.xi\n",
    "            x0 = q * xi * dx\n",
    "            return (x0,)\n",
    "        else:\n",
    "            raise ValueError(\"Invalid term for assemble_operator().\")"
   ]
  },
  {
   "cell_type": "markdown",
   "metadata": {},
   "source": [
    "## 4. Main Program\n",
    "\n",
    "### 4.1. Read the mesh for this problem\n",
    "The mesh was generated by the [data/generate_mesh.ipynb](https://colab.research.google.com/github/RBniCS/RBniCS/blob/open-in-colab/tutorials/14_stokes_optimal_control/data/generate_mesh.ipynb\n",
    ") notebook."
   ]
  },
  {
   "cell_type": "code",
   "execution_count": null,
   "metadata": {},
   "outputs": [],
   "source": [
    "mesh = Mesh(\"data/mesh1.xml\")\n",
    "subdomains = MeshFunction(\"size_t\", mesh, \"data/mesh1_physical_region.xml\")\n",
    "boundaries = MeshFunction(\"size_t\", mesh, \"data/mesh1_facet_region.xml\")"
   ]
  },
  {
   "cell_type": "markdown",
   "metadata": {},
   "source": [
    "### 4.2. Create Finite Element space (P2-P1 Taylor-Hood)"
   ]
  },
  {
   "cell_type": "code",
   "execution_count": null,
   "metadata": {},
   "outputs": [],
   "source": [
    "velocity_element = VectorElement(\"Lagrange\", mesh.ufl_cell(), 2)\n",
    "pressure_element = FiniteElement(\"Lagrange\", mesh.ufl_cell(), 1)\n",
    "element = MixedElement(velocity_element, pressure_element, velocity_element, velocity_element, pressure_element)\n",
    "V = FunctionSpace(mesh, element, components=[[\"v\", \"s\"], \"p\", \"u\", [\"w\", \"r\"], \"q\"])"
   ]
  },
  {
   "cell_type": "markdown",
   "metadata": {},
   "source": [
    "### 4.3. Allocate an object of the StokesOptimalControl class"
   ]
  },
  {
   "cell_type": "code",
   "execution_count": null,
   "metadata": {},
   "outputs": [],
   "source": [
    "problem = StokesOptimalControl(V, subdomains=subdomains, boundaries=boundaries)\n",
    "mu_range = [(0.5, 2.0), (0.5, 1.5)]\n",
    "problem.set_mu_range(mu_range)"
   ]
  },
  {
   "cell_type": "markdown",
   "metadata": {},
   "source": [
    "### 4.4. Prepare reduction with POD-Galerkin method"
   ]
  },
  {
   "cell_type": "code",
   "execution_count": null,
   "metadata": {},
   "outputs": [],
   "source": [
    "pod_galerkin_method = PODGalerkin(problem)\n",
    "pod_galerkin_method.set_Nmax(10)"
   ]
  },
  {
   "cell_type": "markdown",
   "metadata": {},
   "source": [
    "### 4.5. Perform the offline phase"
   ]
  },
  {
   "cell_type": "code",
   "execution_count": null,
   "metadata": {},
   "outputs": [],
   "source": [
    "lifting_mu = (1.0, 1.0)\n",
    "problem.set_mu(lifting_mu)\n",
    "pod_galerkin_method.initialize_training_set(100)\n",
    "reduced_problem = pod_galerkin_method.offline()"
   ]
  },
  {
   "cell_type": "markdown",
   "metadata": {},
   "source": [
    "### 4.6. Perform an online solve"
   ]
  },
  {
   "cell_type": "code",
   "execution_count": null,
   "metadata": {},
   "outputs": [],
   "source": [
    "online_mu = (1.7, 1.5)\n",
    "reduced_problem.set_mu(online_mu)\n",
    "reduced_solution = reduced_problem.solve()\n",
    "print(\"Reduced output for mu =\", online_mu, \"is\", reduced_problem.compute_output())"
   ]
  },
  {
   "cell_type": "code",
   "execution_count": null,
   "metadata": {},
   "outputs": [],
   "source": [
    "plot(reduced_solution, reduced_problem=reduced_problem, component=\"v\")"
   ]
  },
  {
   "cell_type": "code",
   "execution_count": null,
   "metadata": {},
   "outputs": [],
   "source": [
    "plot(reduced_solution, reduced_problem=reduced_problem, component=\"p\")"
   ]
  },
  {
   "cell_type": "code",
   "execution_count": null,
   "metadata": {},
   "outputs": [],
   "source": [
    "plot(reduced_solution, reduced_problem=reduced_problem, component=\"u\")"
   ]
  },
  {
   "cell_type": "code",
   "execution_count": null,
   "metadata": {},
   "outputs": [],
   "source": [
    "plot(reduced_solution, reduced_problem=reduced_problem, component=\"w\")"
   ]
  },
  {
   "cell_type": "code",
   "execution_count": null,
   "metadata": {},
   "outputs": [],
   "source": [
    "plot(reduced_solution, reduced_problem=reduced_problem, component=\"q\")"
   ]
  },
  {
   "cell_type": "markdown",
   "metadata": {},
   "source": [
    "### 4.7. Perform an error analysis"
   ]
  },
  {
   "cell_type": "code",
   "execution_count": null,
   "metadata": {},
   "outputs": [],
   "source": [
    "pod_galerkin_method.initialize_testing_set(100)\n",
    "pod_galerkin_method.error_analysis()"
   ]
  },
  {
   "cell_type": "markdown",
   "metadata": {},
   "source": [
    "### 4.8. Perform a speedup analysis"
   ]
  },
  {
   "cell_type": "code",
   "execution_count": null,
   "metadata": {},
   "outputs": [],
   "source": [
    "pod_galerkin_method.speedup_analysis()"
   ]
  }
 ],
 "metadata": {
  "kernelspec": {
   "display_name": "Python 3",
   "language": "python",
   "name": "python3"
  },
  "language_info": {
   "codemirror_mode": {
    "name": "ipython"
   },
   "file_extension": ".py",
   "mimetype": "text/x-python",
   "name": "python",
   "nbconvert_exporter": "python"
  }
 },
 "nbformat": 4,
 "nbformat_minor": 2
}
