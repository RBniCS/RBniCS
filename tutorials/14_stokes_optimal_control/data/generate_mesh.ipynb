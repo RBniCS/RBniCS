{
 "cells": [
  {
   "cell_type": "code",
   "execution_count": null,
   "id": "fenics_installation",
   "metadata": {},
   "outputs": [],
   "source": [
    "# Install FEniCS\n",
    "try:\n",
    "    import dolfin\n",
    "except ImportError:\n",
    "    !wget \"https://fem-on-colab.github.io/releases/fenics-install-real.sh\" -O \"/tmp/fenics-install.sh\" && bash \"/tmp/fenics-install.sh\"\n",
    "    import dolfin"
   ]
  },
  {
   "cell_type": "code",
   "execution_count": null,
   "id": "rbnics_installation",
   "metadata": {},
   "outputs": [],
   "source": [
    "# Install RBniCS\n",
    "try:\n",
    "    import rbnics\n",
    "except ImportError:\n",
    "    !pip3 install git+https://github.com/RBniCS/RBniCS.git\n",
    "    import rbnics\n",
    "import rbnics.utils.config\n",
    "assert \"dolfin\" in rbnics.utils.config.config.get(\"backends\", \"required backends\")"
   ]
  },
  {
   "cell_type": "code",
   "execution_count": null,
   "metadata": {},
   "outputs": [],
   "source": [
    "from dolfin import *\n",
    "from mshr import *"
   ]
  },
  {
   "cell_type": "code",
   "execution_count": null,
   "metadata": {},
   "outputs": [],
   "source": [
    "# Create mesh\n",
    "domain = Rectangle(Point(0., 0.), Point(1., 1.))\n",
    "mesh = generate_mesh(domain, 24)"
   ]
  },
  {
   "cell_type": "code",
   "execution_count": null,
   "metadata": {},
   "outputs": [],
   "source": [
    "# Create subdomains\n",
    "subdomains = MeshFunction(\"size_t\", mesh, 2)\n",
    "subdomains.set_all(1)"
   ]
  },
  {
   "cell_type": "code",
   "execution_count": null,
   "metadata": {},
   "outputs": [],
   "source": [
    "# Create boundaries\n",
    "class Left(SubDomain):\n",
    "    def inside(self, x, on_boundary):\n",
    "        return on_boundary and abs(x[0] - 0.) < DOLFIN_EPS\n",
    "\n",
    "\n",
    "class Right(SubDomain):\n",
    "    def inside(self, x, on_boundary):\n",
    "        return on_boundary and abs(x[0] - 1.) < DOLFIN_EPS\n",
    "\n",
    "\n",
    "class Bottom(SubDomain):\n",
    "    def inside(self, x, on_boundary):\n",
    "        return on_boundary and abs(x[1] - 0.) < DOLFIN_EPS\n",
    "\n",
    "\n",
    "class Top(SubDomain):\n",
    "    def inside(self, x, on_boundary):\n",
    "        return on_boundary and abs(x[1] - 1.) < DOLFIN_EPS\n",
    "\n",
    "\n",
    "boundaries = MeshFunction(\"size_t\", mesh, mesh.topology().dim() - 1)\n",
    "boundaries.set_all(0)\n",
    "left = Left()\n",
    "left.mark(boundaries, 1)\n",
    "bottom = Bottom()\n",
    "bottom.mark(boundaries, 1)\n",
    "top = Top()\n",
    "top.mark(boundaries, 1)\n",
    "right = Right()\n",
    "right.mark(boundaries, 2)"
   ]
  },
  {
   "cell_type": "code",
   "execution_count": null,
   "metadata": {},
   "outputs": [],
   "source": [
    "# Save\n",
    "File(\"mesh1.xml\") << mesh\n",
    "File(\"mesh1_physical_region.xml\") << subdomains\n",
    "File(\"mesh1_facet_region.xml\") << boundaries\n",
    "XDMFFile(\"mesh1.xdmf\").write(mesh)\n",
    "XDMFFile(\"mesh1_physical_region.xdmf\").write(subdomains)\n",
    "XDMFFile(\"mesh1_facet_region.xdmf\").write(boundaries)"
   ]
  }
 ],
 "metadata": {
  "kernelspec": {
   "display_name": "Python 3",
   "language": "python",
   "name": "python3"
  },
  "language_info": {
   "codemirror_mode": {
    "name": "ipython"
   },
   "file_extension": ".py",
   "mimetype": "text/x-python",
   "name": "python",
   "nbconvert_exporter": "python"
  }
 },
 "nbformat": 4,
 "nbformat_minor": 2
}
