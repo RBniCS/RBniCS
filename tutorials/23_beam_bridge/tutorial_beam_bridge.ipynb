{
 "cells": [
  {
   "attachments": {},
   "cell_type": "markdown",
   "metadata": {},
   "source": [
    "## TUTORIAL 23 - Beam bridge problem\n",
    "**_Keywords: successive constraint method, geometrical parametrization_**\n",
    "\n",
    "### 1. Introduction\n",
    "This Tutorial addresses geometrical parametrization applied to the physical phenomena of linear deformation of a bridge. In particular, we study the elastic problem on the two-dimensional parametrized geometry $\\Omega_o(\\boldsymbol(\\mu))$ as in the following picture:\n",
    "\n",
    "<img src=\"data/beam_bridge.png\" width=\"70%\"/>\n",
    "\n",
    "We apply the following conditions on the boundaries: homogeneous Dirichlet conditions on $\\Gamma_{o,1} \\cup \\Gamma_{o,2}$ such that $u_2(\\boldsymbol{\\mu})=0$, homogeneous Dirichlet conditions on $\\Gamma_{o,8}\\cup\\Gamma_{o,9}$ such that $u_1(\\boldsymbol{\\mu})=u_2(\\boldsymbol{\\mu})=0$, non-homogenous Neumann conditions $\\boldsymbol{\\sigma}\\boldsymbol{n}=-\\boldsymbol{n}$ on $\\Gamma_{o,7}$ and homogeneous Neumann conditions on any remaining boundaries.\n",
    "Here $\\boldsymbol{\\sigma}$ represents the stress tensor on the domain $\\Omega_o(\\boldsymbol{\\mu})$ that is defined as follows\n",
    "$$\n",
    "\\boldsymbol{\\sigma}(\\boldsymbol{u}_o;\\boldsymbol{\\mu})=\\lambda_1(\\boldsymbol{\\mu})\\;\\text{tr}[\\nabla^S\\boldsymbol{u}_o]\\;\\boldsymbol{I}+2\\;\\lambda_2(\\boldsymbol{\\mu})\\;\\nabla^S\\boldsymbol{u}_o,\n",
    "$$\n",
    "where $\\nabla^S$ denotes the symmetric part of the gradient. In all regions, we assume an isotropic linear elastic material, characterized by the following Lamè constants for plane strain\n",
    "$$\n",
    "\\lambda_1=\\frac{E\\nu}{(1+\\nu)(1-2\\nu)}, \\quad \n",
    "\\lambda_2=\\frac{E}{2(1-\\nu)},\n",
    "$$ with $E=1$ and $\\nu=0.3$.\n",
    "\n",
    "This problem is characterized by two parameters: the first parameter $\\mu_0$ controls the distance between the left support $\\mathcal{P}^1_o$ and the left side of the bridge, and the distance between the right support $\\mathcal{P}^2_o$ and the right side of the bridge. The second parameter $\\mu_1$ characterizes the Young's modulus in all regions. \n",
    "\n",
    "The parameter vector $\\boldsymbol{\\mu}$ is thus given by \n",
    "$$\n",
    "\\boldsymbol{\\mu} = (\\mu_0, \\mu_1)\n",
    "$$\n",
    "on the parameter domain\n",
    "$$\n",
    "[0.05,0.6] \\times [0.1,10].\n",
    "$$\n",
    "\n",
    "In order to obtain a faster (yet, provably accurate) approximation of the problem, and avoiding _any_ remeshing, we pursue a model reduction by means of a certified reduced basis reduced order method from a fixed reference domain."
   ]
  },
  {
   "attachments": {},
   "cell_type": "markdown",
   "metadata": {},
   "source": [
    "### 2. Parametrized formulation\n",
    "\n",
    "Let $\\boldsymbol{u}_o(\\boldsymbol{\\mu})$ be the displacement of the idealized contact problem with friction under the applied load, satisfying the plane-strain linear elasticity equation in $\\Omega_o$.\n",
    "\n",
    "We will directly provide a weak formulation for this problem: for a given parameter $\\boldsymbol{\\mu}\\in\\mathbb{P}$, find $\\boldsymbol{u}_o(\\boldsymbol{\\mu})\\in\\mathbb{V}_o$ such that\n",
    "\n",
    "$$a\\left(\\boldsymbol{u}_o(\\boldsymbol{\\mu}),\\boldsymbol{v}_o;\\boldsymbol{\\mu}\\right)=f_o(\\boldsymbol{v}_o;\\boldsymbol{\\mu})\\quad \\forall \\boldsymbol{v}_o\\in\\mathbb{V}_o$$\n",
    "\n",
    "where\n",
    "\n",
    "* the function space $\\mathbb{V}_o$ is defined as\n",
    "$$\n",
    "\\mathbb{V}_o=\\{v_o \\in H^1(\\Omega): v\\mid_{\\Gamma_{o,1}\\cup\\Gamma_{o,2}\\cup\\Gamma_{o,8}\\cup\\Gamma_{o,9}} =0\\}\n",
    "$$\n",
    "\n",
    "* the parametrized bilinear form $a_o(\\cdot, \\cdot; \\boldsymbol{\\mu}): \\mathbb{V}_o \\times \\mathbb{V}_o \\to \\mathbb{R}$ is defined by\n",
    "$$a(\\boldsymbol{u}_o,\\boldsymbol{v}_o;\\boldsymbol{\\mu})=\\int_{\\Omega_o} {\\lambda_1(\\boldsymbol{\\mu})\\;\\text{tr}[\\nabla^S\\boldsymbol{u}_o]\\;\\text{tr}[\\nabla^S\\boldsymbol{v_o}]+2\\;\\lambda_2(\\boldsymbol{\\mu})\\;\\nabla^S\\boldsymbol{u}_o:\\nabla^S\\boldsymbol{v}_o} \\ d\\boldsymbol{x},$$\n",
    "* the parametrized linear form $f_o(\\cdot; \\boldsymbol{\\mu}): \\mathbb{V}_o \\to \\mathbb{R}$ is defined by\n",
    "$$f_o(\\boldsymbol{v}_o;\\boldsymbol{\\mu})=-\\int_{\\Gamma_{o,7}} \\boldsymbol{v}_o\\cdot\\boldsymbol{n} \\ ds.$$"
   ]
  },
  {
   "cell_type": "code",
   "execution_count": null,
   "metadata": {},
   "outputs": [],
   "source": [
    "from dolfin import *\n",
    "from rbnics import *"
   ]
  },
  {
   "attachments": {},
   "cell_type": "markdown",
   "metadata": {},
   "source": [
    "## 3. Affine decomposition\n",
    "\n",
    "In order to obtain an affine decomposition, we recast the problem on a fixed, parameter _independent_, reference domain $\\Omega$. As reference domain which choose the one characterized by $\\mu_0 = 0.05$ which we generate through the generate_mesh notebook provided in the _data_ folder.\n",
    "Then, we pull back the problem to the reference domain $\\Omega$."
   ]
  },
  {
   "cell_type": "code",
   "execution_count": null,
   "metadata": {},
   "outputs": [],
   "source": [
    "@SCM()\n",
    "@PullBackFormsToReferenceDomain()\n",
    "@AffineShapeParametrization(\"data/bridge_vertices_mapping.vmp\")\n",
    "\n",
    "class Bridge(EllipticCoerciveProblem):\n",
    "    \n",
    "    #Default initialization of members\n",
    "    @generate_function_space_for_stability_factor\n",
    "    def __init__(self,V,**kwargs):\n",
    "        # Call the standard initialization\n",
    "        EllipticCoerciveProblem.__init__(self, V, **kwargs)\n",
    "        # ... and also store FEniCS data structures for assembly\n",
    "        assert \"subdomains\" in kwargs\n",
    "        assert \"boundaries\" in kwargs\n",
    "        self.subdomains, self.boundaries = kwargs[\"subdomains\"], kwargs[\"boundaries\"]\n",
    "        self.u = TrialFunction(V)\n",
    "        self.v = TestFunction(V)\n",
    "        self.dx = Measure(\"dx\")(subdomain_data=subdomains)\n",
    "        self.ds = Measure(\"ds\")(subdomain_data=boundaries)\n",
    "        # ...\n",
    "        \n",
    "        self.nu = 0.3\n",
    "        self.E = 1.0\n",
    "        self.lambda_1 = self.E*self.nu / ((1.0 + self.nu)*(1.0 - 2.0*self.nu))\n",
    "        self.lambda_2 = self.E / (2.0*(1.0 + self.nu))\n",
    "        self._eigen_solver_parameters.update({\n",
    "           \"bounding_box_minimum\": {\"problem_type\": \"gen_hermitian\", \"spectral_transform\": \"shift-and-invert\", \"spectral_shift\": 1.e-5, \"linear_solver\": \"mumps\"},\n",
    "           \"bounding_box_maximum\": {\"problem_type\": \"gen_hermitian\", \"spectral_transform\": \"shift-and-invert\", \"spectral_shift\": 1.e5, \"linear_solver\": \"mumps\"},\n",
    "           \"stability_factor\": {\"problem_type\": \"gen_hermitian\", \"spectral_transform\": \"shift-and-invert\", \"spectral_shift\": 1.e-5, \"linear_solver\": \"mumps\"}            \n",
    "        })\n",
    "        \n",
    "    # Return custom problem name\n",
    "    def name(self):\n",
    "        return \"Bridge\"\n",
    "    \n",
    "    # Return theta multiplicative terms of the affine expansion of the problem.\n",
    "    @compute_theta_for_stability_factor\n",
    "    def compute_theta(self, term):\n",
    "        mu = self.mu\n",
    "        if term == \"a\":\n",
    "            theta_a0 = mu[1]\n",
    "            return (theta_a0,)\n",
    "        elif term == \"f\":\n",
    "            theta_f0 = 1.0\n",
    "            return (theta_f0,)\n",
    "        elif term == \"s\":\n",
    "            theta_s0 = 1.0\n",
    "            return (theta_s0,)\n",
    "        else:\n",
    "            raise ValueError(\"Invalid term for compute_theta().\")\n",
    "            \n",
    "    # Return forms resulting from the discretization of the affine expansion of the problem operators.\n",
    "    @assemble_operator_for_stability_factor\n",
    "    def assemble_operator(self, term):\n",
    "        v = self.v\n",
    "        dx = self.dx\n",
    "        lambda_1 = self.lambda_1\n",
    "        lambda_2 = self.lambda_2\n",
    "        if term == \"a\":\n",
    "            u = self.u\n",
    "            elasticity = 2.0*lambda_2*inner(sym(nabla_grad(u)), sym(nabla_grad(v))) + lambda_1*tr(sym(nabla_grad(u)))*tr(sym(nabla_grad(v)))\n",
    "            a0 = elasticity*dx\n",
    "            return (a0,)\n",
    "        elif term == \"f\":\n",
    "            ds = self.ds\n",
    "            u = self.u\n",
    "            f0 = inner(Constant((0.0, -1.0)), v)*ds(7)\n",
    "            return (f0,)\n",
    "        elif term == \"s\":\n",
    "            ds = self.ds\n",
    "            u = self.u\n",
    "            s0 = inner(Constant((0.0, -1.0)), v)*ds(7)\n",
    "            return (s0,)\n",
    "        elif term == \"dirichlet_bc\":\n",
    "            bc0 = [DirichletBC(self.V.sub(1), Constant(0.0), self.boundaries, 1),\n",
    "                  DirichletBC(self.V.sub(1), Constant(0.0), self.boundaries, 2),\n",
    "                  DirichletBC(self.V, Constant((0.0, 0.0)), self.boundaries, 8),\n",
    "                  DirichletBC(self.V, Constant((0.0, 0.0)), self.boundaries, 9)]\n",
    "            return (bc0,)\n",
    "        elif term == \"inner_product\":\n",
    "            u = self.u\n",
    "            x0 = inner(u, v)*dx + inner(grad(u), grad(v))*dx\n",
    "            return (x0,)\n",
    "        else:\n",
    "            raise ValueError(\"Invalid term for assemble_operator().\")"
   ]
  },
  {
   "attachments": {},
   "cell_type": "markdown",
   "metadata": {},
   "source": [
    "## 4. Main program\n",
    "### 4.1. Read the mesh for this problem\n",
    "The mesh was generated by the [data/generate_mesh.ipynb](data/generate_mesh.ipynb) notebook."
   ]
  },
  {
   "cell_type": "code",
   "execution_count": null,
   "metadata": {},
   "outputs": [],
   "source": [
    "mesh = Mesh(\"data/bridge.xml\")\n",
    "subdomains = MeshFunction(\"size_t\", mesh, \"data/bridge_physical_region.xml\")\n",
    "boundaries = MeshFunction(\"size_t\", mesh, \"data/bridge_facet_region.xml\")"
   ]
  },
  {
   "attachments": {},
   "cell_type": "markdown",
   "metadata": {},
   "source": [
    "### 4.2. Create Finite Element space (Lagrange P2)"
   ]
  },
  {
   "cell_type": "code",
   "execution_count": null,
   "metadata": {},
   "outputs": [],
   "source": [
    "V = VectorFunctionSpace(mesh, \"Lagrange\", 2)"
   ]
  },
  {
   "attachments": {},
   "cell_type": "markdown",
   "metadata": {},
   "source": [
    "### 4.3. Allocate an object of the Bridge class"
   ]
  },
  {
   "cell_type": "code",
   "execution_count": null,
   "metadata": {},
   "outputs": [],
   "source": [
    "problem = Bridge(V, subdomains=subdomains, boundaries=boundaries)\n",
    "mu_range = [(0.05, 0.6),(0.1, 10.0)]\n",
    "problem.set_mu_range(mu_range)"
   ]
  },
  {
   "attachments": {},
   "cell_type": "markdown",
   "metadata": {},
   "source": [
    "### 4.4. Prepare reduction with a reduced basis method"
   ]
  },
  {
   "cell_type": "code",
   "execution_count": null,
   "metadata": {},
   "outputs": [],
   "source": [
    "reduction_method = ReducedBasis(problem)\n",
    "reduction_method.set_Nmax(20, SCM=10)\n",
    "reduction_method.set_tolerance(1e-5, SCM=1e-3)"
   ]
  },
  {
   "cell_type": "markdown",
   "metadata": {},
   "source": [
    "### 4.5. Perform the offline phase"
   ]
  },
  {
   "cell_type": "code",
   "execution_count": null,
   "metadata": {},
   "outputs": [],
   "source": [
    "reduction_method.initialize_training_set(200, SCM=250)\n",
    "reduced_problem = reduction_method.offline()"
   ]
  },
  {
   "cell_type": "markdown",
   "metadata": {},
   "source": [
    "### 4.6. Perform an online solve"
   ]
  },
  {
   "cell_type": "code",
   "execution_count": null,
   "metadata": {},
   "outputs": [],
   "source": [
    "online_mu = (0.09, 1.86)\n",
    "reduced_problem.set_mu(online_mu)\n",
    "reduced_solution = reduced_problem.solve()\n",
    "plot(reduced_solution, reduced_problem=reduced_problem)"
   ]
  },
  {
   "cell_type": "markdown",
   "metadata": {},
   "source": [
    "### 4.7. Perform an error analysis"
   ]
  },
  {
   "cell_type": "code",
   "execution_count": null,
   "metadata": {},
   "outputs": [],
   "source": [
    "reduction_method.initialize_testing_set(100, SCM=100)\n",
    "reduction_method.error_analysis(filename=\"error_analysis\")"
   ]
  },
  {
   "cell_type": "markdown",
   "metadata": {},
   "source": [
    "### 4.8. Perform a speedup analysis"
   ]
  },
  {
   "cell_type": "code",
   "execution_count": null,
   "metadata": {},
   "outputs": [],
   "source": [
    "reduction_method.speedup_analysis(filename=\"speedup_analysis\")"
   ]
  },
  {
   "attachments": {},
   "cell_type": "markdown",
   "metadata": {},
   "source": [
    "### 4.9. Perform an error and speedup analysis employing a smaller number of SCM constraints"
   ]
  },
  {
   "cell_type": "code",
   "execution_count": null,
   "metadata": {},
   "outputs": [],
   "source": [
    "reduction_method.error_analysis(SCM=3, filename=\"error_analysis_SCM_3\")\n",
    "reduction_method.speedup_analysis(SCM=3, filename=\"speedup_analysis_SCM_3\")"
   ]
  },
  {
   "attachments": {},
   "cell_type": "markdown",
   "metadata": {},
   "source": [
    "### 5. Assignments"
   ]
  },
  {
   "attachments": {},
   "cell_type": "markdown",
   "metadata": {},
   "source": [
    "\n",
    "1.  Change the model reduction technique to POD-Galerkin. Compare the results of the error analysis and speedup analysis for the two reduction techniques."
   ]
  }
 ],
 "metadata": {
  "kernelspec": {
   "display_name": "fenicsproject",
   "language": "python",
   "name": "python3"
  },
  "language_info": {
   "codemirror_mode": {
    "name": "ipython",
    "version": 3
   },
   "file_extension": ".py",
   "mimetype": "text/x-python",
   "name": "python",
   "nbconvert_exporter": "python",
   "pygments_lexer": "ipython3",
   "version": "3.10.8"
  },
  "vscode": {
   "interpreter": {
    "hash": "350886dd400890bdab5bb475c6063c29c7de30eb69ba1c0ec092516149a9f42d"
   }
  }
 },
 "nbformat": 4,
 "nbformat_minor": 2
}
