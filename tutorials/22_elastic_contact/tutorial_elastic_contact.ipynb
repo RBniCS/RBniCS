{
 "cells": [
  {
   "cell_type": "markdown",
   "metadata": {},
   "source": [
    "## TUTORIAL 22 - Elastic contact problem\n",
    "**_Keywords: geometrical parametrization_**\n",
    "\n",
    "### 1. Introduction\n",
    "This Tutorial addresses an application based on an idealized contact problem in linear elasticity with friction. We consider the equilibrium of a solid with a contact face that is partially sticking and partially sliding since we are interested in the initiation of dynamic sliding. In particular, we study the displacement of the idealized contact problem with friction under the applied load, satisfying the plane-strain linear elasticity equation in $\\Omega_o$ as in the following picture:\n",
    "\n",
    "<img src=\"https://github.com/RBniCS/RBniCS/raw/master/tutorials/22_elastic_contact/data/elastic_contact.png\" width=\"70%\"/>\n",
    "\n",
    "We impose the following geometrically parametrized boundary conditions: homogeneous Dirichlet conditions on $\\Gamma_{o,1} \\cup \\Gamma_{o,3}$ such that $u_2(\\boldsymbol{\\mu})=0$, homogeneous Dirichlet conditions on $\\Gamma_{o,2}$ such that $u_1(\\boldsymbol{\\mu})=u_2(\\boldsymbol{\\mu})=0$, non-homogeneous Neumann conditions $\\boldsymbol{\\sigma}\\boldsymbol{n}=-\\boldsymbol{n}$ on $\\Gamma_{o,5}$ and homogeneous Neumann conditions on any remaining boundaries.\n",
    "\n",
    "Here $\\boldsymbol{\\sigma}$ represents the stress tensor on the domain $\\Omega_o$ that is defined as follows\n",
    "$$\n",
    "\\boldsymbol{\\sigma}(\\boldsymbol{u}_o;\\boldsymbol{\\mu})=\\lambda_1(\\boldsymbol{\\mu})\\;\\text{tr}[\\nabla^S\\boldsymbol{u}_o]\\;\\boldsymbol{I}+2\\;\\lambda_2(\\boldsymbol{\\mu})\\;\\nabla^S\\boldsymbol{u}_o,\n",
    "$$\n",
    "where $\\nabla^S$ denotes the symmetric part of the gradient, while $\\lambda_1$ and $\\lambda_2$ are the Lamé constants for plane strain:\n",
    "$$\n",
    "\\lambda_1=\\frac{E \\mu_1}{(1+\\mu_1)(1-2\\mu_1)},\n",
    " \\quad \\lambda_2=\\frac{E}{2(1+\\mu_1)},\n",
    "$$\n",
    "with $E=2$, since in all regions we assume an isotropic linear material.\n",
    "\n",
    "This problem is characterized by $\\boldsymbol{\\mu}=(\\mu_0,\\mu_1)$ with $P=2$ components: $\\mu_0$ controls the length of the two outer parts of the interface that slide in order to reach equilibrium, while $\\mu_1$ characterizes the Poisson's ratio of the solid.\n",
    "\n",
    "The parameter vector $\\boldsymbol{\\mu}$ is thus given by \n",
    "$$\n",
    "\\boldsymbol{\\mu} = (\\mu_0, \\mu_1)\n",
    "$$\n",
    "on the parameter domain\n",
    "$$\n",
    "[0.05,0.45] \\times [0.25,0.45].\n",
    "$$\n",
    "\n",
    "In order to obtain a faster (yet, provably accurate) approximation of the problem, and avoiding _any_ remeshing, we pursue a model reduction by means of a certified reduced basis reduced order method from a fixed reference domain."
   ]
  },
  {
   "cell_type": "code",
   "execution_count": null,
   "metadata": {},
   "outputs": [],
   "source": [
    "# Install FEniCS\n",
    "try:\n",
    "    import dolfin\n",
    "except ImportError:\n",
    "    !wget \"https://fem-on-colab.github.io/releases/fenics-install-real.sh\" -O \"/tmp/fenics-install.sh\" && bash \"/tmp/fenics-install.sh\"\n",
    "    import dolfin"
   ]
  },
  {
   "cell_type": "code",
   "execution_count": null,
   "metadata": {},
   "outputs": [],
   "source": [
    "# Install RBniCS\n",
    "try:\n",
    "    import rbnics\n",
    "except ImportError:\n",
    "    !pip3 install git+https://github.com/RBniCS/RBniCS.git\n",
    "    import rbnics\n",
    "import rbnics.utils.config\n",
    "assert \"dolfin\" in rbnics.utils.config.config.get(\"backends\", \"required backends\")"
   ]
  },
  {
   "cell_type": "code",
   "execution_count": null,
   "metadata": {},
   "outputs": [],
   "source": [
    "# Download data files\n",
    "!mkdir -p data\n",
    "![ -f data/friction.xml ] || wget https://github.com/RBniCS/RBniCS/raw/master/tutorials/22_elastic_contact/data/friction.xml -O data/friction.xml\n",
    "![ -f data/friction_facet_region.xml ] || wget https://github.com/RBniCS/RBniCS/raw/master/tutorials/22_elastic_contact/data/friction_facet_region.xml -O data/friction_facet_region.xml\n",
    "![ -f data/friction_physical_region.xml ] || wget https://github.com/RBniCS/RBniCS/raw/master/tutorials/22_elastic_contact/data/friction_physical_region.xml -O data/friction_physical_region.xml\n",
    "![ -f data/vertices_mapping.vmp ] || wget https://github.com/RBniCS/RBniCS/raw/master/tutorials/22_elastic_contact/data/vertices_mapping.vmp -O data/vertices_mapping.vmp"
   ]
  },
  {
   "cell_type": "markdown",
   "metadata": {},
   "source": [
    "### 2. Parametrized formulation\n",
    "\n",
    "Let $\\boldsymbol{u}_o(\\boldsymbol{\\mu})$ be the displacement of the idealized contact problem with friction under the applied load, satisfying the plane-strain linear elasticity equation in $\\Omega_o$.\n",
    "\n",
    "We will directly provide a weak formulation for this problem: for a given parameter $\\boldsymbol{\\mu}\\in\\mathbb{P}$, find $\\boldsymbol{u}_o(\\boldsymbol{\\mu})\\in\\mathbb{V}_o$ such that\n",
    "\n",
    "$$a_o\\left(\\boldsymbol{u}_o(\\boldsymbol{\\mu}),\\boldsymbol{v}_o;\\boldsymbol{\\mu}\\right)=f_o(\\boldsymbol{v}_o;\\boldsymbol{\\mu})\\quad \\forall \\boldsymbol{v}_o\\in\\mathbb{V}_o$$\n",
    "\n",
    "where\n",
    "\n",
    "* the function space $\\mathbb{V}_o$ is defined as\n",
    "$$\n",
    "\\mathbb{V}_o=\\{v_o \\in H^1(\\Omega): v\\mid_{\\Gamma_{o,1}\\cup\\Gamma_{o,2}\\cup\\Gamma_{o,3}} =0\\}\n",
    "$$\n",
    "\n",
    "* the parametrized bilinear form $a_o(\\cdot, \\cdot; \\boldsymbol{\\mu}): \\mathbb{V}_o \\times \\mathbb{V}_o \\to \\mathbb{R}$ is defined by\n",
    "$$a(\\boldsymbol{u}_o,\\boldsymbol{v}_o;\\boldsymbol{\\mu})=\\lambda_1(\\boldsymbol{\\mu}) \\int_{\\Omega_{o}} {\\text{tr}[\\nabla^S\\boldsymbol{u}_o]\\;\\text{tr}[\\nabla^S\\boldsymbol{v}_o] \\ d\\boldsymbol{x} + \\lambda_2(\\boldsymbol{\\mu}) \\int_{\\Omega_{o}} 2\\;\\nabla^S\\boldsymbol{u}_o:\\nabla^S\\boldsymbol{v}_o} \\ d\\boldsymbol{x},$$\n",
    "* the parametrized linear form $f_o(\\cdot; \\boldsymbol{\\mu}): \\mathbb{V}_o \\to \\mathbb{R}$ is defined by\n",
    "$$f_o(\\boldsymbol{v}_o;\\boldsymbol{\\mu})=-\\int_{\\Gamma_{o,5}} \\boldsymbol{v}_o\\cdot\\boldsymbol{n} \\ ds.$$"
   ]
  },
  {
   "cell_type": "code",
   "execution_count": null,
   "metadata": {},
   "outputs": [],
   "source": [
    "from dolfin import *\n",
    "from rbnics import *"
   ]
  },
  {
   "cell_type": "markdown",
   "metadata": {},
   "source": [
    "## 3. Affine decomposition\n",
    "\n",
    "In order to obtain an affine decomposition, we recast the problem on a fixed, parameter _independent_, reference domain $\\Omega$. As reference domain which choose the one characterized by $\\mu_0 = 0.2$ which we generate through the generate_mesh notebook provided in the _data_ folder.\n",
    "Then, we pull back the problem to the reference domain $\\Omega$."
   ]
  },
  {
   "cell_type": "code",
   "execution_count": null,
   "metadata": {},
   "outputs": [],
   "source": [
    "@PullBackFormsToReferenceDomain()\n",
    "@AffineShapeParametrization(\"data/vertices_mapping.vmp\")\n",
    "\n",
    "class Friction(EllipticCoerciveProblem):\n",
    "\n",
    "    #Default initialization of members\n",
    "    def __init__(self,V,**kwargs):\n",
    "        # Call the standard initialization\n",
    "        EllipticCoerciveProblem.__init__(self, V, **kwargs)\n",
    "        # ... and also store FEniCS data structures for assembly\n",
    "        assert \"subdomains\" in kwargs\n",
    "        assert \"boundaries\" in kwargs\n",
    "        self.subdomains, self.boundaries = kwargs[\"subdomains\"], kwargs[\"boundaries\"]\n",
    "        self.u = TrialFunction(V)\n",
    "        self.v = TestFunction(V)\n",
    "        self.dx = Measure(\"dx\")(subdomain_data=subdomains)\n",
    "        self.ds = Measure(\"ds\")(subdomain_data=boundaries)\n",
    "        # ...\n",
    "        self.E = 2.0\n",
    "\n",
    "    # Return custom problem name\n",
    "    def name(self):\n",
    "        return \"Friction\"\n",
    "\n",
    "    # Return theta multiplicative terms of the affine expansion of the problem.\n",
    "    def compute_theta(self, term):\n",
    "        mu = self.mu\n",
    "        E = self.E\n",
    "        if term == \"a\":\n",
    "            theta_a0 = E*mu[1] / ((1.0 + mu[1])*(1.0 - 2.0*mu[1])) #lambda lame coef\n",
    "            theta_a1 = E / (2.0*(1.0 + mu[1])) #mu lame coef\n",
    "            return (theta_a0, theta_a1)\n",
    "        elif term == \"f\":\n",
    "            theta_f0 = 1.0\n",
    "            return (theta_f0,)\n",
    "        elif term == \"s\":\n",
    "            theta_s0 = 1.0\n",
    "            return (theta_s0,)\n",
    "        else:\n",
    "            raise ValueError(\"Invalid term for compute_theta().\")\n",
    "\n",
    "    # Return forms resulting from the discretization of the affine expansion of the problem operators.\n",
    "    def assemble_operator(self, term):\n",
    "        v = self.v\n",
    "        dx = self.dx\n",
    "        if term == \"a\":\n",
    "            u = self.u\n",
    "            a0 = tr(sym(nabla_grad(u)))*tr(sym(nabla_grad(v)))*dx\n",
    "            a1 = 2.0*inner(sym(nabla_grad(u)), sym(nabla_grad(v)))*dx\n",
    "            return (a0, a1)\n",
    "        elif term == \"f\":\n",
    "            ds = self.ds\n",
    "            u = self.u\n",
    "            f0 = inner(Constant((0.0, -1.0)), v)*ds(5)\n",
    "            return (f0,)\n",
    "        elif term == \"s\":\n",
    "            ds = self.ds\n",
    "            u = self.u\n",
    "            s0 = inner(Constant((0.0, -1.0)), v)*ds(5)\n",
    "            return (s0,)\n",
    "        elif term == \"dirichlet_bc\":\n",
    "            bc0 = [DirichletBC(self.V.sub(1), Constant(0.0), self.boundaries, 1),\n",
    "                  DirichletBC(self.V.sub(1), Constant(0.0), self.boundaries, 3),\n",
    "                  DirichletBC(self.V, Constant((0.0, 0.0)), self.boundaries, 2)]\n",
    "            return (bc0,)\n",
    "        elif term == \"inner_product\":\n",
    "            u = self.u\n",
    "            x0 = inner(u, v)*dx + inner(grad(u), grad(v))*dx\n",
    "            return (x0,)\n",
    "        else:\n",
    "            raise ValueError(\"Invalid term for assemble_operator().\")"
   ]
  },
  {
   "cell_type": "markdown",
   "metadata": {},
   "source": [
    "## 4. Main program\n",
    "### 4.1. Read the mesh for this problem\n",
    "The mesh was generated by the [data/generate_mesh.ipynb](data/generate_mesh.ipynb) notebook."
   ]
  },
  {
   "cell_type": "code",
   "execution_count": null,
   "metadata": {},
   "outputs": [],
   "source": [
    "mesh = Mesh(\"data/friction.xml\")\n",
    "subdomains = MeshFunction(\"size_t\", mesh, \"data/friction_physical_region.xml\")\n",
    "boundaries = MeshFunction(\"size_t\", mesh, \"data/friction_facet_region.xml\")"
   ]
  },
  {
   "cell_type": "markdown",
   "metadata": {},
   "source": [
    "### 4.2. Create Finite Element space (Lagrange P2)"
   ]
  },
  {
   "cell_type": "code",
   "execution_count": null,
   "metadata": {},
   "outputs": [],
   "source": [
    "V = VectorFunctionSpace(mesh, \"Lagrange\", 2)"
   ]
  },
  {
   "cell_type": "markdown",
   "metadata": {},
   "source": [
    "### 4.3. Allocate an object of the Subfin class"
   ]
  },
  {
   "cell_type": "code",
   "execution_count": null,
   "metadata": {},
   "outputs": [],
   "source": [
    "problem = Friction(V, subdomains=subdomains, boundaries=boundaries)\n",
    "mu_range = [(0.05, 0.45),(0.25, 0.45)]\n",
    "problem.set_mu_range(mu_range)"
   ]
  },
  {
   "cell_type": "markdown",
   "metadata": {},
   "source": [
    "### 4.4. Prepare reduction with a POD-Galerkin method"
   ]
  },
  {
   "cell_type": "code",
   "execution_count": null,
   "metadata": {},
   "outputs": [],
   "source": [
    "reduction_method = PODGalerkin(problem)\n",
    "reduction_method.set_Nmax(50)\n",
    "reduction_method.set_tolerance(1e-4)"
   ]
  },
  {
   "cell_type": "markdown",
   "metadata": {},
   "source": [
    "### 4.5. Perform the offline phase"
   ]
  },
  {
   "cell_type": "code",
   "execution_count": null,
   "metadata": {},
   "outputs": [],
   "source": [
    "reduction_method.initialize_training_set(100)\n",
    "reduced_problem = reduction_method.offline()"
   ]
  },
  {
   "cell_type": "markdown",
   "metadata": {},
   "source": [
    "### 4.6. Perform an online solve"
   ]
  },
  {
   "cell_type": "code",
   "execution_count": null,
   "metadata": {},
   "outputs": [],
   "source": [
    "online_mu = (0.37, 0.26)\n",
    "reduced_problem.set_mu(online_mu)\n",
    "reduced_solution = reduced_problem.solve()\n",
    "plot(reduced_solution, reduced_problem=reduced_problem)"
   ]
  },
  {
   "cell_type": "markdown",
   "metadata": {},
   "source": [
    "### 4.7. Perform an error analysis"
   ]
  },
  {
   "cell_type": "code",
   "execution_count": null,
   "metadata": {},
   "outputs": [],
   "source": [
    "reduction_method.initialize_testing_set(100)\n",
    "reduction_method.error_analysis(filename=\"error_analysis\")"
   ]
  },
  {
   "cell_type": "markdown",
   "metadata": {},
   "source": [
    "### 4.8. Perform a speedup analysis"
   ]
  },
  {
   "cell_type": "code",
   "execution_count": null,
   "metadata": {},
   "outputs": [],
   "source": [
    "reduction_method.speedup_analysis(filename=\"speedup_analysis\")"
   ]
  },
  {
   "cell_type": "markdown",
   "metadata": {},
   "source": [
    "### 5. Assignments"
   ]
  },
  {
   "cell_type": "markdown",
   "metadata": {},
   "source": [
    "\n",
    "1.\tConsider a different configuration of the domain, in which the external force pushes on the left boundary $\\Gamma_{o,6}$, instead of being loaded on the upper boundary $\\Gamma_{o,5}$. Edit the mesh generation and change the problem to account for the modified boundary conditions. Discuss the performance of the reduction in terms of errors and speedups.\n",
    "\n",
    "2. Change the model reduction technique from POD-Galerkin to certified reduced basis. Compare the results of the error analysis and speedup analysis for the two reduction techniques."
   ]
  }
 ],
 "metadata": {
  "kernelspec": {
   "display_name": "Python 3 (ipykernel)",
   "language": "python",
   "name": "python3"
  },
  "language_info": {
   "codemirror_mode": {
    "name": "ipython"
   },
   "file_extension": ".py",
   "mimetype": "text/x-python",
   "name": "python",
   "nbconvert_exporter": "python"
  },
  "vscode": {
   "interpreter": {
    "hash": "350886dd400890bdab5bb475c6063c29c7de30eb69ba1c0ec092516149a9f42d"
   }
  }
 },
 "nbformat": 4,
 "nbformat_minor": 2
}
