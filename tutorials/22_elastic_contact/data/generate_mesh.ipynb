{
 "cells": [
  {
   "cell_type": "code",
   "execution_count": null,
   "metadata": {},
   "outputs": [],
   "source": [
    "from dolfin import *\n",
    "from mshr import *\n",
    "from rbnics.backends.dolfin.wrapping import counterclockwise\n",
    "from rbnics.shape_parametrization.utils.symbolic import VerticesMappingIO"
   ]
  },
  {
   "cell_type": "code",
   "execution_count": null,
   "metadata": {},
   "outputs": [],
   "source": [
    "# Create domain\n",
    "domain = Rectangle(Point(0., 0.), Point(1., 0.5))"
   ]
  },
  {
   "cell_type": "code",
   "execution_count": null,
   "metadata": {},
   "outputs": [],
   "source": [
    "# Vertices mappings\n",
    "\n",
    "vertices_mappings = [\n",
    "    {\n",
    "        (\"0.0\", \"0.0\"):(\"0.0\", \"0.0\"),\n",
    "        (\"0.2\", \"0.0\"):(\"mu[0]\", \"0.0\"),\n",
    "        (\"0.0\", \"0.5\"):(\"0.0\", \"0.5\")\n",
    "    }, # subdomain 1\n",
    "    {\n",
    "        (\"0.0\", \"0.5\"):(\"0.0\", \"0.5\"),\n",
    "        (\"0.2\", \"0.0\"):(\"mu[0]\", \"0.0\"),\n",
    "        (\"1.0\", \"0.5\"):(\"1.0\", \"0.5\")\n",
    "    }, # subdomain 2\n",
    "    {\n",
    "        (\"0.2\", \"0.0\"):(\"mu[0]\", \"0.0\"),\n",
    "        (\"0.8\", \"0.0\"):(\"1-mu[0]\", \"0.0\"),\n",
    "        (\"1.0\", \"0.5\"):(\"1.0\", \"0.5\")\n",
    "    }, # subdomain 3\n",
    "    {\n",
    "        (\"0.8\", \"0.0\"):(\"1-mu[0]\", \"0.0\"),\n",
    "        (\"1.0\",\"0.0\"):(\"1.0\",\"0.0\"),\n",
    "        (\"1.0\", \"0.5\"):(\"1.0\", \"0.5\")\n",
    "    } # subdomain 4\n",
    "]"
   ]
  },
  {
   "cell_type": "code",
   "execution_count": null,
   "metadata": {},
   "outputs": [],
   "source": [
    "for i, vertices_mapping in enumerate(vertices_mappings):\n",
    "    subdomain_i = Polygon([Point(*[float(coord) for coord in vertex]) for vertex in counterclockwise(vertices_mapping.keys())])\n",
    "    domain.set_subdomain(i + 1, subdomain_i)\n",
    "mesh = generate_mesh(domain, 40)\n",
    "plot(mesh)"
   ]
  },
  {
   "cell_type": "code",
   "execution_count": null,
   "metadata": {},
   "outputs": [],
   "source": [
    "# Create subdomains\n",
    "subdomains = MeshFunction(\"size_t\", mesh, 2, mesh.domains())\n",
    "plot(subdomains)"
   ]
  },
  {
   "cell_type": "code",
   "execution_count": null,
   "metadata": {},
   "outputs": [],
   "source": [
    "# Create boundaries\n",
    "class Left(SubDomain):\n",
    "    def inside(self, x, on_boundary):\n",
    "        return on_boundary and abs(x[0] - 0.) < DOLFIN_EPS\n",
    "\n",
    "class Right(SubDomain):\n",
    "    def inside(self, x, on_boundary):\n",
    "        return on_boundary and abs(x[0] - 1.) < DOLFIN_EPS\n",
    "\n",
    "class Bottom(SubDomain):\n",
    "    def __init__(self, x_min, x_max):\n",
    "        SubDomain.__init__(self)\n",
    "        self.x_min = x_min\n",
    "        self.x_max = x_max\n",
    "        \n",
    "    def inside(self, x, on_boundary):\n",
    "        return on_boundary and abs(x[1] - 0.) < DOLFIN_EPS and x[0] >= self.x_min and x[0] <= self.x_max\n",
    "                \n",
    "class Top(SubDomain):\n",
    "    def inside(self, x, on_boundary):\n",
    "        return on_boundary and abs(x[1] - 0.5) < DOLFIN_EPS \n",
    "        \n",
    "boundaries = MeshFunction(\"size_t\", mesh, mesh.topology().dim() - 1)\n",
    "boundaries.set_all(0)\n",
    "bottomLeft = Bottom(0., 0.2)\n",
    "bottomLeft.mark(boundaries, 1)\n",
    "bottomMiddle = Bottom(0.2, 0.8)\n",
    "bottomMiddle.mark(boundaries,2)\n",
    "bottomRight = Bottom(0.8, 1.)\n",
    "bottomRight.mark(boundaries, 3)\n",
    "right = Right()\n",
    "right.mark(boundaries, 4)\n",
    "top = Top()\n",
    "top.mark(boundaries,5)\n",
    "left = Left()\n",
    "left.mark(boundaries, 6)"
   ]
  },
  {
   "cell_type": "code",
   "execution_count": null,
   "metadata": {},
   "outputs": [],
   "source": [
    "# Save\n",
    "VerticesMappingIO.save_file(vertices_mappings, \".\", \"vertices_mapping.vmp\")\n",
    "File(\"friction.xml\") << mesh\n",
    "File(\"friction_physical_region.xml\") << subdomains\n",
    "File(\"friction_facet_region.xml\") << boundaries\n",
    "XDMFFile(\"friction.xdmf\").write(mesh)\n",
    "XDMFFile(\"friction_physical_region.xdmf\").write(subdomains)\n",
    "XDMFFile(\"friction_facet_region.xdmf\").write(boundaries)"
   ]
  }
 ],
 "metadata": {
  "kernelspec": {
   "display_name": "fenicsproject",
   "language": "python",
   "name": "python3"
  },
  "language_info": {
   "codemirror_mode": {
    "name": "ipython",
    "version": 3
   },
   "file_extension": ".py",
   "mimetype": "text/x-python",
   "name": "python",
   "nbconvert_exporter": "python",
   "pygments_lexer": "ipython3",
   "version": "3.10.8"
  },
  "vscode": {
   "interpreter": {
    "hash": "350886dd400890bdab5bb475c6063c29c7de30eb69ba1c0ec092516149a9f42d"
   }
  }
 },
 "nbformat": 4,
 "nbformat_minor": 2
}
