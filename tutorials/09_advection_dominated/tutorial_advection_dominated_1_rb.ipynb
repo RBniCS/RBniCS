{
 "cells": [
  {
   "cell_type": "markdown",
   "metadata": {},
   "source": [
    "## Tutorial 09 - Advection Dominated problem\n",
    "**_Keywords: reduced basis method, SUPG_**\n",
    "\n",
    "### 1. Introduction\n",
    "This tutorial addresses the reduced basis method to the advection dominated worked problem in a two-dimensional domain $\\Omega=(0,1)^2$ shown below:\n",
    "\n",
    "<img src=\"data/advection_dominated_1.png\" />\n",
    "\n",
    "We introduce a stabilization technique such as $\\textit{Streamline/Upwind Petrov-Galerkin}$ (SUPG) able to reduce the numerical oscillations on the approximation of the solution of parametrized advection-diffusion problem:\n",
    "\n",
    "$$\n",
    "-\\varepsilon(\\boldsymbol{\\mu})\\,\\Delta u(\\boldsymbol{\\mu})+\\beta(\\boldsymbol{\\mu})\\cdot\\nabla u(\\boldsymbol{\\mu})=f(\\boldsymbol{\\mu})\\quad\\text{on }\\,\\Omega(\\boldsymbol{\\mu}),\n",
    "$$\n",
    "\n",
    "where $\\beta(\\boldsymbol{\\mu})$ and $\\varepsilon(\\boldsymbol{\\mu})$ represent the advection and the diffusion term, respectively.\n",
    "\n",
    "For this problem, we consider on parameter $\\mu$, thus $P=1$. It is related to the Péclet number:\n",
    "\n",
    "$$\n",
    "\\mathbb{P}e_K(\\boldsymbol{\\mu})(x):=\\frac{|\\beta(\\boldsymbol{\\mu})(x)| h_K}{2\\,\\varepsilon(\\boldsymbol{\\mu})(x)}\\quad\\forall x\\in K\\quad\\forall\\boldsymbol{\\mu}\\in\\mathbb{P}.\n",
    "$$\n",
    "\n",
    "Here $h_K$ represents the diameter of $K\\in\\mathcal{T}_h$, where $\\mathcal{T}_h$ indicates a triangulation of our domain $\\Omega(\\boldsymbol{\\mu})$.\n",
    "\n",
    "The parameter domain is thus given by \n",
    "$$\n",
    "\\mathbb{P}=[0, 6].\n",
    "$$\n",
    "\n",
    "In this problem we consider two approaches:\n",
    "1. Offline-Online stabilized,\n",
    "2. Offline-only stabilized,\n",
    "\n",
    "in which while in the first one we apply the SUPG method both in the Offline and Online phases, in the second one only in the Offline phase it is applied.\n",
    "\n",
    "In order to obtain a faster approximation of the problem, we pursue a model reduction by means of a certified reduced basis reduced order method."
   ]
  },
  {
   "cell_type": "markdown",
   "metadata": {},
   "source": [
    "### 2. Parametrized formulation\n",
    "\n",
    "Let $u(\\boldsymbol{\\mu})$ be the solution in the domain $\\Omega$.\n",
    "\n",
    "The PDE formulation of the parametrized problem is given by:\n",
    "<center>for a given parameter $\\mu=\\boldsymbol{\\mu}\\in\\mathbb{P}$, find $u(\\boldsymbol{\\mu})$ such that</center>\n",
    "\n",
    "$$\n",
    "\\begin{cases}\n",
    "\t-\\frac{1}{10\\,^{\\boldsymbol{\\mu}}}\\Delta\\,u(\\boldsymbol{\\mu})+(1,1)\\cdot\\nabla u(\\boldsymbol{\\mu})=0 & \\text{in }\\Omega,\\\\\n",
    "    u(\\boldsymbol{\\mu}) = 0 & \\text{on } \\Gamma_1\\cup\\Gamma_2, \\\\ \n",
    "\tu(\\boldsymbol{\\mu}) = 1 & \\text{on } \\Gamma_3\\cup\\Gamma_4.\n",
    "\\end{cases}\n",
    "$$\n",
    "<br>\n",
    "\n",
    "The corresponding weak formulation reads:\n",
    "<center>for a given parameter $\\boldsymbol{\\mu}\\in\\mathbb{P}$, find $u(\\boldsymbol{\\mu})\\in\\mathbb{V}$ such that</center>\n",
    "\n",
    "$$a\\left(u(\\boldsymbol{\\mu}),v;\\boldsymbol{\\mu}\\right)=f(v;\\boldsymbol{\\mu})\\quad \\forall v\\in\\mathbb{V},$$\n",
    "\n",
    "where\n",
    "\n",
    "* the function space $\\mathbb{V}$ is defined as\n",
    "$$\n",
    "\\mathbb{V} = \\left\\{ v \\in H^1(\\Omega): v|_{\\Gamma_1\\cup\\Gamma_2} = 0, v|_{\\Gamma_3\\cup\\Gamma_4} = 1\\right\\},\n",
    "$$\n",
    "* the parametrized bilinear form $a(\\cdot, \\cdot; \\boldsymbol{\\mu}): \\mathbb{V} \\times \\mathbb{V} \\to \\mathbb{R}$ is defined by\n",
    "$$a(u,v;\\boldsymbol{\\mu}) = \\int_{\\Omega} \\frac{1}{10\\,^{\\boldsymbol{\\mu}}}\\nabla u \\cdot \\nabla v +\\left(\\partial_xu+\\partial_yu\\right)v\\ d\\boldsymbol{x},$$\n",
    "* the parametrized linear form $f(\\cdot; \\boldsymbol{\\mu}): \\mathbb{V} \\to \\mathbb{R}$ is defined by\n",
    "$$f(v; \\boldsymbol{\\mu}) = \\int_{\\Omega} v\\ d\\boldsymbol{x}.$$\n",
    "\n",
    "For the $\\textit{Offline-Online stabilized}$ approach we use a different bilinear form $a_{stab}$ instead of $a$;\n",
    "\n",
    "while in the $\\textit{Offline-only stabilized}$ approach we use the the bilinear form $a_{stab}$ during the Offline phase, performing the Online Galerkin projection with respect to the bilinear form $a$,\n",
    "\n",
    "* the parametrized bilinear stabilized form $a_{stab}(\\cdot, \\cdot; \\boldsymbol{\\mu}): \\mathbb{V} \\times \\mathbb{V} \\to \\mathbb{R}$ is defined by\n",
    "$$a_{stab}(u,v,\\boldsymbol{\\mu}) = a(u,v,\\boldsymbol{\\mu}) + s(u,v,\\boldsymbol{\\mu}),$$\n",
    "\n",
    "where\n",
    "\n",
    "$$\n",
    "\\begin{align*}\n",
    "    a(u,v;\\boldsymbol{\\mu}) &= \\int_{\\Omega} \\frac{1}{10\\,^{\\boldsymbol{\\mu}}}\\nabla u \\cdot \\nabla v +\\left[(1,1)\\cdot\\nabla u\\right]v\\ d\\boldsymbol{x},\\\\\n",
    "    s(u,v;\\boldsymbol{\\mu}) &= \\sum_{K\\in\\mathcal{T}_h}\\delta_K\\int_K \n",
    "    \\left(-\\frac{1}{10\\,^{\\boldsymbol{\\mu}}}\\Delta u+(1,1)\\cdot\\nabla u\\right)\\left(\\frac{h_K}{\\sqrt{2}}(1,1)\\cdot\\nabla v\\right)\\ d\\boldsymbol{x},\n",
    "\\end{align*}\n",
    "$$\n",
    "\n",
    "and\n",
    "* the parametrized linear form $f_{stab}(\\cdot; \\boldsymbol{\\mu}): \\mathbb{V} \\to \\mathbb{R}$ is defined by\n",
    "$$\n",
    "f_{stab}(v;\\boldsymbol{\\mu}) = f(v;\\boldsymbol{\\mu}) + r(v;\\boldsymbol{\\mu})\n",
    "$$\n",
    "\n",
    "where\n",
    "\n",
    "$$\n",
    "\\begin{align*}\n",
    "    f(v;\\boldsymbol{\\mu}) &= \\int_{\\Omega} v\\ d\\boldsymbol{x}, \\\\\n",
    "    r(v;\\boldsymbol{\\mu}) &= \\sum_{K\\in\\mathcal{T}_h}\\delta_K\\int_K \\left(\\frac{h_K}{\\sqrt{2}}(1,1)\\cdot\\nabla v\\right)\\ d\\boldsymbol{x}.\n",
    "\\end{align*}\n",
    "$$"
   ]
  },
  {
   "cell_type": "code",
   "execution_count": null,
   "metadata": {},
   "outputs": [],
   "source": [
    "from dolfin import *\n",
    "from rbnics import *\n",
    "from problems import *\n",
    "from reduction_methods import *"
   ]
  },
  {
   "cell_type": "markdown",
   "metadata": {},
   "source": [
    "## 3. Affine decomposition\n",
    "\n",
    "For this problem the affine decomposition is straightforward:\n",
    "\n",
    "$$a(u,v;\\boldsymbol{\\mu})=\\underbrace{\\frac{1}{10\\,^{\\boldsymbol{\\mu}}}}_{\\Theta^{a}_0(\\boldsymbol{\\mu})}\\underbrace{\\int_{\\Omega}\\nabla u \\cdot \\nabla v \\ d\\boldsymbol{x}}_{a_0(u,v)} \\ + \\  \\underbrace{1}_{\\Theta^{a}_1(\\boldsymbol{\\mu})}\\underbrace{\\int_{\\Omega}\\left[(1,1)\\cdot\\nabla u\\right]v \\ d\\boldsymbol{x}}_{a_1(u,v)},$$\n",
    "$$f(v; \\boldsymbol{\\mu}) = \\underbrace{1}_{\\Theta^{f}_0(\\boldsymbol{\\mu})} \\underbrace{\\int_{\\Omega}v \\ d\\boldsymbol{x}}_{f_0(v)}.$$\n",
    "\n",
    "Adding the following forms, we obtaing the affine decomposition for the stabilized approach:\n",
    "\n",
    "$$s(u,v;\\boldsymbol{\\mu}) = \\sum_{K\\in\\mathcal{T}_h}\\underbrace{\\frac{\\delta_K}{10\\,^{\\boldsymbol{\\mu}}}}_{\\Theta^{s}_0(\\boldsymbol{\\mu})}\\underbrace{\\int_K \n",
    "    \\Delta u\\left(\\frac{h_K}{\\sqrt{2}}(1,1)\\cdot\\nabla v\\right)\\ d\\boldsymbol{x}}_{s_0(u,v)} \\ + \\\n",
    "    \\sum_{K\\in\\mathcal{T}_h}\\underbrace{\\delta_K}_{\\Theta^{s}_1(\\boldsymbol{\\mu})}\\underbrace{\\int_K \n",
    "    \\left((1,1)\\cdot\\nabla u\\right)\\left(\\frac{h_K}{\\sqrt{2}}(1,1)\\cdot\\nabla v\\right)\\ d\\boldsymbol{x}}_{s_1(u,v)},$$\n",
    "$$r(v; \\boldsymbol{\\mu}) = \\sum_{K\\in\\mathcal{T}_h}\\underbrace{\\delta_K}_{\\Theta^{r}_0(\\boldsymbol{\\mu})} \\underbrace{\\int_K\\left(\\frac{h_K}{\\sqrt{2}}(1,1)\\cdot\\nabla v\\right)\\ d\\boldsymbol{x}}_{r_0(v)}.$$\n",
    "We will implement the numerical discretization of the problem in the class\n",
    "```\n",
    "class AdvectionDominated(EllipticCoerciveProblem):\n",
    "```\n",
    "by specifying the coefficients $\\Theta^{a}_*(\\boldsymbol{\\mu})$ and $\\Theta^{f}_*(\\boldsymbol{\\mu})$ in the method\n",
    "```\n",
    "    def compute_theta(self, term):     \n",
    "```\n",
    "and the bilinear forms $a_*(u, v)$ and linear forms $f_*(v)$ in\n",
    "```\n",
    "    def assemble_operator(self, term):\n",
    "```"
   ]
  },
  {
   "cell_type": "code",
   "execution_count": null,
   "metadata": {},
   "outputs": [],
   "source": [
    "@OnlineStabilization()\n",
    "class AdvectionDominated(EllipticCoerciveProblem):\n",
    "\n",
    "    # Default initialization of members\n",
    "    def __init__(self, V, **kwargs):\n",
    "        # Call the standard initialization\n",
    "        EllipticCoerciveProblem.__init__(self, V, **kwargs)\n",
    "        # ... and also store FEniCS data structures for assembly\n",
    "        assert \"subdomains\" in kwargs\n",
    "        assert \"boundaries\" in kwargs\n",
    "        self.subdomains, self.boundaries = kwargs[\"subdomains\"], kwargs[\"boundaries\"]\n",
    "        self.u = TrialFunction(V)\n",
    "        self.v = TestFunction(V)\n",
    "        self.dx = Measure(\"dx\")(subdomain_data=subdomains)\n",
    "        self.ds = Measure(\"ds\")(subdomain_data=boundaries)\n",
    "        # Store advection and forcing expressions\n",
    "        self.beta = Constant((1.0, 1.0))\n",
    "        self.f = Constant(1.0)\n",
    "        # Store terms related to stabilization\n",
    "        self.delta = 0.5\n",
    "        self.h = CellDiameter(V.mesh())\n",
    "\n",
    "    # Return custom problem name\n",
    "    def name(self):\n",
    "        return \"AdvectionDominated1RB\"\n",
    "\n",
    "    # Return stability factor\n",
    "    def get_stability_factor_lower_bound(self):\n",
    "        return 1.\n",
    "\n",
    "    # Return theta multiplicative terms of the affine expansion of the problem.\n",
    "    def compute_theta(self, term):\n",
    "        mu = self.mu\n",
    "        if term == \"a\":\n",
    "            theta_a0 = 10.0**(- mu[0])\n",
    "            theta_a1 = 1.0\n",
    "            if self.stabilized:\n",
    "                delta = self.delta\n",
    "                theta_a2 = - delta * 10.0**(- mu[0])\n",
    "                theta_a3 = delta\n",
    "            else:\n",
    "                theta_a2 = 0.0\n",
    "                theta_a3 = 0.0\n",
    "            return (theta_a0, theta_a1, theta_a2, theta_a3)\n",
    "        elif term == \"f\":\n",
    "            theta_f0 = 1.0\n",
    "            if self.stabilized:\n",
    "                delta = self.delta\n",
    "                theta_f1 = delta\n",
    "            else:\n",
    "                theta_f1 = 0.0\n",
    "            return (theta_f0, theta_f1)\n",
    "        else:\n",
    "            raise ValueError(\"Invalid term for compute_theta().\")\n",
    "\n",
    "    # Return forms resulting from the discretization of the affine expansion of the problem operators.\n",
    "    def assemble_operator(self, term):\n",
    "        v = self.v\n",
    "        dx = self.dx\n",
    "        if term == \"a\":\n",
    "            u = self.u\n",
    "            beta = self.beta\n",
    "            h = self.h\n",
    "            a0 = inner(grad(u), grad(v)) * dx\n",
    "            a1 = inner(beta, grad(u)) * v * dx\n",
    "            a2 = inner(div(grad(u)), h * inner(beta, grad(v))) * dx\n",
    "            a3 = inner(inner(beta, grad(u)), h * inner(beta, grad(v))) * dx\n",
    "            return (a0, a1, a2, a3)\n",
    "        elif term == \"f\":\n",
    "            f = self.f\n",
    "            beta = self.beta\n",
    "            h = self.h\n",
    "            f0 = f * v * dx\n",
    "            f1 = inner(f, h * inner(beta, grad(v))) * dx\n",
    "            return (f0, f1)\n",
    "        elif term == \"k\":\n",
    "            u = self.u\n",
    "            k0 = inner(grad(u), grad(v)) * dx\n",
    "            return (k0,)\n",
    "        elif term == \"m\":\n",
    "            u = self.u\n",
    "            m0 = inner(u, v) * dx\n",
    "            return (m0,)\n",
    "        elif term == \"dirichlet_bc\":\n",
    "            bc0 = [DirichletBC(self.V, Constant(0.0), self.boundaries, 1),\n",
    "                   DirichletBC(self.V, Constant(0.0), self.boundaries, 2)]\n",
    "            return (bc0,)\n",
    "        elif term == \"inner_product\":\n",
    "            u = self.u\n",
    "            x0 = inner(grad(u), grad(v)) * dx\n",
    "            return (x0,)\n",
    "        else:\n",
    "            raise ValueError(\"Invalid term for assemble_operator().\")"
   ]
  },
  {
   "cell_type": "markdown",
   "metadata": {},
   "source": [
    "## 4. Main program\n",
    "\n",
    "### 4.1. Read the mesh for this problem\n",
    "The mesh was generated by the [data/generate_mesh.ipynb](data/generate_mesh.ipynb) notebook."
   ]
  },
  {
   "cell_type": "code",
   "execution_count": null,
   "metadata": {},
   "outputs": [],
   "source": [
    "mesh = Mesh(\"data/square.xml\")\n",
    "subdomains = MeshFunction(\"size_t\", mesh, \"data/square_physical_region.xml\")\n",
    "boundaries = MeshFunction(\"size_t\", mesh, \"data/square_facet_region.xml\")"
   ]
  },
  {
   "cell_type": "markdown",
   "metadata": {},
   "source": [
    "### 4.2. Create Finite Element space (Lagrange P2)"
   ]
  },
  {
   "cell_type": "code",
   "execution_count": null,
   "metadata": {},
   "outputs": [],
   "source": [
    "V = FunctionSpace(mesh, \"Lagrange\", 2)"
   ]
  },
  {
   "cell_type": "markdown",
   "metadata": {},
   "source": [
    "### 4.3. Allocate an object of the AdvectionDominated class"
   ]
  },
  {
   "cell_type": "code",
   "execution_count": null,
   "metadata": {},
   "outputs": [],
   "source": [
    "problem = AdvectionDominated(V, subdomains=subdomains, boundaries=boundaries)\n",
    "mu_range = [(0.0, 6.0)]\n",
    "problem.set_mu_range(mu_range)"
   ]
  },
  {
   "cell_type": "markdown",
   "metadata": {},
   "source": [
    "### 4.4. Prepare reduction with a reduced basis method"
   ]
  },
  {
   "cell_type": "code",
   "execution_count": null,
   "metadata": {},
   "outputs": [],
   "source": [
    "reduction_method = ReducedBasis(problem)\n",
    "reduction_method.set_Nmax(15)"
   ]
  },
  {
   "cell_type": "markdown",
   "metadata": {},
   "source": [
    "### 4.5. Perform the offline phase"
   ]
  },
  {
   "cell_type": "code",
   "execution_count": null,
   "metadata": {},
   "outputs": [],
   "source": [
    "reduction_method.initialize_training_set(100)\n",
    "reduced_problem = reduction_method.offline()"
   ]
  },
  {
   "cell_type": "markdown",
   "metadata": {},
   "source": [
    "### 4.6. Perform an online solve"
   ]
  },
  {
   "cell_type": "code",
   "execution_count": null,
   "metadata": {},
   "outputs": [],
   "source": [
    "online_mu = (6.0, )\n",
    "reduced_problem.set_mu(online_mu)\n",
    "reduced_problem.solve(online_stabilization=True)\n",
    "reduced_problem.export_solution(filename=\"online_solution_with_stabilization\")\n",
    "reduced_problem.export_error(filename=\"online_error_with_stabilization\")\n",
    "reduced_problem.solve(online_stabilization=False)\n",
    "reduced_problem.export_solution(filename=\"online_solution_without_stabilization\")\n",
    "reduced_problem.export_error(filename=\"online_error_without_stabilization\")"
   ]
  },
  {
   "cell_type": "markdown",
   "metadata": {},
   "source": [
    "### 4.7. Perform an error analysis"
   ]
  },
  {
   "cell_type": "code",
   "execution_count": null,
   "metadata": {},
   "outputs": [],
   "source": [
    "reduction_method.initialize_testing_set(100)\n",
    "reduction_method.error_analysis(online_stabilization=True, filename=\"error_analysis_with_stabilization\")\n",
    "reduction_method.error_analysis(online_stabilization=False, filename=\"error_analysis_without_stabilization\")"
   ]
  },
  {
   "cell_type": "markdown",
   "metadata": {},
   "source": [
    "### 4.8. Perform a speedup analysis"
   ]
  },
  {
   "cell_type": "code",
   "execution_count": null,
   "metadata": {},
   "outputs": [],
   "source": [
    "reduction_method.speedup_analysis(online_stabilization=True, filename=\"speedup_analysis_with_stabilization\")\n",
    "reduction_method.speedup_analysis(online_stabilization=False, filename=\"speedup_analysis_without_stabilization\")"
   ]
  }
 ],
 "metadata": {
  "kernelspec": {
   "display_name": "Python 3",
   "language": "python",
   "name": "python3"
  },
  "language_info": {
   "codemirror_mode": {
    "name": "ipython"
   },
   "file_extension": ".py",
   "mimetype": "text/x-python",
   "name": "python",
   "nbconvert_exporter": "python"
  }
 },
 "nbformat": 4,
 "nbformat_minor": 4
}
