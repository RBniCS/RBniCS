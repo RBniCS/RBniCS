{
 "cells": [
  {
   "cell_type": "code",
   "execution_count": null,
   "metadata": {},
   "outputs": [],
   "source": [
    "from dolfin import *\n",
    "from mshr import *"
   ]
  },
  {
   "cell_type": "code",
   "execution_count": null,
   "metadata": {},
   "outputs": [],
   "source": [
    "# Create mesh\n",
    "domain = Rectangle(Point(0., 0.), Point(1., 1.))\n",
    "subdomain1 = Rectangle(Point(0.0, 0.0), Point(1.0, 0.25))\n",
    "subdomain2 = Rectangle(Point(0.0, 0.25), Point(1.0, 1.0))\n",
    "domain.set_subdomain(1, subdomain1)  # add some fake subdomains to make sure that the mesh is split\n",
    "domain.set_subdomain(2, subdomain2)  # at x[1] = 0.25, since boundary id changes at (0, 0.25)\n",
    "mesh = generate_mesh(domain, 50)"
   ]
  },
  {
   "cell_type": "code",
   "execution_count": null,
   "metadata": {},
   "outputs": [],
   "source": [
    "# Create subdomains\n",
    "subdomains = MeshFunction(\"size_t\", mesh, 2)\n",
    "subdomains.set_all(0)"
   ]
  },
  {
   "cell_type": "code",
   "execution_count": null,
   "metadata": {},
   "outputs": [],
   "source": [
    "# Create boundaries\n",
    "class Boundary1(SubDomain):\n",
    "    def inside(self, x, on_boundary):\n",
    "        return on_boundary and (\n",
    "            abs(x[1] - 0.) < DOLFIN_EPS\n",
    "            or (abs(x[0] - 0.) < DOLFIN_EPS and x[1] <= 0.25)\n",
    "        )\n",
    "\n",
    "\n",
    "class Boundary2(SubDomain):\n",
    "    def inside(self, x, on_boundary):\n",
    "        return on_boundary and (\n",
    "            abs(x[1] - 1.) < DOLFIN_EPS\n",
    "            or abs(x[0] - 1.) < DOLFIN_EPS\n",
    "            or (abs(x[0] - 0.) < DOLFIN_EPS and x[1] >= 0.25)\n",
    "        )\n",
    "\n",
    "\n",
    "boundaries = MeshFunction(\"size_t\", mesh, mesh.topology().dim() - 1)\n",
    "boundaries.set_all(0)\n",
    "boundary_1 = Boundary1()\n",
    "boundary_1.mark(boundaries, 1)\n",
    "boundary_2 = Boundary2()\n",
    "boundary_2.mark(boundaries, 2)"
   ]
  },
  {
   "cell_type": "code",
   "execution_count": null,
   "metadata": {},
   "outputs": [],
   "source": [
    "# Save\n",
    "File(\"square.xml\") << mesh\n",
    "File(\"square_physical_region.xml\") << subdomains\n",
    "File(\"square_facet_region.xml\") << boundaries\n",
    "XDMFFile(\"square.xdmf\").write(mesh)\n",
    "XDMFFile(\"square_physical_region.xdmf\").write(subdomains)\n",
    "XDMFFile(\"square_facet_region.xdmf\").write(boundaries)"
   ]
  }
 ],
 "metadata": {
  "kernelspec": {
   "display_name": "Python 3",
   "language": "python",
   "name": "python3"
  },
  "language_info": {
   "codemirror_mode": {
    "name": "ipython"
   },
   "file_extension": ".py",
   "mimetype": "text/x-python",
   "name": "python",
   "nbconvert_exporter": "python"
  }
 },
 "nbformat": 4,
 "nbformat_minor": 4
}
