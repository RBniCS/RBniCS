{
 "cells": [
  {
   "cell_type": "markdown",
   "metadata": {},
   "source": [
    "## TUTORIAL 03 - Geometrical parametrization\n",
    "**_Keywords: geometrical parametrization_**\n",
    "\n",
    "### 1. Introduction\n",
    "\n",
    "This Tutorial introduces problems featuring a geometrical parametrization, by solving a thermal conduction problem on a parametrized computational domain $\\Omega_o(\\boldsymbol{\\mu})$ shown below:\n",
    "\n",
    "<img src=\"https://github.com/RBniCS/RBniCS/raw/master/tutorials/03_hole/data/hole_1.png\" width=\"35%\"/>\n",
    "\n",
    "The problem is characterized by three parameters. The parameters $\\mu_0$ and $\\mu_1$ are related to the shape of the central hole as shown in the picture above, and vary in the following intervals\n",
    "$$\n",
    "\\mu_0\\in[0.5,1.5] \\quad \\text{and}\\quad \\mu_1\\in[0.5,1.5].\n",
    "$$\n",
    "\n",
    "The parameter $\\mu_2$ is the Biot number, which allows to parametrize heat exchange with a surrounding exterior fluid (e.g., air) in the following interval\n",
    "$$\n",
    "\\mu_2\\in[0.01,1];\n",
    "$$\n",
    "the diffusion process on the external boundaries $\\Gamma_{o, 5} \\cup \\Gamma_{o, 6} \\cup \\Gamma_{o, 7} \\cup \\Gamma_{o, 8}$ will be affected by this parameter.\n",
    "\n",
    "The parameter vector $\\boldsymbol{\\mu}$ is thus given by \n",
    "$$\n",
    "\\boldsymbol{\\mu} = (\\mu_0, \\mu_1, \\mu_2)\n",
    "$$\n",
    "on the parameter domain\n",
    "$$\n",
    "\\mathbb{P}=[0.5,1.5]^2\\times[0.01,1].\n",
    "$$\n",
    "\n",
    "In order to obtain a faster approximation of the problem, and avoiding _any_ remeshing, we pursue a model reduction by means of a POD-Galerkin reduced order method from a fixed reference domain."
   ]
  },
  {
   "cell_type": "code",
   "execution_count": null,
   "id": "fenics_installation",
   "metadata": {},
   "outputs": [],
   "source": [
    "# Install FEniCS\n",
    "try:\n",
    "    import dolfin\n",
    "except ImportError:\n",
    "    !wget \"https://fem-on-colab.github.io/releases/fenics-install-real.sh\" -O \"/tmp/fenics-install.sh\" && bash \"/tmp/fenics-install.sh\"\n",
    "    import dolfin"
   ]
  },
  {
   "cell_type": "code",
   "execution_count": null,
   "id": "rbnics_installation",
   "metadata": {},
   "outputs": [],
   "source": [
    "# Install RBniCS\n",
    "try:\n",
    "    import rbnics\n",
    "except ImportError:\n",
    "    !pip3 install git+https://github.com/RBniCS/RBniCS.git\n",
    "    import rbnics\n",
    "import rbnics.utils.config\n",
    "assert \"dolfin\" in rbnics.utils.config.config.get(\"backends\", \"required backends\")"
   ]
  },
  {
   "cell_type": "code",
   "execution_count": null,
   "id": "auxiliary_files",
   "metadata": {},
   "outputs": [],
   "source": [
    "# Download data files\n",
    "!mkdir -p data\n",
    "!mkdir -p utils\n",
    "!mkdir -p utils/decorators\n",
    "![ -f data/hole.xml ] || wget https://github.com/RBniCS/RBniCS/raw/master/tutorials/03_hole/data/hole.xml -O data/hole.xml\n",
    "![ -f data/hole_facet_region.xml ] || wget https://github.com/RBniCS/RBniCS/raw/master/tutorials/03_hole/data/hole_facet_region.xml -O data/hole_facet_region.xml\n",
    "![ -f data/hole_physical_region.xml ] || wget https://github.com/RBniCS/RBniCS/raw/master/tutorials/03_hole/data/hole_physical_region.xml -O data/hole_physical_region.xml\n",
    "![ -f data/hole_vertices_mapping.vmp ] || wget https://github.com/RBniCS/RBniCS/raw/master/tutorials/03_hole/data/hole_vertices_mapping.vmp -O data/hole_vertices_mapping.vmp\n",
    "![ -f utils/__init__.py ] || wget https://github.com/RBniCS/RBniCS/raw/master/tutorials/03_hole/utils/__init__.py -O utils/__init__.py\n",
    "![ -f utils/decorators/__init__.py ] || wget https://github.com/RBniCS/RBniCS/raw/master/tutorials/03_hole/utils/decorators/__init__.py -O utils/decorators/__init__.py\n",
    "![ -f utils/decorators/enable_debug.py ] || wget https://github.com/RBniCS/RBniCS/raw/master/tutorials/03_hole/utils/decorators/enable_debug.py -O utils/decorators/enable_debug.py"
   ]
  },
  {
   "cell_type": "markdown",
   "metadata": {},
   "source": [
    "### 2. Parametrized formulation\n",
    "\n",
    "Let $u_o(\\boldsymbol{\\mu})$ be the temperature in the domain $\\Omega_o(\\boldsymbol{\\mu})$.\n",
    "\n",
    "We will directly provide a weak formulation for this problem\n",
    "<center>for a given parameter $\\boldsymbol{\\mu}\\in\\mathbb{P}$, find $u_o(\\boldsymbol{\\mu})\\in\\mathbb{V}_o(\\boldsymbol{\\mu})$ such that</center>\n",
    "\n",
    "$$a_o\\left(u_o(\\boldsymbol{\\mu}),v_o;\\boldsymbol{\\mu}\\right)=f_o(v_o;\\boldsymbol{\\mu})\\quad \\forall v_o\\in\\mathbb{V}_o(\\boldsymbol{\\mu})$$\n",
    "\n",
    "where\n",
    "\n",
    "* the function space $\\mathbb{V}_o(\\boldsymbol{\\mu})$ is defined as\n",
    "$$\n",
    "\\mathbb{V}_o(\\boldsymbol{\\mu}) = H^1(\\Omega(\\boldsymbol{\\mu})).\n",
    "$$\n",
    "Note that, in contrast to the previous tutorials, the function space is parameter dependent due to the shape variation. \n",
    "* the parametrized bilinear form $a_o(\\cdot, \\cdot; \\boldsymbol{\\mu}): \\mathbb{V}_o(\\boldsymbol{\\mu}) \\times \\mathbb{V}_o(\\boldsymbol{\\mu}) \\to \\mathbb{R}$ is defined by\n",
    "$$a_o(u_o,v_o;\\boldsymbol{\\mu}) = \\int_{\\Omega_o(\\boldsymbol{\\mu})}\\nabla u_o\\cdot\\nabla v_o \\ d\\boldsymbol{x} + \\mu_2\\left(\\int_{\\Gamma_{o,5}}u_o\\,v_o \\ ds + \\int_{\\Gamma_{o,6}}u_o\\,v_o \\ ds + \\int_{\\Gamma_{o,7}}u_o\\,v_o \\ ds + \\int_{\\Gamma_{o,8}}u_o\\,v_o \\ ds\\right),$$\n",
    "* the parametrized linear form $f_o(\\cdot; \\boldsymbol{\\mu}): \\mathbb{V}_o(\\boldsymbol{\\mu}) \\to \\mathbb{R}$ is defined by\n",
    "$$f_o(v_o;\\boldsymbol{\\mu}) = \\int_{\\Gamma_{o,1}(\\boldsymbol{\\mu})}v_o \\ ds + \\int_{\\Gamma_{o,2}(\\boldsymbol{\\mu})}v_o \\ ds + \\int_{\\Gamma_{o,3}(\\boldsymbol{\\mu})}v_o \\ ds + \\int_{\\Gamma_{o,4}(\\boldsymbol{\\mu})}v_o \\ ds.$$"
   ]
  },
  {
   "cell_type": "code",
   "execution_count": null,
   "metadata": {},
   "outputs": [],
   "source": [
    "from dolfin import *\n",
    "from rbnics import *"
   ]
  },
  {
   "cell_type": "markdown",
   "metadata": {},
   "source": [
    "## 3. Affine decomposition\n",
    "\n",
    "In order to obtain an affine decomposition, we need to recast the problem on a fixed, parameter _independent_, reference domain, as follows:\n",
    "\n",
    "1. Choose $\\Omega = \\Omega_o((\\mu_0, \\mu_1) \\equiv (1, 1))$ as reference domain, which we generate through the generate_mesh notebook provided in the _data_ folder.\n",
    "2. Define a map $\\boldsymbol{T}(\\boldsymbol{\\cdot}; \\boldsymbol{\\mu}): \\Omega \\to \\Omega_o(\\boldsymbol{\\mu})$ to carry out a pull back of the problem from the parametrized domain $\\Omega_o(\\boldsymbol{\\mu})$ to the reference one $\\Omega$. Since we aim at obtaining an affine decomposition, the map $\\boldsymbol{T}(\\boldsymbol{\\cdot}; \\boldsymbol{\\mu})$ should be affine in its first argument. This is possible by taking a partition of the reference domain in several triangular subdomains, such as the following one\n",
    "\n",
    "<img src=\"https://github.com/RBniCS/RBniCS/raw/master/tutorials/03_hole/data/hole_2.png\" width=\"35%\"/><br>\n",
    "3. Define a reference function space $$\\mathbb{V} = H^1(\\Omega),$$ to which the pulled back solution\n",
    "$$u(\\boldsymbol{\\cdot}; \\boldsymbol{\\mu}) = u_o(\\boldsymbol{T}(\\boldsymbol{\\cdot}; \\boldsymbol{\\mu}); \\boldsymbol{\\mu})$$ belongs\n",
    "4. Pull back the bilinear form $a_o(\\cdot, \\cdot; \\boldsymbol{\\mu})$ and linear form $f_o(\\cdot; \\boldsymbol{\\mu})$ onto the reference domain $\\Omega$ by change of variables. Note that, due to the definition of the map $\\boldsymbol{T}(\\boldsymbol{\\cdot}; \\boldsymbol{\\mu})$, the pull back will be different from one subdomain to the other. Call\n",
    "$$a(\\cdot, \\cdot; \\boldsymbol{\\mu}): \\mathbb{V} \\times \\mathbb{V} \\to \\mathbb{R}$$\n",
    "$$f(\\cdot; \\boldsymbol{\\mu}): \\mathbb{V} \\to \\mathbb{R}$$\n",
    "the resulting forms (and note that their arguments are now defined on $\\Omega$).\n",
    "5. Solve the equivalent problem\n",
    "<center>for a given parameter $\\boldsymbol{\\mu}\\in\\mathbb{P}$, find $u(\\boldsymbol{\\mu})\\in\\mathbb{V}$ such that</center>\n",
    "\n",
    "$$a\\left(u(\\boldsymbol{\\mu}),v;\\boldsymbol{\\mu}\\right)=f(v;\\boldsymbol{\\mu})\\quad \\forall v\\in\\mathbb{V}$$\n"
   ]
  },
  {
   "cell_type": "code",
   "execution_count": null,
   "metadata": {},
   "outputs": [],
   "source": [
    "@PullBackFormsToReferenceDomain()\n",
    "@AffineShapeParametrization(\"data/hole_vertices_mapping.vmp\")\n",
    "class Hole(EllipticCoerciveProblem):\n",
    "\n",
    "    # Default initialization of members\n",
    "    def __init__(self, V, **kwargs):\n",
    "        # Call the standard initialization\n",
    "        EllipticCoerciveProblem.__init__(self, V, **kwargs)\n",
    "        # ... and also store FEniCS data structures for assembly\n",
    "        assert \"subdomains\" in kwargs\n",
    "        assert \"boundaries\" in kwargs\n",
    "        self.subdomains, self.boundaries = kwargs[\"subdomains\"], kwargs[\"boundaries\"]\n",
    "        self.u = TrialFunction(V)\n",
    "        self.v = TestFunction(V)\n",
    "        self.dx = Measure(\"dx\")(subdomain_data=subdomains)\n",
    "        self.ds = Measure(\"ds\")(subdomain_data=boundaries)\n",
    "        self.subdomains = subdomains\n",
    "        self.boundaries = boundaries\n",
    "\n",
    "    # Return custom problem name\n",
    "    def name(self):\n",
    "        return \"Hole\"\n",
    "\n",
    "    # Return theta multiplicative terms of the affine expansion of the problem.\n",
    "    def compute_theta(self, term):\n",
    "        mu = self.mu\n",
    "        if term == \"a\":\n",
    "            theta_a0 = 1.0\n",
    "            theta_a1 = mu[2]\n",
    "            return (theta_a0, theta_a1)\n",
    "        elif term == \"f\":\n",
    "            theta_f0 = 1.0\n",
    "            return (theta_f0, )\n",
    "        else:\n",
    "            raise ValueError(\"Invalid term for compute_theta().\")\n",
    "\n",
    "    # Return forms resulting from the discretization of the affine expansion of the problem operators.\n",
    "    def assemble_operator(self, term):\n",
    "        u = self.u\n",
    "        v = self.v\n",
    "        dx = self.dx\n",
    "        ds = self.ds\n",
    "        if term == \"a\":\n",
    "            a0 = inner(grad(u), grad(v)) * dx\n",
    "            a1 = inner(u, v) * ds(5) + inner(u, v) * ds(6) + inner(u, v) * ds(7) + inner(u, v) * ds(8)\n",
    "            return (a0, a1)\n",
    "        elif term == \"f\":\n",
    "            f0 = v * ds(1) + v * ds(2) + v * ds(3) + v * ds(4)\n",
    "            return (f0, )\n",
    "        elif term == \"inner_product\":\n",
    "            x0 = u * v * dx + inner(grad(u), grad(v)) * dx\n",
    "            return (x0,)\n",
    "        else:\n",
    "            raise ValueError(\"Invalid term for assemble_operator().\")"
   ]
  },
  {
   "cell_type": "markdown",
   "metadata": {},
   "source": [
    "## 4. Main program\n",
    "### 4.1. Read the mesh for this problem\n",
    "The mesh was generated by the [data/generate_mesh.ipynb](https://colab.research.google.com/github/RBniCS/RBniCS/blob/open-in-colab/tutorials/03_hole/data/generate_mesh.ipynb\n",
    ") notebook."
   ]
  },
  {
   "cell_type": "code",
   "execution_count": null,
   "metadata": {},
   "outputs": [],
   "source": [
    "mesh = Mesh(\"data/hole.xml\")\n",
    "subdomains = MeshFunction(\"size_t\", mesh, \"data/hole_physical_region.xml\")\n",
    "boundaries = MeshFunction(\"size_t\", mesh, \"data/hole_facet_region.xml\")"
   ]
  },
  {
   "cell_type": "markdown",
   "metadata": {},
   "source": [
    "### 4.2. Create Finite Element space (Lagrange P1)"
   ]
  },
  {
   "cell_type": "code",
   "execution_count": null,
   "metadata": {},
   "outputs": [],
   "source": [
    "V = FunctionSpace(mesh, \"Lagrange\", 1)"
   ]
  },
  {
   "cell_type": "markdown",
   "metadata": {},
   "source": [
    "### 4.3. Allocate an object of the Hole class"
   ]
  },
  {
   "cell_type": "code",
   "execution_count": null,
   "metadata": {},
   "outputs": [],
   "source": [
    "problem = Hole(V, subdomains=subdomains, boundaries=boundaries)\n",
    "mu_range = [(0.5, 1.5), (0.5, 1.5), (0.01, 1.0)]\n",
    "problem.set_mu_range(mu_range)"
   ]
  },
  {
   "cell_type": "markdown",
   "metadata": {},
   "source": [
    "### 4.4. Prepare reduction with a POD-Galerkin method"
   ]
  },
  {
   "cell_type": "code",
   "execution_count": null,
   "metadata": {},
   "outputs": [],
   "source": [
    "reduction_method = PODGalerkin(problem)\n",
    "reduction_method.set_Nmax(20)\n",
    "reduction_method.set_tolerance(1e-6)"
   ]
  },
  {
   "cell_type": "markdown",
   "metadata": {},
   "source": [
    "### 4.5. Perform the offline phase"
   ]
  },
  {
   "cell_type": "code",
   "execution_count": null,
   "metadata": {},
   "outputs": [],
   "source": [
    "reduction_method.initialize_training_set(100)\n",
    "reduced_problem = reduction_method.offline()"
   ]
  },
  {
   "cell_type": "markdown",
   "metadata": {},
   "source": [
    "### 4.6. Perform an online solve"
   ]
  },
  {
   "cell_type": "code",
   "execution_count": null,
   "metadata": {},
   "outputs": [],
   "source": [
    "online_mu = (0.5, 0.5, 0.01)\n",
    "reduced_problem.set_mu(online_mu)\n",
    "reduced_solution = reduced_problem.solve()\n",
    "plot(reduced_solution, reduced_problem=reduced_problem)"
   ]
  },
  {
   "cell_type": "markdown",
   "metadata": {},
   "source": [
    "### 4.7. Perform an error analysis"
   ]
  },
  {
   "cell_type": "code",
   "execution_count": null,
   "metadata": {},
   "outputs": [],
   "source": [
    "reduction_method.initialize_testing_set(100)\n",
    "reduction_method.error_analysis()"
   ]
  },
  {
   "cell_type": "markdown",
   "metadata": {},
   "source": [
    "### 4.8. Perform a speedup analysis"
   ]
  },
  {
   "cell_type": "code",
   "execution_count": null,
   "metadata": {},
   "outputs": [],
   "source": [
    "# 8. Perform a speedup analysis\n",
    "reduction_method.initialize_testing_set(100)\n",
    "reduction_method.speedup_analysis()"
   ]
  },
  {
   "cell_type": "markdown",
   "metadata": {},
   "source": [
    "## 5. Assignments\n",
    "1. Why was the domain $\\Omega$ partitioned into triangular subdomains, rather than e.g. rectangular ones? Pick a subdomain $\\Omega_s$, $s=1, \\dots, 8$ and write down the transformation $\\boldsymbol{T}(\\boldsymbol{\\cdot}; \\boldsymbol{\\mu})|_{\\Omega_s}$. Then, perform by yourself the change of variable to obtain the addends in $a(\\cdot, \\cdot; \\boldsymbol{\\mu})$ and $f(\\cdot; \\boldsymbol{\\mu})$ corresponding to the subdomain $\\Omega_s$. Finally, compare what you have obtained to the automatic pull back carried out by RBniCS enabling debugging in the Hole decorators as follows:\n",
    "```\n",
    "from utils.decorators import EnableDebug\n",
    "@EnableDebug()\n",
    "@PullBackFormsToReferenceDomain()\n",
    "@AffineShapeParametrization(\"https://github.com/RBniCS/RBniCS/raw/master/tutorials/03_hole/data/hole_vertices_mapping.vmp\")\n",
    "```\n",
    "\n",
    "2. Consider an additional parameter $\\mu_3 \\in [-0.1, 0.1]$ and let now the position of the bottom right vertex of the rectangular hole be defined as $(\\mu_0, -\\mu_1 + \\mu_3)$ instead of $(\\mu_0, -\\mu_1)$. The deformation of the remaining vertices is the same as the original problem. Edit the mappings defined in the generate_mesh notebook in the _data_ folder accordingly, as well as the Hole class in this notebook. Which triangular subdomains are affected by this change, and which aren't? _Suggestion: make sure also to change the mapping filename in the mesh generation notebook before saving it to file. Moreover, for every new notebook copy change the value returned by the name() method of the Hole class to avoid conflicts between this notebook and your copy_.\n",
    "\n",
    "3. [*] Consider now a different shape variation which, starting from the reference domain $\\Omega$, rotates the square hole of angle $\\theta$. The resulting problem is characterized by two parameters, $\\theta$ and $\\mu_2$. Edit the mappings defined in the generate_mesh notebook in the _data_ folder accordingly, as well as the Hole class in this notebook. What should be the range of variation for $\\theta$? Discuss the results in terms of errors and speedups.\n"
   ]
  }
 ],
 "metadata": {
  "kernelspec": {
   "display_name": "Python 3",
   "language": "python",
   "name": "python3"
  },
  "language_info": {
   "codemirror_mode": {
    "name": "ipython"
   },
   "file_extension": ".py",
   "mimetype": "text/x-python",
   "name": "python",
   "nbconvert_exporter": "python"
  }
 },
 "nbformat": 4,
 "nbformat_minor": 2
}
