{
 "cells": [
  {
   "cell_type": "code",
   "execution_count": null,
   "id": "fenics_installation",
   "metadata": {},
   "outputs": [],
   "source": [
    "# Install FEniCS\n",
    "try:\n",
    "    import dolfin\n",
    "except ImportError:\n",
    "    !wget \"https://fem-on-colab.github.io/releases/fenics-install-real.sh\" -O \"/tmp/fenics-install.sh\" && bash \"/tmp/fenics-install.sh\"\n",
    "    import dolfin"
   ]
  },
  {
   "cell_type": "code",
   "execution_count": null,
   "id": "rbnics_installation",
   "metadata": {},
   "outputs": [],
   "source": [
    "# Install RBniCS\n",
    "try:\n",
    "    import rbnics\n",
    "except ImportError:\n",
    "    !pip3 install git+https://github.com/RBniCS/RBniCS.git\n",
    "    import rbnics\n",
    "import rbnics.utils.config\n",
    "assert \"dolfin\" in rbnics.utils.config.config.get(\"backends\", \"required backends\")"
   ]
  },
  {
   "cell_type": "code",
   "execution_count": null,
   "metadata": {},
   "outputs": [],
   "source": [
    "from dolfin import *\n",
    "from mshr import *\n",
    "from rbnics.backends.dolfin.wrapping import counterclockwise\n",
    "from rbnics.shape_parametrization.utils.symbolic import VerticesMappingIO"
   ]
  },
  {
   "cell_type": "code",
   "execution_count": null,
   "metadata": {},
   "outputs": [],
   "source": [
    "# Define domain\n",
    "outer_rectangle = Rectangle(Point(-2., -2.), Point(2., 2.))\n",
    "inner_rectangle = Rectangle(Point(-1., -1.), Point(1., 1.))\n",
    "domain = outer_rectangle - inner_rectangle"
   ]
  },
  {
   "cell_type": "code",
   "execution_count": null,
   "metadata": {},
   "outputs": [],
   "source": [
    "# Define vertices mappings of affine shape parametrization. These will be used\n",
    "# to partition the mesh in subdomains.\n",
    "vertices_mappings = [\n",
    "    {\n",
    "        (\"-1\", \"-1\"): (\"-mu[0]\", \"-mu[1]\"),\n",
    "        (\"-2\", \"-2\"): (\"-2\", \"-2\"),\n",
    "        (\"1\", \"-1\"): (\"mu[0]\", \"-mu[1]\")\n",
    "    },  # subdomain 1\n",
    "    {\n",
    "        (\"1\", \"-1\"): (\"mu[0]\", \"-mu[1]\"),\n",
    "        (\"-2\", \"-2\"): (\"-2\", \"-2\"),\n",
    "        (\"2\", \"-2\"): (\"2\", \"-2\")\n",
    "    },  # subdomain 2\n",
    "    {\n",
    "        (\"-1\", \"-1\"): (\"-mu[0]\", \"-mu[1]\"),\n",
    "        (\"-1\", \"1\"): (\"-mu[0]\", \"mu[1]\"),\n",
    "        (\"-2\", \"-2\"): (\"-2\", \"-2\")\n",
    "    },  # subdomain 3\n",
    "    {\n",
    "        (\"-1\", \"1\"): (\"-mu[0]\", \"mu[1]\"),\n",
    "        (\"-2\", \"2\"): (\"-2\", \"2\"),\n",
    "        (\"-2\", \"-2\"): (\"-2\", \"-2\")\n",
    "    },  # subdomain 4\n",
    "    {\n",
    "        (\"1\", \"-1\"): (\"mu[0]\", \"-mu[1]\"),\n",
    "        (\"2\", \"-2\"): (\"2\", \"-2\"),\n",
    "        (\"1\", \"1\"): (\"mu[0]\", \"mu[1]\")\n",
    "    },  # subdomain 5\n",
    "    {\n",
    "        (\"2\", \"2\"): (\"2\", \"2\"),\n",
    "        (\"1\", \"1\"): (\"mu[0]\", \"mu[1]\"),\n",
    "        (\"2\", \"-2\"): (\"2\", \"-2\")\n",
    "    },  # subdomain 6\n",
    "    {\n",
    "        (\"-1\", \"1\"): (\"-mu[0]\", \"mu[1]\"),\n",
    "        (\"1\", \"1\"): (\"mu[0]\", \"mu[1]\"),\n",
    "        (\"-2\", \"2\"): (\"-2\", \"2\")\n",
    "    },  # subdomain 7\n",
    "    {\n",
    "        (\"2\", \"2\"): (\"2\", \"2\"),\n",
    "        (\"-2\", \"2\"): (\"-2\", \"2\"),\n",
    "        (\"1\", \"1\"): (\"mu[0]\", \"mu[1]\")\n",
    "    }  # subdomain 8\n",
    "]"
   ]
  },
  {
   "cell_type": "code",
   "execution_count": null,
   "metadata": {},
   "outputs": [],
   "source": [
    "# Create mesh\n",
    "for i, vertices_mapping in enumerate(vertices_mappings):\n",
    "    subdomain_i = Polygon([Point(*[float(coord) for coord in vertex])\n",
    "                           for vertex in counterclockwise(vertices_mapping.keys())])\n",
    "    domain.set_subdomain(i + 1, subdomain_i)\n",
    "mesh = generate_mesh(domain, 46)\n",
    "plot(mesh)"
   ]
  },
  {
   "cell_type": "code",
   "execution_count": null,
   "metadata": {},
   "outputs": [],
   "source": [
    "# Create subdomains\n",
    "subdomains = MeshFunction(\"size_t\", mesh, 2, mesh.domains())\n",
    "plot(subdomains)"
   ]
  },
  {
   "cell_type": "code",
   "execution_count": null,
   "metadata": {},
   "outputs": [],
   "source": [
    "# Create boundaries\n",
    "class LeftInner(SubDomain):\n",
    "    def inside(self, x, on_boundary):\n",
    "        return on_boundary and abs(x[0] + 1.) < DOLFIN_EPS\n",
    "\n",
    "\n",
    "class RightInner(SubDomain):\n",
    "    def inside(self, x, on_boundary):\n",
    "        return on_boundary and abs(x[0] - 1.) < DOLFIN_EPS\n",
    "\n",
    "\n",
    "class BottomInner(SubDomain):\n",
    "    def inside(self, x, on_boundary):\n",
    "        return on_boundary and abs(x[1] + 1.) < DOLFIN_EPS\n",
    "\n",
    "\n",
    "class TopInner(SubDomain):\n",
    "    def inside(self, x, on_boundary):\n",
    "        return on_boundary and abs(x[1] - 1.) < DOLFIN_EPS\n",
    "\n",
    "\n",
    "class LeftOuter(SubDomain):\n",
    "    def inside(self, x, on_boundary):\n",
    "        return on_boundary and abs(x[0] + 2.) < DOLFIN_EPS\n",
    "\n",
    "\n",
    "class RightOuter(SubDomain):\n",
    "    def inside(self, x, on_boundary):\n",
    "        return on_boundary and abs(x[0] - 2.) < DOLFIN_EPS\n",
    "\n",
    "\n",
    "class BottomOuter(SubDomain):\n",
    "    def inside(self, x, on_boundary):\n",
    "        return on_boundary and abs(x[1] + 2.) < DOLFIN_EPS\n",
    "\n",
    "\n",
    "class TopOuter(SubDomain):\n",
    "    def inside(self, x, on_boundary):\n",
    "        return on_boundary and abs(x[1] - 2.) < DOLFIN_EPS\n",
    "\n",
    "\n",
    "boundaries = MeshFunction(\"size_t\", mesh, mesh.topology().dim() - 1)\n",
    "boundaries.set_all(0)\n",
    "bottomInner = BottomInner()\n",
    "bottomInner.mark(boundaries, 1)\n",
    "leftInner = LeftInner()\n",
    "leftInner.mark(boundaries, 2)\n",
    "topInner = TopInner()\n",
    "topInner.mark(boundaries, 3)\n",
    "rightInner = RightInner()\n",
    "rightInner.mark(boundaries, 4)\n",
    "bottomOuter = BottomOuter()\n",
    "bottomOuter.mark(boundaries, 5)\n",
    "leftOuter = LeftOuter()\n",
    "leftOuter.mark(boundaries, 6)\n",
    "topOuter = TopOuter()\n",
    "topOuter.mark(boundaries, 7)\n",
    "rightOuter = RightOuter()\n",
    "rightOuter.mark(boundaries, 8)"
   ]
  },
  {
   "cell_type": "code",
   "execution_count": null,
   "metadata": {},
   "outputs": [],
   "source": [
    "# Save\n",
    "VerticesMappingIO.save_file(vertices_mappings, \".\", \"hole_vertices_mapping.vmp\")\n",
    "File(\"hole.xml\") << mesh\n",
    "File(\"hole_physical_region.xml\") << subdomains\n",
    "File(\"hole_facet_region.xml\") << boundaries\n",
    "XDMFFile(\"hole.xdmf\").write(mesh)\n",
    "XDMFFile(\"hole_physical_region.xdmf\").write(subdomains)\n",
    "XDMFFile(\"hole_facet_region.xdmf\").write(boundaries)"
   ]
  }
 ],
 "metadata": {
  "kernelspec": {
   "display_name": "Python 3",
   "language": "python",
   "name": "python3"
  },
  "language_info": {
   "codemirror_mode": {
    "name": "ipython"
   },
   "file_extension": ".py",
   "mimetype": "text/x-python",
   "name": "python",
   "nbconvert_exporter": "python"
  }
 },
 "nbformat": 4,
 "nbformat_minor": 2
}
