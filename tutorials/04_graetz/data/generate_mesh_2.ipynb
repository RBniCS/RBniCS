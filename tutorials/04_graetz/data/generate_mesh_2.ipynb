{
 "cells": [
  {
   "cell_type": "code",
   "execution_count": null,
   "id": "fenics_installation",
   "metadata": {},
   "outputs": [],
   "source": [
    "# Install FEniCS\n",
    "try:\n",
    "    import dolfin\n",
    "except ImportError:\n",
    "    !wget \"https://fem-on-colab.github.io/releases/fenics-install-real.sh\" -O \"/tmp/fenics-install.sh\" && bash \"/tmp/fenics-install.sh\"\n",
    "    import dolfin"
   ]
  },
  {
   "cell_type": "code",
   "execution_count": null,
   "id": "rbnics_installation",
   "metadata": {},
   "outputs": [],
   "source": [
    "# Install RBniCS\n",
    "try:\n",
    "    import rbnics\n",
    "except ImportError:\n",
    "    !pip3 install git+https://github.com/RBniCS/RBniCS.git\n",
    "    import rbnics\n",
    "import rbnics.utils.config\n",
    "assert \"dolfin\" in rbnics.utils.config.config.get(\"backends\", \"required backends\")"
   ]
  },
  {
   "cell_type": "code",
   "execution_count": null,
   "metadata": {},
   "outputs": [],
   "source": [
    "from dolfin import *\n",
    "from mshr import *"
   ]
  },
  {
   "cell_type": "code",
   "execution_count": null,
   "metadata": {},
   "outputs": [],
   "source": [
    "# Create mesh\n",
    "rectangle = Rectangle(Point(0., 0.), Point(2., 1.))\n",
    "subdomain = dict()\n",
    "subdomain[1] = Rectangle(Point(0., 0.), Point(1., 1.))\n",
    "subdomain[2] = Rectangle(Point(1., 0.), Point(2., 1.))\n",
    "domain = rectangle\n",
    "for i, s in subdomain.items():\n",
    "    domain.set_subdomain(i, subdomain[i])\n",
    "mesh = generate_mesh(domain, 64)"
   ]
  },
  {
   "cell_type": "code",
   "execution_count": null,
   "metadata": {},
   "outputs": [],
   "source": [
    "# Create subdomains\n",
    "subdomains = MeshFunction(\"size_t\", mesh, 2, mesh.domains())\n",
    "plot(subdomains)"
   ]
  },
  {
   "cell_type": "code",
   "execution_count": null,
   "metadata": {},
   "outputs": [],
   "source": [
    "# Create boundaries\n",
    "class Left(SubDomain):\n",
    "    def __init__(self):\n",
    "        SubDomain.__init__(self)\n",
    "\n",
    "    def inside(self, x, on_boundary):\n",
    "        return on_boundary and abs(x[0] - 0.) < DOLFIN_EPS\n",
    "\n",
    "\n",
    "class Right(SubDomain):\n",
    "    def __init__(self):\n",
    "        SubDomain.__init__(self)\n",
    "\n",
    "    def inside(self, x, on_boundary):\n",
    "        return on_boundary and abs(x[0] - 2.) < DOLFIN_EPS\n",
    "\n",
    "\n",
    "class Bottom(SubDomain):\n",
    "    def __init__(self, x_min, x_max):\n",
    "        SubDomain.__init__(self)\n",
    "        self.x_min = x_min\n",
    "        self.x_max = x_max\n",
    "\n",
    "    def inside(self, x, on_boundary):\n",
    "        return on_boundary and abs(x[1] - 0.) < DOLFIN_EPS and x[0] >= self.x_min and x[0] <= self.x_max\n",
    "\n",
    "\n",
    "class Top(SubDomain):\n",
    "    def __init__(self, x_min, x_max):\n",
    "        SubDomain.__init__(self)\n",
    "        self.x_min = x_min\n",
    "        self.x_max = x_max\n",
    "\n",
    "    def inside(self, x, on_boundary):\n",
    "        return on_boundary and abs(x[1] - 1.) < DOLFIN_EPS and x[0] >= self.x_min and x[0] <= self.x_max\n",
    "\n",
    "\n",
    "boundaries = MeshFunction(\"size_t\", mesh, mesh.topology().dim() - 1)\n",
    "boundaries.set_all(0)\n",
    "bottomLeft = Bottom(0., 1.)\n",
    "bottomLeft.mark(boundaries, 1)\n",
    "bottomRightLeft = Bottom(1., 1.5)\n",
    "bottomRightLeft.mark(boundaries, 2)\n",
    "bottomRightRight = Bottom(1.5, 2.)\n",
    "bottomRightRight.mark(boundaries, 3)\n",
    "right = Right()\n",
    "right.mark(boundaries, 4)\n",
    "topRightRight = Top(1.5, 2.)\n",
    "topRightRight.mark(boundaries, 5)\n",
    "topRightLeft = Top(1., 1.5)\n",
    "topRightLeft.mark(boundaries, 6)\n",
    "topLeft = Top(0., 1.)\n",
    "topLeft.mark(boundaries, 7)\n",
    "left = Left()\n",
    "left.mark(boundaries, 8)"
   ]
  },
  {
   "cell_type": "code",
   "execution_count": null,
   "metadata": {},
   "outputs": [],
   "source": [
    "# Save\n",
    "File(\"graetz_2.xml\") << mesh\n",
    "File(\"graetz_physical_region_2.xml\") << subdomains\n",
    "File(\"graetz_facet_region_2.xml\") << boundaries\n",
    "XDMFFile(\"graetz_2.xdmf\").write(mesh)\n",
    "XDMFFile(\"graetz_physical_region_2.xdmf\").write(subdomains)\n",
    "XDMFFile(\"graetz_facet_region_2.xdmf\").write(boundaries)"
   ]
  }
 ],
 "metadata": {
  "kernelspec": {
   "display_name": "Python 3",
   "language": "python",
   "name": "python3"
  },
  "language_info": {
   "codemirror_mode": {
    "name": "ipython"
   },
   "file_extension": ".py",
   "mimetype": "text/x-python",
   "name": "python",
   "nbconvert_exporter": "python"
  }
 },
 "nbformat": 4,
 "nbformat_minor": 2
}
