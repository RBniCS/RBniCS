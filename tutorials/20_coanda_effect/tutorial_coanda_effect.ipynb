{
 "cells": [
  {
   "cell_type": "markdown",
   "metadata": {},
   "source": [
    "## Tutorial 20 - Coanda Effect\n",
    "**_Keywords: bifurcation problem, non-uniqueness, Navier-Stokes equations, supremizer operator_**\n",
    "\n",
    "### 1. Introduction\n",
    "\n",
    "In this tutorial, we will study the Coanda Effect held by the Navier-Stokes equations over a two-dimensional sudden-expansion channel $\\Omega$ shown below:\n",
    "\n",
    "<img src=\"data/channel.png\" width=\"80%\"/>\n",
    "\n",
    "A Poiseuille flow profile is imposed on the inlet boundary, and a no-flow (zero velocity) condition is imposed on the walls. A homogeneous Neumann condition of the Cauchy stress tensor is applied at the outflow boundary.\n",
    "\n",
    "The inflow velocity boundary condition is characterized by $$\\boldsymbol{u}(\\boldsymbol{x};\\mu)=\\mu\\bigg \\{20(x_1-2.5)(5-x_1),0\\bigg \\} \\quad \\forall \\boldsymbol{x}=(x_0,x_1) \\in \\Omega$$ \n",
    "\n",
    "This problem is characterized by one parameter $\\mu$, which characterizes the kinematic viscosity of the fluid. The range of $\\mu$ is the following $$\\mu \\in \\mathbb{P}=[0.5,2.0].$$ \n",
    "\n",
    "In order to obtain a faster approximation of the problem and an efficient reconstruction of the bifurcation diagram, we pursue a model reduction by means of a POD-Galerkin reduced order method."
   ]
  },
  {
   "cell_type": "markdown",
   "metadata": {},
   "source": [
    "### 2. Parametrized formulation\n",
    "\n",
    "Let $\\boldsymbol{u}(\\mu)$ be the velocity vector and $p(\\mu)$ be the pressure in the domain $\\Omega$.\n",
    "\n",
    "We will directly provide a weak formulation for this problem: for a given parameter $\\mu \\in \\mathbb{P},$ find $u(\\mu) \\in \\mathbb{V}(\\mu), \\; p \\in\\mathbb{M}$ such that\n",
    "    \n",
    "\n",
    "$$\n",
    "\\begin{cases}\n",
    "    \\mu \\int_{\\Omega} \\nabla \\boldsymbol{u} : \\nabla \\boldsymbol{v} \\ d\\Omega + \\int_{\\Omega} [(\\boldsymbol{u} \\cdot \\nabla) \\boldsymbol{u}] \\cdot \\boldsymbol{v} \\ d\\Omega - \\int_{\\Omega} p \\nabla \\cdot \\boldsymbol{v} \\ d\\Omega = \\int_{\\Omega} \\boldsymbol{f} \\cdot \\boldsymbol{v} \\ d\\Omega, \\quad \\forall \\boldsymbol{v} \\in\\mathbb{V},  \\\\\n",
    "    \\int_{\\Omega} q \\nabla \\cdot \\boldsymbol{u} \\ d\\Omega = 0, \\quad \\forall q \\in\\mathbb{M}\n",
    "\\end{cases}\n",
    "$$\n",
    " \n",
    "where\n",
    "\n",
    "* $\\mu$ represents kinematic viscosity\n",
    "* the functional space $\\mathbb{V}(\\mu)$ is defined as $\\mathbb{V}=[H^1_{\\Gamma_{wall}}(\\Omega)]^2$\n",
    "* the functional space $\\mathbb{M}(\\mu)$ is defined as $\\mathbb{M}=L^2(\\Omega)$\n",
    "\n",
    "\n",
    "Since this problem utilizes mixed finite element discretization with the velocity and pressure as solution variables, the inf-sup condition is necessary for the well posedness of this problem. Thus, the supremizer operator $T^{\\mu}: \\mathbb{M}_h \\rightarrow \\mathbb{V}_h$ will be used."
   ]
  },
  {
   "cell_type": "code",
   "execution_count": null,
   "metadata": {},
   "outputs": [],
   "source": [
    "from dolfin import *\n",
    "from rbnics import *\n",
    "from rbnics.backends.online import OnlineFunction\n",
    "from rbnics.backends import assign\n",
    "import numpy as np\n",
    "import matplotlib.pyplot as plt\n",
    "from utils import *"
   ]
  },
  {
   "cell_type": "markdown",
   "metadata": {},
   "source": [
    "### 3. Affine Decomposition \n",
    "\n"
   ]
  },
  {
   "cell_type": "code",
   "execution_count": null,
   "metadata": {},
   "outputs": [],
   "source": [
    "@ExactParametrizedFunctions()\n",
    "class Coanda(NavierStokesProblem):\n",
    "    \n",
    "    # Default initialization of members\n",
    "    def __init__(self, V, **kwargs):\n",
    "        # Call the standard initialization\n",
    "        NavierStokesProblem.__init__(self, V, **kwargs)\n",
    "        # ... and also store FEniCS data structures for assembly\n",
    "        assert \"subdomains\" in kwargs\n",
    "        assert \"boundaries\" in kwargs\n",
    "        self.subdomains, self.boundaries = kwargs[\"subdomains\"], kwargs[\"boundaries\"]\n",
    "        dup = TrialFunction(V)\n",
    "        (self.du, self.dp) = split(dup)\n",
    "        (self.u, _) = split(self._solution)\n",
    "        vq = TestFunction(V)\n",
    "        (self.v, self.q) = split(vq)\n",
    "        self.dx = Measure(\"dx\")(subdomain_data=self.subdomains)\n",
    "        self.ds = Measure(\"ds\")(subdomain_data=self.boundaries)\n",
    "        self.inlet = Expression((\"20*(x[1] - 2.5)*(5 - x[1])\", \"0.\"), degree=2)\n",
    "        self.f = Constant((0.0, 0.0))\n",
    "        self.g = Constant(0.0)\n",
    "        self._solution_prev = Function(V)\n",
    "        # Customize nonlinear solver parameters\n",
    "        self._nonlinear_solver_parameters.update({\n",
    "            \"linear_solver\": \"umfpack\",\n",
    "            \"maximum_iterations\": 20,\n",
    "            \"report\": True\n",
    "        })\n",
    " \n",
    "    # Return custom problem name\n",
    "    def name(self):\n",
    "        return \"CoandaEffect\"\n",
    "        \n",
    "    # Return theta multiplicative terms of the affine expansion of the problem.\n",
    "    @compute_theta_for_derivatives\n",
    "    @compute_theta_for_supremizers\n",
    "    def compute_theta(self, term):\n",
    "        mu = self.mu\n",
    "        if term == \"a\":\n",
    "            theta_a0 = mu[0]\n",
    "            return (theta_a0,)\n",
    "        elif term in (\"b\", \"bt\"):\n",
    "            theta_b0 = 1.\n",
    "            return (theta_b0,)\n",
    "        elif term == \"c\":\n",
    "            theta_c0 = 1.\n",
    "            return (theta_c0,)\n",
    "        elif term == \"f\":\n",
    "            theta_f0 = 1.\n",
    "            return (theta_f0,)\n",
    "        elif term == \"g\":\n",
    "            theta_g0 = 1.\n",
    "            return (theta_g0,)\n",
    "        elif term == \"dirichlet_bc_u\":\n",
    "            theta_bc00 = 1.\n",
    "            return (theta_bc00,)\n",
    "        else:\n",
    "            raise ValueError(\"Invalid term for compute_theta().\")\n",
    "                \n",
    "    # Return forms resulting from the discretization of the affine expansion of the problem operators.\n",
    "    @assemble_operator_for_derivatives\n",
    "    @assemble_operator_for_supremizers\n",
    "    def assemble_operator(self, term):\n",
    "        dx = self.dx\n",
    "        if term == \"a\":\n",
    "            u = self.du\n",
    "            v = self.v\n",
    "            a0 = inner(grad(u), grad(v))*dx\n",
    "            return (a0,)\n",
    "        elif term == \"b\":\n",
    "            u = self.du\n",
    "            q = self.q\n",
    "            b0 = - q*div(u)*dx\n",
    "            return (b0,)\n",
    "        elif term == \"bt\":\n",
    "            p = self.dp\n",
    "            v = self.v\n",
    "            bt0 = - p*div(v)*dx\n",
    "            return (bt0,)\n",
    "        elif term == \"c\":\n",
    "            u = self.u\n",
    "            v = self.v\n",
    "            c0 = inner(grad(u)*u, v)*dx\n",
    "            return (c0,)\n",
    "        elif term == \"f\":\n",
    "            v = self.v\n",
    "            f0 = inner(self.f, v)*dx\n",
    "            return (f0,)\n",
    "        elif term == \"g\":\n",
    "            q = self.q\n",
    "            g0 = self.g*q*dx\n",
    "            return (g0,)\n",
    "        elif term == \"dirichlet_bc_u\":\n",
    "            bc0 = [DirichletBC(self.V.sub(0), self.inlet, self.boundaries, 1),\n",
    "                   DirichletBC(self.V.sub(0), Constant((0.0, 0.0)), self.boundaries, 2)]\n",
    "            return (bc0,)\n",
    "        elif term == \"inner_product_u\":\n",
    "            u = self.du\n",
    "            v = self.v\n",
    "            x0 = inner(grad(u), grad(v))*dx\n",
    "            return (x0,)\n",
    "        elif term == \"inner_product_p\":\n",
    "            p = self.dp\n",
    "            q = self.q\n",
    "            x0 = inner(p, q)*dx\n",
    "            return (x0,)\n",
    "        else:\n",
    "            raise ValueError(\"Invalid term for assemble_operator().\")\n",
    "\n",
    "    # Simple continuation method to reconstruct a branch of the bifurcation diagram\n",
    "    def _solve(self, **kwargs):\n",
    "        assign(self._solution, self._solution_prev)\n",
    "        NavierStokesProblem._solve(self, **kwargs)\n",
    "        assign(self._solution_prev, self._solution)\n",
    "   \n",
    "# Customize the resulting reduced problem to enable simple continuation at reduced level\n",
    "@CustomizeReducedProblemFor(NavierStokesProblem)\n",
    "def CustomizeReducedNavierStokes(ReducedNavierStokes_Base):\n",
    "    class ReducedNavierStokes(ReducedNavierStokes_Base):\n",
    "        def __init__(self, truth_problem, **kwargs):\n",
    "            ReducedNavierStokes_Base.__init__(self, truth_problem, **kwargs)\n",
    "            self._solution_prev = None\n",
    "            self._nonlinear_solver_parameters.update({\n",
    "                \"report\": True,\n",
    "                \"line_search\": \"wolfe\",\n",
    "                \"maximum_iterations\": 20\n",
    "            })\n",
    "            self.flag = False\n",
    "            \n",
    "        def _solve(self, N, **kwargs):\n",
    "            if self.flag:\n",
    "                assign(self._solution, self._solution_prev)\n",
    "            ReducedNavierStokes_Base._solve(self, N, **kwargs)\n",
    "            self._solution_prev = OnlineFunction(N)\n",
    "            assign(self._solution_prev, self._solution)\n",
    "            self.flag = True\n",
    "    return ReducedNavierStokes"
   ]
  },
  {
   "cell_type": "markdown",
   "metadata": {},
   "source": [
    "## 4. Main program\n",
    "\n",
    "### 4.1. Read the mesh for this problem\n",
    "The mesh was generated by the [data/generate_mesh.ipynb](data/generate_mesh.ipynb) notebook."
   ]
  },
  {
   "cell_type": "code",
   "execution_count": null,
   "metadata": {},
   "outputs": [],
   "source": [
    "mesh = Mesh(\"data/channel.xml\")\n",
    "subdomains = MeshFunction(\"size_t\", mesh, \"data/channel_physical_region.xml\")\n",
    "boundaries = MeshFunction(\"size_t\", mesh, \"data/channel_facet_region.xml\")"
   ]
  },
  {
   "cell_type": "markdown",
   "metadata": {},
   "source": [
    "### 4.2. Create Finite Element Space (Taylor-Hood P2-P1)"
   ]
  },
  {
   "cell_type": "code",
   "execution_count": null,
   "metadata": {},
   "outputs": [],
   "source": [
    "element_u = VectorElement(\"Lagrange\", mesh.ufl_cell(), 2)\n",
    "element_p = FiniteElement(\"Lagrange\", mesh.ufl_cell(), 1)\n",
    "element = MixedElement(element_u, element_p)\n",
    "V = FunctionSpace(mesh, element, components=[[\"u\", \"s\"], \"p\"])"
   ]
  },
  {
   "cell_type": "markdown",
   "metadata": {},
   "source": [
    "### 4.3. Allocate an object of the NavierStokes class"
   ]
  },
  {
   "cell_type": "code",
   "execution_count": null,
   "metadata": {},
   "outputs": [],
   "source": [
    "problem = Coanda(V, subdomains=subdomains, boundaries=boundaries)\n",
    "mu_range = [(2., 0.5)]\n",
    "problem.set_mu_range(mu_range)"
   ]
  },
  {
   "cell_type": "markdown",
   "metadata": {},
   "source": [
    "### 4.4. Prepare reduction with a POD-Galerkin method"
   ]
  },
  {
   "cell_type": "code",
   "execution_count": null,
   "metadata": {},
   "outputs": [],
   "source": [
    "reduction_method = PODGalerkin(problem)\n",
    "reduction_method.set_Nmax(20)\n",
    "reduction_method.set_tolerance(1e-8)"
   ]
  },
  {
   "cell_type": "markdown",
   "metadata": {},
   "source": [
    "### 4.5. Perform the offline phase"
   ]
  },
  {
   "cell_type": "code",
   "execution_count": null,
   "metadata": {},
   "outputs": [],
   "source": [
    "lifting_mu = (2.0,)\n",
    "problem.set_mu(lifting_mu)\n",
    "reduction_method.initialize_training_set(51, sampling=EquispacedDistribution())\n",
    "reduced_problem = reduction_method.offline()"
   ]
  },
  {
   "cell_type": "markdown",
   "metadata": {},
   "source": [
    "### 4.6. Perform the online reconstruction of the bifurcation diagram"
   ]
  },
  {
   "cell_type": "code",
   "execution_count": null,
   "metadata": {},
   "outputs": [],
   "source": [
    "# Quantities for the bifurcation analysis\n",
    "mu_start_bif = 2.\n",
    "mu_end_bif = 0.5\n",
    "mu_num_bif = 101\n",
    "mu_range_bif, mu_step_bif = np.linspace(mu_start_bif, mu_end_bif, mu_num_bif, retstep=True)\n",
    "\n",
    "# Quantities for the bifurcation diagram\n",
    "hf_output = list()\n",
    "rb_output = list()\n",
    "coor = mesh.coordinates()\n",
    "\n",
    "bc = [DirichletBC(V.sub(0), problem.inlet, boundaries, 1), DirichletBC(V.sub(0), Constant((0.0, 0.0)), boundaries, 2)]"
   ]
  },
  {
   "cell_type": "code",
   "execution_count": null,
   "metadata": {},
   "outputs": [],
   "source": [
    "for (i,mu) in enumerate(mu_range_bif):\n",
    " \n",
    "    online_mu = (mu,)\n",
    "    problem.set_mu(online_mu)\n",
    "    solution = problem.solve()\n",
    "    problem.export_solution(\"CoandaEffect\", \"online_solution_hf\", suffix=i)\n",
    "    (y_hf, p_hf) = split(solution)\n",
    "    hf_output.append(solution.sub(0)(coor[72])[1])\n",
    "\n",
    "    reduced_problem.set_mu(online_mu)\n",
    "    reduced_solution = reduced_problem.solve()\n",
    "    Z = reduced_problem.basis_functions*reduced_solution\n",
    "    reduced_problem.export_solution(\"CoandaEffect\", \"online_solution_ro\", suffix=i)\n",
    "    (y_ro, p_ro) = split(Z)\n",
    "    rb_output.append(Z.sub(0)(coor[72])[1])"
   ]
  },
  {
   "cell_type": "code",
   "execution_count": null,
   "metadata": {},
   "outputs": [],
   "source": [
    "plot(solution.sub(0).sub(0))"
   ]
  },
  {
   "cell_type": "code",
   "execution_count": null,
   "metadata": {},
   "outputs": [],
   "source": [
    "plot(solution.sub(1))"
   ]
  },
  {
   "cell_type": "code",
   "execution_count": null,
   "metadata": {},
   "outputs": [],
   "source": [
    "# 7. Perform error and speedup analysis\n",
    "reduction_method.initialize_testing_set(151, sampling=EquispacedDistribution())\n",
    "N_max = min(reduced_problem.N.values())\n",
    "\n",
    "error_analysis_coanda(reduction_method, N_max, filename=\"error_analysis\")\n",
    "speedup_analysis_coanda(reduction_method, N_max, filename=\"speedup_analysis\")"
   ]
  },
  {
   "cell_type": "markdown",
   "metadata": {},
   "source": [
    "### 4.7. Plot bifurcation diagrams"
   ]
  },
  {
   "cell_type": "code",
   "execution_count": null,
   "metadata": {},
   "outputs": [],
   "source": [
    "plt.figure(\"Bifurcation analysis\")\n",
    "plt.plot(mu_range_bif, hf_output, \"-r\", linewidth=2, label = \"HF output\")\n",
    "plt.plot(mu_range_bif, rb_output, \"--b\", linewidth=2, label = \"RB output\")\n",
    "plt.xlabel('$\\\\mu$')\n",
    "plt.ylabel('$v_x(11.62, 3.75)$')\n",
    "plt.title(\"Bifurcation Diagram\")\n",
    "plt.legend()\n",
    "plt.grid(True)\n",
    "plt.show()"
   ]
  }
 ],
 "metadata": {
  "kernelspec": {
   "display_name": "Python 3 (ipykernel)",
   "language": "python",
   "name": "python3"
  },
  "language_info": {
   "codemirror_mode": {
    "name": "ipython",
    "version": 3
   },
   "file_extension": ".py",
   "mimetype": "text/x-python",
   "name": "python",
   "nbconvert_exporter": "python",
   "pygments_lexer": "ipython3",
   "version": "3.10.8"
  },
  "vscode": {
   "interpreter": {
    "hash": "350886dd400890bdab5bb475c6063c29c7de30eb69ba1c0ec092516149a9f42d"
   }
  }
 },
 "nbformat": 4,
 "nbformat_minor": 2
}
