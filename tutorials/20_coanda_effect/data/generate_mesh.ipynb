{
 "cells": [
  {
   "cell_type": "code",
   "execution_count": null,
   "metadata": {},
   "outputs": [],
   "source": [
    "from dolfin import *\n",
    "from mshr import *"
   ]
  },
  {
   "cell_type": "code",
   "execution_count": null,
   "metadata": {},
   "outputs": [],
   "source": [
    "# Geometrical parameters\n",
    "pre_step_length = 10.\n",
    "after_step_length_final = 40.\n",
    "pre_step_height = 2.5\n",
    "after_step_height = 7.5"
   ]
  },
  {
   "cell_type": "code",
   "execution_count": null,
   "metadata": {},
   "outputs": [],
   "source": [
    "# Create mesh\n",
    "domain = \\\n",
    "    Rectangle(Point(0., 0.), Point(pre_step_length + after_step_length_final, after_step_height)) - \\\n",
    "    Rectangle(Point(0., 0.), Point(pre_step_length, pre_step_height)) - \\\n",
    "    Rectangle(Point(0., 2*pre_step_height), Point(pre_step_length, after_step_height))    \n",
    "\n",
    "mesh = generate_mesh(domain, 80)\n",
    "plot(mesh)"
   ]
  },
  {
   "cell_type": "code",
   "execution_count": null,
   "metadata": {},
   "outputs": [],
   "source": [
    "# Create subdomains\n",
    "subdomains = MeshFunction(\"size_t\", mesh, 2, mesh.domains())\n",
    "plot(subdomains)"
   ]
  },
  {
   "cell_type": "code",
   "execution_count": null,
   "metadata": {},
   "outputs": [],
   "source": [
    "# Create boundaries\n",
    "class Inlet(SubDomain):\n",
    "    def inside(self, x, on_boundary):\n",
    "        return on_boundary and abs(x[0]) < DOLFIN_EPS\n",
    "\n",
    "class Bottom(SubDomain):\n",
    "    def inside(self, x, on_boundary):\n",
    "        return on_boundary and (\n",
    "            (x[0] <= pre_step_length and abs(x[1] - after_step_height + pre_step_height) < DOLFIN_EPS) or\n",
    "            (x[0] <= pre_step_length and abs(x[1] - pre_step_height) < DOLFIN_EPS) or\n",
    "            (x[1] <= pre_step_height and abs(x[0] - pre_step_length) < DOLFIN_EPS) or\n",
    "            (x[1] >= after_step_height - pre_step_height and abs(x[0] - pre_step_length) < DOLFIN_EPS) or\n",
    "            (x[0] >= pre_step_length and abs(x[1]) < DOLFIN_EPS)\n",
    "        )\n",
    "        \n",
    "class Top(SubDomain):\n",
    "    def inside(self, x, on_boundary):\n",
    "        return on_boundary and abs(x[1] - after_step_height) < DOLFIN_EPS\n",
    "\n",
    "\n",
    "boundaries = MeshFunction(\"size_t\", mesh, mesh.topology().dim() - 1)\n",
    "boundaries.set_all(0)\n",
    "inlet = Inlet()\n",
    "inlet_ID = 1\n",
    "inlet.mark(boundaries, inlet_ID)\n",
    "bottom = Bottom()\n",
    "bottom_ID = 2\n",
    "bottom.mark(boundaries, bottom_ID)\n",
    "top = Top()\n",
    "top_ID = 2\n",
    "top.mark(boundaries, top_ID)"
   ]
  },
  {
   "cell_type": "code",
   "execution_count": null,
   "metadata": {},
   "outputs": [],
   "source": [
    "# Save to xml file\n",
    "File(\"channel.xml\") << mesh\n",
    "File(\"channel_physical_region.xml\") << subdomains\n",
    "File(\"channel_facet_region.xml\") << boundaries\n",
    "XDMFFile(\"channel.xdmf\").write(mesh)\n",
    "XDMFFile(\"channel_physical_region.xdmf\").write(subdomains)\n",
    "XDMFFile(\"channel_facet_region.xdmf\").write(boundaries)"
   ]
  }
 ],
 "metadata": {
  "kernelspec": {
   "display_name": "Python 3.10.4 ('fenics')",
   "language": "python",
   "name": "python3"
  },
  "language_info": {
   "codemirror_mode": {
    "name": "ipython",
    "version": 3
   },
   "file_extension": ".py",
   "mimetype": "text/x-python",
   "name": "python",
   "nbconvert_exporter": "python",
   "pygments_lexer": "ipython3",
   "version": "3.10.4"
  },
  "vscode": {
   "interpreter": {
    "hash": "1237909dc2f91fc3c05c30c1f588ebdd3302fef3454bee589f388f8a73cbd42c"
   }
  }
 },
 "nbformat": 4,
 "nbformat_minor": 2
}
