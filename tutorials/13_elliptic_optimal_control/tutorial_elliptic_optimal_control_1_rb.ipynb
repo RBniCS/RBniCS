{
 "cells": [
  {
   "cell_type": "markdown",
   "metadata": {},
   "source": [
    "## TUTORIAL 13 - Elliptic Optimal Control\n",
    "**__Keywords: distributed optimal control, geometric parametrization, inf-sup condition, reduced basis__**\n",
    "\n",
    "### 1. Introduction\n",
    "\n",
    "This tutorial addresses a distributed elliptic optimal control for the Laplace equation with geometrical parametrization. We consider an \"original\" domain $\\Omega_o(\\boldsymbol{\\mu})$ divided into two parts $\\Omega_o^1$ and $\\Omega_o^2(\\boldsymbol{\\mu})$, as in the following picture:\n",
    "\n",
    "<img src=\"https://github.com/RBniCS/RBniCS/raw/master/tutorials/13_elliptic_optimal_control/data/mesh1.png\" width=\"70%\"/>\n",
    "\n",
    "The problem is characterized by two parameters. The first parameter $\\mu_0$ controls the shape of the deformable subdomain $\\Omega_o^2$. The second parameter $\\mu_1$ controls the parameter dependent observation function $y_d(\\boldsymbol{\\mu})$ such that \n",
    "$$y_d(\\boldsymbol{\\mu}) = \n",
    "\\begin{cases} \n",
    "    1 \\; \\text{in} \\; \\Omega_o^1 \\\\ \n",
    "    \\mu_1 \\; \\text{in} \\; \\Omega_o^2 (\\boldsymbol{\\mu})\n",
    "\\end{cases} $$\n",
    "\n",
    "The ranges of the two parameters are the following: $$\\mu_0 \\in [1, 3.5] \\; \\text{and} \\; \\mu_1 \\in [0.5, 2.5]$$\n",
    "\n",
    "Thus, the parameter vector $\\boldsymbol{\\mu}$ is given by $$\\boldsymbol{\\mu}=(\\mu_0,\\mu_1)$$ on the parameter domain $$\\mathbb{P} = [1.0,3.5] \\times [0.5,2.5].$$\n",
    "\n",
    "In order to obtain a faster approximation of the optimal control problem, and avoid any remeshing, we pursue an optimize-then-discretize approach using the reduced basis method from a fixed reference domain. "
   ]
  },
  {
   "cell_type": "code",
   "execution_count": null,
   "id": "fenics_installation",
   "metadata": {},
   "outputs": [],
   "source": [
    "# Install FEniCS\n",
    "try:\n",
    "    import dolfin\n",
    "except ImportError:\n",
    "    !wget \"https://fem-on-colab.github.io/releases/fenics-install-real.sh\" -O \"/tmp/fenics-install.sh\" && bash \"/tmp/fenics-install.sh\"\n",
    "    import dolfin"
   ]
  },
  {
   "cell_type": "code",
   "execution_count": null,
   "id": "rbnics_installation",
   "metadata": {},
   "outputs": [],
   "source": [
    "# Install RBniCS\n",
    "try:\n",
    "    import rbnics\n",
    "except ImportError:\n",
    "    !pip3 install git+https://github.com/RBniCS/RBniCS.git\n",
    "    import rbnics\n",
    "import rbnics.utils.config\n",
    "assert \"dolfin\" in rbnics.utils.config.config.get(\"backends\", \"required backends\")"
   ]
  },
  {
   "cell_type": "code",
   "execution_count": null,
   "id": "auxiliary_files",
   "metadata": {},
   "outputs": [],
   "source": [
    "# Download data files\n",
    "!mkdir -p data\n",
    "![ -f data/mesh1.xml ] || wget https://github.com/RBniCS/RBniCS/raw/master/tutorials/04_graetz/data/graetz_1.xml -O data/mesh1.xml\n",
    "![ -f data/mesh1_facet_region.xml ] || wget https://github.com/RBniCS/RBniCS/raw/master/tutorials/04_graetz/data/graetz_facet_region_1.xml -O data/mesh1_facet_region.xml\n",
    "![ -f data/mesh1_physical_region.xml ] || wget https://github.com/RBniCS/RBniCS/raw/master/tutorials/04_graetz/data/graetz_physical_region_1.xml -O data/mesh1_physical_region.xml\n",
    "![ -f data/mesh2.xml ] || wget https://github.com/RBniCS/RBniCS/raw/master/tutorials/13_elliptic_optimal_control/data/mesh2.xml -O data/mesh2.xml\n",
    "![ -f data/mesh2_facet_region.xml ] || wget https://github.com/RBniCS/RBniCS/raw/master/tutorials/13_elliptic_optimal_control/data/mesh2_facet_region.xml -O data/mesh2_facet_region.xml\n",
    "![ -f data/mesh2_physical_region.xml ] || wget https://github.com/RBniCS/RBniCS/raw/master/tutorials/13_elliptic_optimal_control/data/mesh2_physical_region.xml -O data/mesh2_physical_region.xml"
   ]
  },
  {
   "cell_type": "markdown",
   "metadata": {},
   "source": [
    "### 2. Parametrized formulation\n",
    "\n",
    "Let $y_0(\\boldsymbol{\\mu})$ be the temperature in the domain $\\Omega_o(\\boldsymbol{\\mu}).$\n",
    "\n",
    "Consider the following optimal control problem:\n",
    "\n",
    "$$\\underset{y_0,u_o}{min} \\; J(y_o(\\boldsymbol{\\mu}), u_o(\\boldsymbol{\\mu});\\boldsymbol{\\mu}) = \\frac{1}{2} \\left\\lVert y_o(\\boldsymbol{\\mu})-y_d(\\boldsymbol{\\mu})\\right\\rVert^2_{L^2(\\Omega_o)} + \\frac{\\alpha}{2} \\left\\lVert u_o(\\boldsymbol{\\mu}) \\right\\rVert^2_{U_o)}, $$\n",
    "such that\n",
    "$$\\begin{cases} \n",
    "    -\\Delta y_o(\\boldsymbol{\\mu}) = u_o(\\boldsymbol{\\mu}) \\quad \\text{in} \\; \\Omega_o(\\boldsymbol{\\mu}), \\\\ \n",
    "    y_o(\\boldsymbol{\\mu}) = g_D \\quad \\quad \\; \\quad \\text{on} \\; \\Gamma_D^o(\\boldsymbol{\\mu})=\\partial \\Omega_o(\\boldsymbol{\\mu})\n",
    "\\end{cases}$$\n",
    "\n",
    "\n",
    "where \n",
    "* $y_o$ and $u_o$ are the state and control functions defined on the original domain\n",
    "* the Dirichlet boundary condition is given by $g_D=1$ \n",
    "\n",
    "Note that the functional spaces are parameter dependent due to the shape variation.\n",
    "\n",
    "The corresponding weak formulation comes from the Lagrangian method to derive the solution to the optimal control problem:\n",
    "\n",
    "Using the Lagrangian functional, the problem becomes: <center> find $(y_o,p_o,u_o) \\in \\mathbb{Y_o} \\times \\mathbb{Q_o} \\times \\mathbb{U_o}\\; : \\; \\nabla L(y_o,p_o,u_o)[(z_o,q_o,v_o)]=0 \\quad \\forall (z_o,q_o,v_o) \\in \\mathbb{Y_o} \\times \\mathbb{Q_o} \\times \\mathbb{U_o}$ </center>\n",
    "\n",
    "Which gives:\n",
    "<center>\n",
    "    $\n",
    "    \\begin{cases}\n",
    "        L_{o,p} = f(q_o) + c(u_o,q_o) - a(y_o,q_o) \\\\\n",
    "        L_{o,y} = m(y_o,z_o) - g(y_d,z_o) - a^*(z_o,p_o) \\\\\n",
    "        L_{o,u} = \\alpha n(u_o,v_o) + c^*(v_o,p_o)\n",
    "    \\end{cases}\n",
    "    $\n",
    "</center>\n",
    "\n",
    "where\n",
    "* the parametrized bilinear form $a(\\cdot,\\cdot; \\boldsymbol{\\mu}): \\mathbb{Y_o} \\times \\mathbb{Q_o} \\rightarrow \\mathbb{R}$ is defined as $$a(y_o,q_o; \\boldsymbol{\\mu}) = \\int_{\\Omega_o} \\nabla y_o \\cdot \\nabla q_o \\ d \\Omega$$\n",
    "* the parametrized bilinear form $c(\\cdot,\\cdot; \\boldsymbol{\\mu}): \\mathbb{U_o} \\times \\mathbb{Q_o} \\rightarrow \\mathbb{R}$ is defined as $$c(u,q; \\boldsymbol{\\mu}) = \\int_{\\Omega_o} u_o \\cdot q_o \\ d \\Omega$$\n",
    "* the parametrized linear form $f(\\cdot; \\boldsymbol{\\mu}): \\mathbb{Y_o} \\rightarrow \\mathbb{R}$ is defined as $$f(q_o; \\boldsymbol{\\mu}) = 0$$\n",
    "* the parametrized bilinear form $m(\\cdot,\\cdot; \\boldsymbol{\\mu}): \\mathbb{Z_o} \\times \\mathbb{Z_o} \\rightarrow \\mathbb{R}$ is defined as $$m(y_o,z_o; \\boldsymbol{\\mu}) = \\int_{\\Omega_o} y_o \\cdot z_o \\ d \\Omega$$\n",
    "* the parametrized bilinear form $n(\\cdot,\\cdot; \\boldsymbol{\\mu}): \\mathbb{U_o} \\times \\mathbb{U_o} \\rightarrow \\mathbb{R}$ is defined as $$n(u_o,v_o; \\boldsymbol{\\mu}) = \\int_{\\Omega_o} u_o \\cdot v_o \\ d \\Omega$$\n",
    "* the parametrized bilinear form $g(\\cdot,\\cdot; \\boldsymbol{\\mu}): \\mathbb{Z_o} \\times \\mathbb{Y_o} \\rightarrow \\mathbb{R}$ is defined as $$g(y_d,z_o; \\boldsymbol{\\mu}) = \\mu_1 \\int_{\\Omega_o} y_d \\cdot z_o \\ d \\Omega$$\n",
    "\n",
    "and\n",
    "* the functional space $\\mathbb{Y}_o(\\boldsymbol{\\mu})$ is defined as $$\\mathbb{Y}_o(\\boldsymbol{\\mu})=H_o^1(\\Omega_o(\\boldsymbol{\\mu})$$\n",
    "* the functional space $\\mathbb{U}_o(\\boldsymbol{\\mu})$ is defined as $$\\mathbb{U}_o(\\boldsymbol{\\mu})=L^2(\\Omega_o(\\boldsymbol{\\mu}))$$\n",
    "* the functional space $\\mathbb{Q}_o=\\mathbb{Y}_o$\n",
    "* the functional space $\\mathbb{Z}_o \\supset \\mathbb{Y}_o$\n",
    "\n",
    "Since this problem is recast in the framework of saddle-point problems, the reduced basis problem must satisfy the inf-sup condition, thus an aggregated space for the state and adjoint variables is defined.\n"
   ]
  },
  {
   "cell_type": "code",
   "execution_count": null,
   "metadata": {},
   "outputs": [],
   "source": [
    "from dolfin import *\n",
    "from rbnics import *"
   ]
  },
  {
   "cell_type": "markdown",
   "metadata": {},
   "source": [
    "### 3. Affine Decomposition\n",
    "\n",
    "In order to obtain an affine decomposition, we recast the problem on a fixed, parameter independent, reference domain $\\Omega$. We choose the reference domain characterized by $\\mu_0$=1 which we generate through the generate_mesh notebook provided in the data folder."
   ]
  },
  {
   "cell_type": "code",
   "execution_count": null,
   "metadata": {},
   "outputs": [],
   "source": [
    "@PullBackFormsToReferenceDomain()\n",
    "@ShapeParametrization(\n",
    "    (\"x[0]\", \"x[1]\"),  # subdomain 1\n",
    "    (\"mu[0] * (x[0] - 1) + 1\", \"x[1]\"),  # subdomain 2\n",
    ")\n",
    "class EllipticOptimalControl(EllipticOptimalControlProblem):\n",
    "\n",
    "    # Default initialization of members\n",
    "    def __init__(self, V, **kwargs):\n",
    "        # Call the standard initialization\n",
    "        EllipticOptimalControlProblem.__init__(self, V, **kwargs)\n",
    "        # ... and also store FEniCS data structures for assembly\n",
    "        assert \"subdomains\" in kwargs\n",
    "        assert \"boundaries\" in kwargs\n",
    "        self.subdomains, self.boundaries = kwargs[\"subdomains\"], kwargs[\"boundaries\"]\n",
    "        yup = TrialFunction(V)\n",
    "        (self.y, self.u, self.p) = split(yup)\n",
    "        zvq = TestFunction(V)\n",
    "        (self.z, self.v, self.q) = split(zvq)\n",
    "        self.dx = Measure(\"dx\")(subdomain_data=subdomains)\n",
    "        self.ds = Measure(\"ds\")(subdomain_data=boundaries)\n",
    "        # Regularization coefficient\n",
    "        self.alpha = 0.01\n",
    "        # Desired state\n",
    "        self.y_d = Constant(1.0)\n",
    "        # Customize linear solver parameters\n",
    "        self._linear_solver_parameters.update({\n",
    "            \"linear_solver\": \"mumps\"\n",
    "        })\n",
    "\n",
    "    # Return custom problem name\n",
    "    def name(self):\n",
    "        return \"EllipticOptimalControl1RB\"\n",
    "\n",
    "    # Return stability factor\n",
    "    def get_stability_factor_lower_bound(self):\n",
    "        return 1.\n",
    "\n",
    "    # Return theta multiplicative terms of the affine expansion of the problem.\n",
    "    def compute_theta(self, term):\n",
    "        mu = self.mu\n",
    "        if term in (\"a\", \"a*\"):\n",
    "            theta_a0 = 1.0\n",
    "            return (theta_a0,)\n",
    "        elif term in (\"c\", \"c*\"):\n",
    "            theta_c0 = 1.0\n",
    "            return (theta_c0,)\n",
    "        elif term == \"m\":\n",
    "            theta_m0 = 1.0\n",
    "            return (theta_m0,)\n",
    "        elif term == \"n\":\n",
    "            theta_n0 = self.alpha\n",
    "            return (theta_n0,)\n",
    "        elif term == \"f\":\n",
    "            theta_f0 = 1.0\n",
    "            return (theta_f0,)\n",
    "        elif term == \"g\":\n",
    "            theta_g0 = 1.0\n",
    "            theta_g1 = mu[1]\n",
    "            return (theta_g0, theta_g1)\n",
    "        elif term == \"h\":\n",
    "            theta_h0 = 1.0\n",
    "            theta_h1 = mu[1]**2\n",
    "            return (theta_h0, theta_h1)\n",
    "        elif term == \"dirichlet_bc_y\":\n",
    "            theta_bc0 = 1.\n",
    "            return (theta_bc0,)\n",
    "        else:\n",
    "            raise ValueError(\"Invalid term for compute_theta().\")\n",
    "\n",
    "    # Return forms resulting from the discretization of the affine expansion of the problem operators.\n",
    "    def assemble_operator(self, term):\n",
    "        dx = self.dx\n",
    "        if term == \"a\":\n",
    "            y = self.y\n",
    "            q = self.q\n",
    "            a0 = inner(grad(y), grad(q)) * dx\n",
    "            return (a0,)\n",
    "        elif term == \"a*\":\n",
    "            z = self.z\n",
    "            p = self.p\n",
    "            as0 = inner(grad(z), grad(p)) * dx\n",
    "            return (as0,)\n",
    "        elif term == \"c\":\n",
    "            u = self.u\n",
    "            q = self.q\n",
    "            c0 = u * q * dx\n",
    "            return (c0,)\n",
    "        elif term == \"c*\":\n",
    "            v = self.v\n",
    "            p = self.p\n",
    "            cs0 = v * p * dx\n",
    "            return (cs0,)\n",
    "        elif term == \"m\":\n",
    "            y = self.y\n",
    "            z = self.z\n",
    "            m0 = y * z * dx\n",
    "            return (m0,)\n",
    "        elif term == \"n\":\n",
    "            u = self.u\n",
    "            v = self.v\n",
    "            n0 = u * v * dx\n",
    "            return (n0,)\n",
    "        elif term == \"f\":\n",
    "            q = self.q\n",
    "            f0 = Constant(0.0) * q * dx\n",
    "            return (f0,)\n",
    "        elif term == \"g\":\n",
    "            z = self.z\n",
    "            y_d = self.y_d\n",
    "            g0 = y_d * z * dx(1)\n",
    "            g1 = y_d * z * dx(2)\n",
    "            return (g0, g1)\n",
    "        elif term == \"h\":\n",
    "            y_d = self.y_d\n",
    "            h0 = y_d * y_d * dx(1, domain=mesh)\n",
    "            h1 = y_d * y_d * dx(2, domain=mesh)\n",
    "            return (h0, h1)\n",
    "        elif term == \"dirichlet_bc_y\":\n",
    "            bc0 = [DirichletBC(self.V.sub(0), Constant(1.0), self.boundaries, i) for i in range(1, 9)]\n",
    "            return (bc0,)\n",
    "        elif term == \"dirichlet_bc_p\":\n",
    "            bc0 = [DirichletBC(self.V.sub(2), Constant(0.0), self.boundaries, i) for i in range(1, 9)]\n",
    "            return (bc0,)\n",
    "        elif term == \"inner_product_y\":\n",
    "            y = self.y\n",
    "            z = self.z\n",
    "            x0 = inner(grad(y), grad(z)) * dx\n",
    "            return (x0,)\n",
    "        elif term == \"inner_product_u\":\n",
    "            u = self.u\n",
    "            v = self.v\n",
    "            x0 = u * v * dx\n",
    "            return (x0,)\n",
    "        elif term == \"inner_product_p\":\n",
    "            p = self.p\n",
    "            q = self.q\n",
    "            x0 = inner(grad(p), grad(q)) * dx\n",
    "            return (x0,)\n",
    "        else:\n",
    "            raise ValueError(\"Invalid term for assemble_operator().\")"
   ]
  },
  {
   "cell_type": "markdown",
   "metadata": {},
   "source": [
    "## 4. Main program\n",
    "\n",
    "### 4.1. Read the mesh for this problem\n",
    "The mesh was generated by the [data/generate_mesh_1.ipynb](data/generate_mesh_1.ipynb) notebook."
   ]
  },
  {
   "cell_type": "code",
   "execution_count": null,
   "metadata": {},
   "outputs": [],
   "source": [
    "mesh = Mesh(\"data/mesh1.xml\")\n",
    "subdomains = MeshFunction(\"size_t\", mesh, \"data/mesh1_physical_region.xml\")\n",
    "boundaries = MeshFunction(\"size_t\", mesh, \"data/mesh1_facet_region.xml\")"
   ]
  },
  {
   "cell_type": "markdown",
   "metadata": {},
   "source": [
    "### 4.2. Create Finite Element space (Lagrange P1)"
   ]
  },
  {
   "cell_type": "code",
   "execution_count": null,
   "metadata": {},
   "outputs": [],
   "source": [
    "scalar_element = FiniteElement(\"Lagrange\", mesh.ufl_cell(), 1)\n",
    "element = MixedElement(scalar_element, scalar_element, scalar_element)\n",
    "V = FunctionSpace(mesh, element, components=[\"y\", \"u\", \"p\"])"
   ]
  },
  {
   "cell_type": "markdown",
   "metadata": {},
   "source": [
    "### 4.3. Allocate an object of the EllipticOptimalControl class"
   ]
  },
  {
   "cell_type": "code",
   "execution_count": null,
   "metadata": {},
   "outputs": [],
   "source": [
    "problem = EllipticOptimalControl(V, subdomains=subdomains, boundaries=boundaries)\n",
    "mu_range = [(1.0, 3.5), (0.5, 2.5)]\n",
    "problem.set_mu_range(mu_range)"
   ]
  },
  {
   "cell_type": "markdown",
   "metadata": {},
   "source": [
    "### 4.4. Prepare reduction with a reduced basis method"
   ]
  },
  {
   "cell_type": "code",
   "execution_count": null,
   "metadata": {},
   "outputs": [],
   "source": [
    "reduced_basis_method = ReducedBasis(problem)\n",
    "reduced_basis_method.set_Nmax(20)"
   ]
  },
  {
   "cell_type": "markdown",
   "metadata": {},
   "source": [
    "### 4.5. Perform the offline phase"
   ]
  },
  {
   "cell_type": "code",
   "execution_count": null,
   "metadata": {},
   "outputs": [],
   "source": [
    "lifting_mu = (1.0, 1.0)\n",
    "problem.set_mu(lifting_mu)\n",
    "reduced_basis_method.initialize_training_set(100)\n",
    "reduced_problem = reduced_basis_method.offline()"
   ]
  },
  {
   "cell_type": "markdown",
   "metadata": {},
   "source": [
    "### 4.6. Perform an online solve"
   ]
  },
  {
   "cell_type": "code",
   "execution_count": null,
   "metadata": {},
   "outputs": [],
   "source": [
    "online_mu = (3.0, 0.6)\n",
    "reduced_problem.set_mu(online_mu)\n",
    "reduced_solution = reduced_problem.solve()\n",
    "print(\"Reduced output for mu =\", online_mu, \"is\", reduced_problem.compute_output())"
   ]
  },
  {
   "cell_type": "code",
   "execution_count": null,
   "metadata": {},
   "outputs": [],
   "source": [
    "plot(reduced_solution, reduced_problem=reduced_problem, component=\"y\")"
   ]
  },
  {
   "cell_type": "code",
   "execution_count": null,
   "metadata": {},
   "outputs": [],
   "source": [
    "plot(reduced_solution, reduced_problem=reduced_problem, component=\"u\")"
   ]
  },
  {
   "cell_type": "code",
   "execution_count": null,
   "metadata": {},
   "outputs": [],
   "source": [
    "plot(reduced_solution, reduced_problem=reduced_problem, component=\"p\")"
   ]
  },
  {
   "cell_type": "markdown",
   "metadata": {},
   "source": [
    "### 4.7. Perform an error analysis"
   ]
  },
  {
   "cell_type": "code",
   "execution_count": null,
   "metadata": {},
   "outputs": [],
   "source": [
    "reduced_basis_method.initialize_testing_set(100)\n",
    "reduced_basis_method.error_analysis()"
   ]
  },
  {
   "cell_type": "markdown",
   "metadata": {},
   "source": [
    "### 4.8. Perform a speedup analysis"
   ]
  },
  {
   "cell_type": "code",
   "execution_count": null,
   "metadata": {},
   "outputs": [],
   "source": [
    "reduced_basis_method.speedup_analysis()"
   ]
  }
 ],
 "metadata": {
  "kernelspec": {
   "display_name": "Python 3",
   "language": "python",
   "name": "python3"
  },
  "language_info": {
   "codemirror_mode": {
    "name": "ipython"
   },
   "file_extension": ".py",
   "mimetype": "text/x-python",
   "name": "python",
   "nbconvert_exporter": "python"
  }
 },
 "nbformat": 4,
 "nbformat_minor": 2
}
