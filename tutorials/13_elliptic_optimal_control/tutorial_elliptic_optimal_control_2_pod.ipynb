{
 "cells": [
  {
   "cell_type": "markdown",
   "metadata": {},
   "source": [
    "## TUTORIAL 13 - Elliptic Optimal Control\n",
    "**__Keywords: optimal control, inf-sup condition, POD-Galerkin__**\n",
    "\n",
    "### 1. Introduction\n",
    "\n",
    "This tutorial addresses a distributed optimal control problem for the Graetz conduction-convection equation on the domain $\\Omega$ shown below:\n",
    "\n",
    "<img src=\"https://github.com/RBniCS/RBniCS/raw/master/tutorials/13_elliptic_optimal_control/data/mesh2.png\" width=\"60%\"/>\n",
    "\n",
    "The problem is characterized by 3 parameters. The first parameter $\\mu_0$ represents the Péclet number, which describes the heat transfer between the two domains. The second and third parameters, $\\mu_1$ and $\\mu_2$, control the parameter dependent observation function $y_d(\\boldsymbol{\\mu})$ such that:\n",
    "$$ y_d(\\boldsymbol{\\mu})=\n",
    "\\begin{cases}\n",
    "    \\mu_1 \\quad \\text{in} \\; \\hat{\\Omega}_1 \\\\\n",
    "    \\mu_2 \\quad \\text{in} \\; \\hat{\\Omega}_2\n",
    "\\end{cases}\n",
    "$$\n",
    "\n",
    "The ranges of the three parameters are the following: $$\\mu_0 \\in [3,20], \\mu_1 \\in [0.5,1.5], \\mu_2 \\in [1.5,2.5]$$\n",
    "\n",
    "The parameter vector $\\boldsymbol{\\mu}$ is thus given by $$\\boldsymbol{\\mu}=(\\mu_0,\\mu_1,\\mu_2)$$ on the parameter domain $$\\mathbb{P}=[3,20] \\times [0.5,1.5] \\times [1.5,2.5].$$\n",
    "\n",
    "In order to obtain a faster approximation of the optimal control problem, we pursue an optimize-then-discretize approach using the POD-Galerkin method."
   ]
  },
  {
   "cell_type": "code",
   "execution_count": null,
   "id": "fenics_installation",
   "metadata": {},
   "outputs": [],
   "source": [
    "# Install FEniCS\n",
    "try:\n",
    "    import dolfin\n",
    "except ImportError:\n",
    "    !wget \"https://fem-on-colab.github.io/releases/fenics-install-real.sh\" -O \"/tmp/fenics-install.sh\" && bash \"/tmp/fenics-install.sh\"\n",
    "    import dolfin"
   ]
  },
  {
   "cell_type": "code",
   "execution_count": null,
   "id": "rbnics_installation",
   "metadata": {},
   "outputs": [],
   "source": [
    "# Install RBniCS\n",
    "try:\n",
    "    import rbnics\n",
    "except ImportError:\n",
    "    !pip3 install git+https://github.com/RBniCS/RBniCS.git\n",
    "    import rbnics\n",
    "import rbnics.utils.config\n",
    "assert \"dolfin\" in rbnics.utils.config.config.get(\"backends\", \"required backends\")"
   ]
  },
  {
   "cell_type": "code",
   "execution_count": null,
   "id": "auxiliary_files",
   "metadata": {},
   "outputs": [],
   "source": [
    "# Download data files\n",
    "!mkdir -p data\n",
    "![ -f data/mesh1.xml ] || wget https://github.com/RBniCS/RBniCS/raw/master/tutorials/04_graetz/data/graetz_1.xml -O data/mesh1.xml\n",
    "![ -f data/mesh1_facet_region.xml ] || wget https://github.com/RBniCS/RBniCS/raw/master/tutorials/04_graetz/data/graetz_facet_region_1.xml -O data/mesh1_facet_region.xml\n",
    "![ -f data/mesh1_physical_region.xml ] || wget https://github.com/RBniCS/RBniCS/raw/master/tutorials/04_graetz/data/graetz_physical_region_1.xml -O data/mesh1_physical_region.xml\n",
    "![ -f data/mesh2.xml ] || wget https://github.com/RBniCS/RBniCS/raw/master/tutorials/13_elliptic_optimal_control/data/mesh2.xml -O data/mesh2.xml\n",
    "![ -f data/mesh2_facet_region.xml ] || wget https://github.com/RBniCS/RBniCS/raw/master/tutorials/13_elliptic_optimal_control/data/mesh2_facet_region.xml -O data/mesh2_facet_region.xml\n",
    "![ -f data/mesh2_physical_region.xml ] || wget https://github.com/RBniCS/RBniCS/raw/master/tutorials/13_elliptic_optimal_control/data/mesh2_physical_region.xml -O data/mesh2_physical_region.xml"
   ]
  },
  {
   "cell_type": "markdown",
   "metadata": {},
   "source": [
    "### 2. Parametrized Formulation\n",
    "\n",
    "Let $y(\\boldsymbol{\\mu})$, the state function, be the temperature field in the domain $\\Omega$ and $u(\\boldsymbol{\\mu})$, the control function, act as a heat source. The observation domain $\\hat{\\Omega}$ is defined as: $\\hat{\\Omega}=\\hat{\\Omega}_1 \\cup \\hat{\\Omega}_2$.\n",
    "\n",
    "Consider the following optimal control problem:\n",
    "$$\n",
    "\\underset{y,u}{min} \\; J(y,u;\\boldsymbol{\\mu}) = \\frac{1}{2} \\left\\lVert y(\\boldsymbol{\\mu})-y_d(\\boldsymbol{\\mu})\\right\\rVert ^2_{L^2(\\hat{\\Omega})}, \\\\\n",
    "s.t. \n",
    "\\begin{cases}\n",
    "    -\\frac{1}{\\mu_0}\\Delta y(\\boldsymbol{\\mu}) + x_2(1-x_2)\\frac{\\partial y(\\boldsymbol{\\mu})}{\\partial x_1} = u(\\boldsymbol{\\mu}) \\quad \\text{in} \\; \\Omega, \\\\\n",
    "    \\frac{1}{\\mu_0} \\nabla y(\\boldsymbol{\\mu}) \\cdot \\boldsymbol{n} = 0 \\qquad \\qquad \\qquad \\quad \\enspace \\; \\text{on} \\; \\Gamma_N, \\\\\n",
    "    y(\\boldsymbol{\\mu})=1 \\qquad \\qquad \\qquad \\qquad \\qquad \\enspace  \\text{on} \\; \\Gamma_{D1}, \\\\\n",
    "    y(\\boldsymbol{\\mu})=2 \\qquad \\qquad \\qquad \\qquad \\qquad \\enspace \\text{on} \\; \\Gamma_{D2}\n",
    "\\end{cases}\n",
    "$$\n",
    "\n",
    "The corresponding weak formulation comes from solving for the gradient of the Lagrangian function as detailed in the previous tutorial. \n",
    "\n",
    "Since this problem is recast in the framework of saddle-point problems, the reduced basis problem must satisfy the inf-sup condition, thus an aggregated space for the state and adjoint variables is defined."
   ]
  },
  {
   "cell_type": "code",
   "execution_count": null,
   "metadata": {},
   "outputs": [],
   "source": [
    "from dolfin import *\n",
    "from rbnics import *"
   ]
  },
  {
   "cell_type": "markdown",
   "metadata": {},
   "source": [
    "### 3. Affine Decomposition\n",
    "\n",
    "For this problem the affine decomposition is straightforward."
   ]
  },
  {
   "cell_type": "code",
   "execution_count": null,
   "metadata": {},
   "outputs": [],
   "source": [
    "class EllipticOptimalControl(EllipticOptimalControlProblem):\n",
    "\n",
    "    # Default initialization of members\n",
    "    def __init__(self, V, **kwargs):\n",
    "        # Call the standard initialization\n",
    "        EllipticOptimalControlProblem.__init__(self, V, **kwargs)\n",
    "        # ... and also store FEniCS data structures for assembly\n",
    "        assert \"subdomains\" in kwargs\n",
    "        assert \"boundaries\" in kwargs\n",
    "        self.subdomains, self.boundaries = kwargs[\"subdomains\"], kwargs[\"boundaries\"]\n",
    "        yup = TrialFunction(V)\n",
    "        (self.y, self.u, self.p) = split(yup)\n",
    "        zvq = TestFunction(V)\n",
    "        (self.z, self.v, self.q) = split(zvq)\n",
    "        self.dx = Measure(\"dx\")(subdomain_data=subdomains)\n",
    "        self.ds = Measure(\"ds\")(subdomain_data=boundaries)\n",
    "        # Regularization coefficient\n",
    "        self.alpha = 0.01\n",
    "        # Store the velocity expression\n",
    "        self.vel = Expression(\"x[1] * (1 - x[1])\", element=self.V.sub(0).ufl_element())\n",
    "        # Customize linear solver parameters\n",
    "        self._linear_solver_parameters.update({\n",
    "            \"linear_solver\": \"mumps\"\n",
    "        })\n",
    "\n",
    "    # Return custom problem name\n",
    "    def name(self):\n",
    "        return \"EllipticOptimalControl2POD\"\n",
    "\n",
    "    # Return theta multiplicative terms of the affine expansion of the problem.\n",
    "    def compute_theta(self, term):\n",
    "        mu = self.mu\n",
    "        if term in (\"a\", \"a*\"):\n",
    "            theta_a0 = 1.0 / mu[0]\n",
    "            theta_a1 = 1.0\n",
    "            return (theta_a0, theta_a1)\n",
    "        elif term in (\"c\", \"c*\"):\n",
    "            theta_c0 = 1.0\n",
    "            return (theta_c0,)\n",
    "        elif term == \"m\":\n",
    "            theta_m0 = 1.0\n",
    "            return (theta_m0,)\n",
    "        elif term == \"n\":\n",
    "            theta_n0 = self.alpha\n",
    "            return (theta_n0,)\n",
    "        elif term == \"f\":\n",
    "            theta_f0 = 1.0\n",
    "            return (theta_f0,)\n",
    "        elif term == \"g\":\n",
    "            theta_g0 = mu[1]\n",
    "            theta_g1 = mu[2]\n",
    "            return (theta_g0, theta_g1)\n",
    "        elif term == \"h\":\n",
    "            theta_h0 = 0.24 * mu[1]**2 + 0.52 * mu[2]**2\n",
    "            return (theta_h0,)\n",
    "        elif term == \"dirichlet_bc_y\":\n",
    "            theta_bc0 = 1.\n",
    "            return (theta_bc0,)\n",
    "        else:\n",
    "            raise ValueError(\"Invalid term for compute_theta().\")\n",
    "\n",
    "    # Return forms resulting from the discretization of the affine expansion of the problem operators.\n",
    "    def assemble_operator(self, term):\n",
    "        dx = self.dx\n",
    "        if term == \"a\":\n",
    "            y = self.y\n",
    "            q = self.q\n",
    "            vel = self.vel\n",
    "            a0 = inner(grad(y), grad(q)) * dx\n",
    "            a1 = vel * y.dx(0) * q * dx\n",
    "            return (a0, a1)\n",
    "        elif term == \"a*\":\n",
    "            z = self.z\n",
    "            p = self.p\n",
    "            vel = self.vel\n",
    "            as0 = inner(grad(z), grad(p)) * dx\n",
    "            as1 = - vel * p.dx(0) * z * dx\n",
    "            return (as0, as1)\n",
    "        elif term == \"c\":\n",
    "            u = self.u\n",
    "            q = self.q\n",
    "            c0 = u * q * dx\n",
    "            return (c0,)\n",
    "        elif term == \"c*\":\n",
    "            v = self.v\n",
    "            p = self.p\n",
    "            cs0 = v * p * dx\n",
    "            return (cs0,)\n",
    "        elif term == \"m\":\n",
    "            y = self.y\n",
    "            z = self.z\n",
    "            m0 = y * z * dx(1) + y * z * dx(2)\n",
    "            return (m0,)\n",
    "        elif term == \"n\":\n",
    "            u = self.u\n",
    "            v = self.v\n",
    "            n0 = u * v * dx\n",
    "            return (n0,)\n",
    "        elif term == \"f\":\n",
    "            q = self.q\n",
    "            f0 = Constant(0.0) * q * dx\n",
    "            return (f0,)\n",
    "        elif term == \"g\":\n",
    "            z = self.z\n",
    "            g0 = z * dx(1)\n",
    "            g1 = z * dx(2)\n",
    "            return (g0, g1)\n",
    "        elif term == \"h\":\n",
    "            h0 = 1.0\n",
    "            return (h0,)\n",
    "        elif term == \"dirichlet_bc_y\":\n",
    "            bc0 = [DirichletBC(self.V.sub(0), Constant(i), self.boundaries, i) for i in (1, 2)]\n",
    "            return (bc0,)\n",
    "        elif term == \"dirichlet_bc_p\":\n",
    "            bc0 = [DirichletBC(self.V.sub(2), Constant(0.0), self.boundaries, i) for i in (1, 2)]\n",
    "            return (bc0,)\n",
    "        elif term == \"inner_product_y\":\n",
    "            y = self.y\n",
    "            z = self.z\n",
    "            x0 = inner(grad(y), grad(z)) * dx\n",
    "            return (x0,)\n",
    "        elif term == \"inner_product_u\":\n",
    "            u = self.u\n",
    "            v = self.v\n",
    "            x0 = u * v * dx\n",
    "            return (x0,)\n",
    "        elif term == \"inner_product_p\":\n",
    "            p = self.p\n",
    "            q = self.q\n",
    "            x0 = inner(grad(p), grad(q)) * dx\n",
    "            return (x0,)\n",
    "        else:\n",
    "            raise ValueError(\"Invalid term for assemble_operator().\")"
   ]
  },
  {
   "cell_type": "markdown",
   "metadata": {},
   "source": [
    "## 4. Main program\n",
    "\n",
    "### 4.1. Read the mesh for this problem\n",
    "The mesh was generated by the [data/generate_mesh_2.ipynb](https://colab.research.google.com/github/RBniCS/RBniCS/blob/open-in-colab/tutorials/13_elliptic_optimal_control/data/generate_mesh_2.ipynb\n",
    ") notebook."
   ]
  },
  {
   "cell_type": "code",
   "execution_count": null,
   "metadata": {},
   "outputs": [],
   "source": [
    "mesh = Mesh(\"data/mesh2.xml\")\n",
    "subdomains = MeshFunction(\"size_t\", mesh, \"data/mesh2_physical_region.xml\")\n",
    "boundaries = MeshFunction(\"size_t\", mesh, \"data/mesh2_facet_region.xml\")"
   ]
  },
  {
   "cell_type": "markdown",
   "metadata": {},
   "source": [
    "### 4.2. Create Finite Element space (Lagrange P1)"
   ]
  },
  {
   "cell_type": "code",
   "execution_count": null,
   "metadata": {},
   "outputs": [],
   "source": [
    "scalar_element = FiniteElement(\"Lagrange\", mesh.ufl_cell(), 1)\n",
    "element = MixedElement(scalar_element, scalar_element, scalar_element)\n",
    "V = FunctionSpace(mesh, element, components=[\"y\", \"u\", \"p\"])"
   ]
  },
  {
   "cell_type": "markdown",
   "metadata": {},
   "source": [
    "### 4.3. Allocate an object of the EllipticOptimalControl class"
   ]
  },
  {
   "cell_type": "code",
   "execution_count": null,
   "metadata": {},
   "outputs": [],
   "source": [
    "problem = EllipticOptimalControl(V, subdomains=subdomains, boundaries=boundaries)\n",
    "mu_range = [(3.0, 20.0), (0.5, 1.5), (1.5, 2.5)]\n",
    "problem.set_mu_range(mu_range)"
   ]
  },
  {
   "cell_type": "markdown",
   "metadata": {},
   "source": [
    "### 4.4. Prepare reduction with a POD-Galerkin method"
   ]
  },
  {
   "cell_type": "code",
   "execution_count": null,
   "metadata": {},
   "outputs": [],
   "source": [
    "pod_galerkin_method = PODGalerkin(problem)\n",
    "pod_galerkin_method.set_Nmax(20)"
   ]
  },
  {
   "cell_type": "markdown",
   "metadata": {},
   "source": [
    "### 4.5. Perform the offline phase"
   ]
  },
  {
   "cell_type": "code",
   "execution_count": null,
   "metadata": {},
   "outputs": [],
   "source": [
    "lifting_mu = (3.0, 1.0, 2.0)\n",
    "problem.set_mu(lifting_mu)\n",
    "pod_galerkin_method.initialize_training_set(100)\n",
    "reduced_problem = pod_galerkin_method.offline()"
   ]
  },
  {
   "cell_type": "markdown",
   "metadata": {},
   "source": [
    "### 4.6. Perform an online solve"
   ]
  },
  {
   "cell_type": "code",
   "execution_count": null,
   "metadata": {},
   "outputs": [],
   "source": [
    "online_mu = (15.0, 0.6, 1.8)\n",
    "reduced_problem.set_mu(online_mu)\n",
    "reduced_solution = reduced_problem.solve()\n",
    "print(\"Reduced output for mu =\", online_mu, \"is\", reduced_problem.compute_output())"
   ]
  },
  {
   "cell_type": "code",
   "execution_count": null,
   "metadata": {},
   "outputs": [],
   "source": [
    "plot(reduced_solution, reduced_problem=reduced_problem, component=\"y\")"
   ]
  },
  {
   "cell_type": "code",
   "execution_count": null,
   "metadata": {},
   "outputs": [],
   "source": [
    "plot(reduced_solution, reduced_problem=reduced_problem, component=\"u\")"
   ]
  },
  {
   "cell_type": "code",
   "execution_count": null,
   "metadata": {},
   "outputs": [],
   "source": [
    "plot(reduced_solution, reduced_problem=reduced_problem, component=\"p\")"
   ]
  },
  {
   "cell_type": "markdown",
   "metadata": {},
   "source": [
    "### 4.7. Perform an error analysis"
   ]
  },
  {
   "cell_type": "code",
   "execution_count": null,
   "metadata": {},
   "outputs": [],
   "source": [
    "pod_galerkin_method.initialize_testing_set(100)\n",
    "pod_galerkin_method.error_analysis()"
   ]
  },
  {
   "cell_type": "markdown",
   "metadata": {},
   "source": [
    "### 4.8. Perform a speedup analysis"
   ]
  },
  {
   "cell_type": "code",
   "execution_count": null,
   "metadata": {},
   "outputs": [],
   "source": [
    "pod_galerkin_method.speedup_analysis()"
   ]
  }
 ],
 "metadata": {
  "kernelspec": {
   "display_name": "Python 3",
   "language": "python",
   "name": "python3"
  },
  "language_info": {
   "codemirror_mode": {
    "name": "ipython"
   },
   "file_extension": ".py",
   "mimetype": "text/x-python",
   "name": "python",
   "nbconvert_exporter": "python"
  }
 },
 "nbformat": 4,
 "nbformat_minor": 2
}
