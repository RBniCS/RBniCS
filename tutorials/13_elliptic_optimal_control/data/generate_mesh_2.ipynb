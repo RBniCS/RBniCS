{
 "cells": [
  {
   "cell_type": "code",
   "execution_count": null,
   "id": "fenics_installation",
   "metadata": {},
   "outputs": [],
   "source": [
    "# Install FEniCS\n",
    "try:\n",
    "    import dolfin\n",
    "except ImportError:\n",
    "    !wget \"https://fem-on-colab.github.io/releases/fenics-install-real.sh\" -O \"/tmp/fenics-install.sh\" && bash \"/tmp/fenics-install.sh\"\n",
    "    import dolfin"
   ]
  },
  {
   "cell_type": "code",
   "execution_count": null,
   "id": "rbnics_installation",
   "metadata": {},
   "outputs": [],
   "source": [
    "# Install RBniCS\n",
    "try:\n",
    "    import rbnics\n",
    "except ImportError:\n",
    "    !pip3 install git+https://github.com/RBniCS/RBniCS.git\n",
    "    import rbnics\n",
    "import rbnics.utils.config\n",
    "assert \"dolfin\" in rbnics.utils.config.config.get(\"backends\", \"required backends\")"
   ]
  },
  {
   "cell_type": "code",
   "execution_count": null,
   "metadata": {},
   "outputs": [],
   "source": [
    "from dolfin import *\n",
    "from mshr import *"
   ]
  },
  {
   "cell_type": "code",
   "execution_count": null,
   "metadata": {},
   "outputs": [],
   "source": [
    "# Create mesh\n",
    "rectangle = Rectangle(Point(0., 0.), Point(2.5, 1.))\n",
    "domain = rectangle\n",
    "subdomain = dict()\n",
    "subdomain[1] = Rectangle(Point(0.2, 0.3), Point(0.8, 0.7))\n",
    "subdomain[2] = Rectangle(Point(1.2, 0.3), Point(2.5, 0.7))\n",
    "domain = rectangle\n",
    "for i, s in subdomain.items():\n",
    "    domain.set_subdomain(i, subdomain[i])\n",
    "mesh = generate_mesh(domain, 64)"
   ]
  },
  {
   "cell_type": "code",
   "execution_count": null,
   "metadata": {},
   "outputs": [],
   "source": [
    "# Create subdomains\n",
    "subdomains = MeshFunction(\"size_t\", mesh, 2, mesh.domains())\n",
    "plot(subdomains)"
   ]
  },
  {
   "cell_type": "code",
   "execution_count": null,
   "metadata": {},
   "outputs": [],
   "source": [
    "# Create boundaries\n",
    "class Left(SubDomain):\n",
    "    def __init__(self):\n",
    "        SubDomain.__init__(self)\n",
    "\n",
    "    def inside(self, x, on_boundary):\n",
    "        return on_boundary and abs(x[0] - 0.) < DOLFIN_EPS\n",
    "\n",
    "\n",
    "class Right(SubDomain):\n",
    "    def __init__(self):\n",
    "        SubDomain.__init__(self)\n",
    "\n",
    "    def inside(self, x, on_boundary):\n",
    "        return on_boundary and abs(x[0] - 2.5) < DOLFIN_EPS\n",
    "\n",
    "\n",
    "class Bottom(SubDomain):\n",
    "    def __init__(self, x_min, x_max):\n",
    "        SubDomain.__init__(self)\n",
    "        self.x_min = x_min\n",
    "        self.x_max = x_max\n",
    "\n",
    "    def inside(self, x, on_boundary):\n",
    "        return on_boundary and abs(x[1] - 0.) < DOLFIN_EPS and x[0] >= self.x_min and x[0] <= self.x_max\n",
    "\n",
    "\n",
    "class Top(SubDomain):\n",
    "    def __init__(self, x_min, x_max):\n",
    "        SubDomain.__init__(self)\n",
    "        self.x_min = x_min\n",
    "        self.x_max = x_max\n",
    "\n",
    "    def inside(self, x, on_boundary):\n",
    "        return on_boundary and abs(x[1] - 1.) < DOLFIN_EPS and x[0] >= self.x_min and x[0] <= self.x_max\n",
    "\n",
    "\n",
    "boundaries = MeshFunction(\"size_t\", mesh, mesh.topology().dim() - 1)\n",
    "boundaries.set_all(0)\n",
    "left = Left()\n",
    "left.mark(boundaries, 1)\n",
    "bottom1 = Bottom(0., 1.)\n",
    "bottom1.mark(boundaries, 1)\n",
    "top1 = Top(0., 1.)\n",
    "top1.mark(boundaries, 1)\n",
    "bottom2 = Bottom(1., 2.5)\n",
    "bottom2.mark(boundaries, 2)\n",
    "top2 = Top(1., 2.5)\n",
    "top2.mark(boundaries, 2)\n",
    "right = Right()\n",
    "right.mark(boundaries, 3)"
   ]
  },
  {
   "cell_type": "code",
   "execution_count": null,
   "metadata": {},
   "outputs": [],
   "source": [
    "# Save\n",
    "File(\"mesh2.xml\") << mesh\n",
    "File(\"mesh2_physical_region.xml\") << subdomains\n",
    "File(\"mesh2_facet_region.xml\") << boundaries\n",
    "XDMFFile(\"mesh2.xdmf\").write(mesh)\n",
    "XDMFFile(\"mesh2_physical_region.xdmf\").write(subdomains)\n",
    "XDMFFile(\"mesh2_facet_region.xdmf\").write(boundaries)"
   ]
  }
 ],
 "metadata": {
  "kernelspec": {
   "display_name": "Python 3",
   "language": "python",
   "name": "python3"
  },
  "language_info": {
   "codemirror_mode": {
    "name": "ipython"
   },
   "file_extension": ".py",
   "mimetype": "text/x-python",
   "name": "python",
   "nbconvert_exporter": "python"
  }
 },
 "nbformat": 4,
 "nbformat_minor": 2
}
