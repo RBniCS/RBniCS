{
 "cells": [
  {
   "cell_type": "markdown",
   "metadata": {},
   "source": [
    "## TUTORIAL 12 - Stokes Equations\n",
    "**_Keywords: geometrical parametrization, reduced basis method, mixed formulation, inf sup condition_**\n",
    "\n",
    "### 1. Introduction\n",
    "\n",
    "This tutorial addresses geometrical parametrization and the reduced basis method applied to the steady Stokes equations in a domain $\\Omega_o \\subset \\mathbb{R}^2$ divided into 4 parts with boundary $\\Gamma_o$ shown below:\n",
    "\n",
    "<img src=\"https://github.com/RBniCS/RBniCS/raw/master/tutorials/12_stokes/data/t_bypass.png\" width=\"50%\"/>\n",
    "\n",
    "The problem is characterized by six parameters. We introduce a vector of parameters $\\boldsymbol{\\mu} = \\{t,D,L,S,H,\\theta \\}$ that control the shape of the subdomains. The ranges of the six parameters are the following:\n",
    "\n",
    "The parameter vector $\\boldsymbol{\\mu}$ is thus given by $$\\boldsymbol{\\mu}=(\\mu_0,\\mu_1,\\mu_2,\\mu_3,\\mu_4,\\mu_5)$$ which corresponds to $\\boldsymbol{\\mu} = \\{t,D,L,S,H,\\theta \\}$, respectively, on the parameter domain $$\\mathbb{P}=[0.5,1.5]\\times[0.5,1.5]\\times[0.5,1.5]\\times[0.5,1.5]\\times[0.5,1.5]\\times[0,\\pi/6]$$\n",
    "\n",
    "In this program, we apply the following conditions on the boundaries: \n",
    "* Zero velocity on the left boundary $\\Gamma_{o,w}$ \n",
    "* Constant inflow on the right boundary $\\Gamma_{o,in}$\n",
    "* Stress free Neumann condition on the bottom boundary $\\Gamma_{o,out}$\n",
    "\n",
    "In order to obtain a faster approximation of the problem we pursue a model reduction by means of a reduced order method from a fixed reference domain.\n",
    "\n"
   ]
  },
  {
   "cell_type": "code",
   "execution_count": null,
   "id": "fenics_installation",
   "metadata": {},
   "outputs": [],
   "source": [
    "# Install FEniCS\n",
    "try:\n",
    "    import dolfin\n",
    "except ImportError:\n",
    "    !wget \"https://fem-on-colab.github.io/releases/fenics-install-real.sh\" -O \"/tmp/fenics-install.sh\" && bash \"/tmp/fenics-install.sh\"\n",
    "    import dolfin"
   ]
  },
  {
   "cell_type": "code",
   "execution_count": null,
   "id": "rbnics_installation",
   "metadata": {},
   "outputs": [],
   "source": [
    "# Install RBniCS\n",
    "try:\n",
    "    import rbnics\n",
    "except ImportError:\n",
    "    !pip3 install git+https://github.com/RBniCS/RBniCS.git\n",
    "    import rbnics\n",
    "import rbnics.utils.config\n",
    "assert \"dolfin\" in rbnics.utils.config.config.get(\"backends\", \"required backends\")"
   ]
  },
  {
   "cell_type": "code",
   "execution_count": null,
   "id": "auxiliary_files",
   "metadata": {},
   "outputs": [],
   "source": [
    "# Download data files\n",
    "!mkdir -p data\n",
    "!mkdir -p sampling\n",
    "![ -f data/t_bypass.xml ] || wget https://github.com/RBniCS/RBniCS/raw/master/tutorials/12_stokes/data/t_bypass.xml -O data/t_bypass.xml\n",
    "![ -f data/t_bypass_facet_region.xml ] || wget https://github.com/RBniCS/RBniCS/raw/master/tutorials/12_stokes/data/t_bypass_facet_region.xml -O data/t_bypass_facet_region.xml\n",
    "![ -f data/t_bypass_physical_region.xml ] || wget https://github.com/RBniCS/RBniCS/raw/master/tutorials/12_stokes/data/t_bypass_physical_region.xml -O data/t_bypass_physical_region.xml\n",
    "![ -f data/t_bypass_vertices_mapping.vmp ] || wget https://github.com/RBniCS/RBniCS/raw/master/tutorials/12_stokes/data/t_bypass_vertices_mapping.vmp -O data/t_bypass_vertices_mapping.vmp\n",
    "![ -f sampling/__init__.py ] || wget https://github.com/RBniCS/RBniCS/raw/master/tutorials/12_stokes/sampling/__init__.py -O sampling/__init__.py\n",
    "![ -f sampling/linearly_dependent_uniform_distribution.py ] || wget https://github.com/RBniCS/RBniCS/raw/master/tutorials/12_stokes/sampling/linearly_dependent_uniform_distribution.py -O sampling/linearly_dependent_uniform_distribution.py"
   ]
  },
  {
   "cell_type": "markdown",
   "metadata": {},
   "source": [
    "### 2. Parametrized formulation\n",
    "\n",
    "Let $\\boldsymbol{u_o}(\\boldsymbol{\\mu})$ be the velocity vector and $p_o(\\boldsymbol{\\mu})$ be the pressure in the domain $\\Omega_o(\\boldsymbol{\\mu})$.\n",
    "\n",
    "We will directly provide a weak formulation for this problem:\n",
    "for a given parameter $\\boldsymbol{\\mu} \\in\\mathbb{P}$, find $\\boldsymbol{u_o}(\\boldsymbol{\\mu}) \\in\\mathbb{V_o}(\\boldsymbol{\\mu})$, $p_o \\in\\mathbb{M_o}$ such that \n",
    "\n",
    "<center>\n",
    "    $\n",
    "    \\begin{cases}\n",
    "        \\nu \\int_{\\Omega_o} \\nabla \\boldsymbol{u_o} : \\nabla \\boldsymbol{v_o} \\ d\\Omega - \\int_{\\Omega_o} p_o \\nabla \\cdot \\boldsymbol{v_o} \\ d\\Omega = \\int_{\\Omega_o} \\boldsymbol{f_o} \\cdot \\boldsymbol{v_o} \\ d\\Omega, \\quad \\forall \\boldsymbol{v_o} \\in\\mathbb{V_o},  \\\\\n",
    "        \\int_{\\Omega_o} q_o \\nabla \\cdot \\boldsymbol{u_o} \\ d\\Omega = 0, \\quad \\forall q_o \\in\\mathbb{M_o}\n",
    "    \\end{cases}\n",
    "    $\n",
    "</center>\n",
    "\n",
    "where\n",
    "\n",
    "* $\\nu$ represents kinematic viscosity\n",
    "* the function space $\\mathbb{V_o}(\\boldsymbol{\\mu})$ is defined as $$\\mathbb{V_o}(\\boldsymbol{\\mu}) = [H_{\\Gamma_{o,w}}^{1}(\\Omega_o)]^2$$\n",
    "* the function space $\\mathbb{M_o}(\\boldsymbol{\\mu})$ is defined as $$\\mathbb{M_o}(\\boldsymbol{\\mu}) = L^2(\\Omega_o)$$ Note that the function spaces are parameter dependent due to the shape variation\n",
    "\n",
    "Since this problem utilizes mixed finite element discretization with the velocity and pressure as solution variables, the inf-sup condition is necessary for the well posedness of this problem. Thus, the supremizer operator $T^{\\mu}: \\mathbb{M_o}_h \\rightarrow \\mathbb{V_o}_h$ will be used.\n"
   ]
  },
  {
   "cell_type": "code",
   "execution_count": null,
   "metadata": {},
   "outputs": [],
   "source": [
    "from dolfin import *\n",
    "from rbnics import *\n",
    "from sampling import LinearlyDependentUniformDistribution"
   ]
  },
  {
   "cell_type": "markdown",
   "metadata": {},
   "source": [
    "## 3. Affine decomposition\n",
    "\n",
    "In order to obtain an affine decomposition, we recast the problem on a fixed, parameter independent, reference domain $\\Omega$. We choose one characterized by $\\mu_0=\\mu_1=\\mu_2=\\mu_3=\\mu_4=1$ and $\\mu_5=0$, which we generate through the generate_mesh notebook provided in the *data* folder. \n",
    "\n"
   ]
  },
  {
   "cell_type": "code",
   "execution_count": null,
   "metadata": {},
   "outputs": [],
   "source": [
    "@PullBackFormsToReferenceDomain()\n",
    "@AffineShapeParametrization(\"data/t_bypass_vertices_mapping.vmp\")\n",
    "class Stokes(StokesProblem):\n",
    "\n",
    "    # Default initialization of members\n",
    "    def __init__(self, V, **kwargs):\n",
    "        # Call the standard initialization\n",
    "        StokesProblem.__init__(self, V, **kwargs)\n",
    "        # ... and also store FEniCS data structures for assembly\n",
    "        assert \"subdomains\" in kwargs\n",
    "        assert \"boundaries\" in kwargs\n",
    "        self.subdomains, self.boundaries = kwargs[\"subdomains\"], kwargs[\"boundaries\"]\n",
    "        up = TrialFunction(V)\n",
    "        (self.u, self.p) = split(up)\n",
    "        vq = TestFunction(V)\n",
    "        (self.v, self.q) = split(vq)\n",
    "        self.dx = Measure(\"dx\")(subdomain_data=self.subdomains)\n",
    "        self.ds = Measure(\"ds\")(subdomain_data=self.boundaries)\n",
    "        # ... as well as forcing terms and inlet velocity\n",
    "        self.inlet = Expression((\"- 1./0.25*(x[1] - 1)*(2 - x[1])\", \"0.\"), degree=2)\n",
    "        self.f = Constant((0.0, 0.0))\n",
    "        self.g = Constant(0.0)\n",
    "\n",
    "    # Return custom problem name\n",
    "    def name(self):\n",
    "        return \"Stokes2RB\"\n",
    "\n",
    "    # Return the lower bound for inf-sup constant.\n",
    "    def get_stability_factor_lower_bound(self):\n",
    "        return 1.\n",
    "\n",
    "    # Return theta multiplicative terms of the affine expansion of the problem.\n",
    "    @compute_theta_for_supremizers\n",
    "    def compute_theta(self, term):\n",
    "        if term == \"a\":\n",
    "            theta_a0 = 1.0\n",
    "            return (theta_a0, )\n",
    "        elif term in (\"b\", \"bt\"):\n",
    "            theta_b0 = 1.0\n",
    "            return (theta_b0, )\n",
    "        elif term == \"f\":\n",
    "            theta_f0 = 1.0\n",
    "            return (theta_f0, )\n",
    "        elif term == \"g\":\n",
    "            theta_g0 = 1.0\n",
    "            return (theta_g0, )\n",
    "        elif term == \"dirichlet_bc_u\":\n",
    "            theta_bc0 = 1.\n",
    "            return (theta_bc0, )\n",
    "        else:\n",
    "            raise ValueError(\"Invalid term for compute_theta().\")\n",
    "\n",
    "    # Return forms resulting from the discretization of the affine expansion of the problem operators.\n",
    "    @assemble_operator_for_supremizers\n",
    "    def assemble_operator(self, term):\n",
    "        dx = self.dx\n",
    "        if term == \"a\":\n",
    "            u = self.u\n",
    "            v = self.v\n",
    "            a0 = inner(grad(u), grad(v)) * dx\n",
    "            return (a0, )\n",
    "        elif term == \"b\":\n",
    "            u = self.u\n",
    "            q = self.q\n",
    "            b0 = - q * div(u) * dx\n",
    "            return (b0, )\n",
    "        elif term == \"bt\":\n",
    "            p = self.p\n",
    "            v = self.v\n",
    "            bt0 = - p * div(v) * dx\n",
    "            return (bt0, )\n",
    "        elif term == \"f\":\n",
    "            v = self.v\n",
    "            f0 = inner(self.f, v) * dx\n",
    "            return (f0, )\n",
    "        elif term == \"g\":\n",
    "            q = self.q\n",
    "            g0 = self.g * q * dx\n",
    "            return (g0, )\n",
    "        elif term == \"dirichlet_bc_u\":\n",
    "            bc0 = [DirichletBC(self.V.sub(0), self.inlet, self.boundaries, 1),\n",
    "                   DirichletBC(self.V.sub(0), Constant((0.0, 0.0)), self.boundaries, 3)]\n",
    "            return (bc0,)\n",
    "        elif term == \"inner_product_u\":\n",
    "            u = self.u\n",
    "            v = self.v\n",
    "            x0 = inner(grad(u), grad(v)) * dx\n",
    "            return (x0, )\n",
    "        elif term == \"inner_product_p\":\n",
    "            p = self.p\n",
    "            q = self.q\n",
    "            x0 = inner(p, q) * dx\n",
    "            return (x0, )\n",
    "        else:\n",
    "            raise ValueError(\"Invalid term for assemble_operator().\")"
   ]
  },
  {
   "cell_type": "markdown",
   "metadata": {},
   "source": [
    "## 4. Main program\n",
    "### 4.1. Read the mesh for this problem\n",
    "The mesh was generated by the [data/generate_mesh.ipynb](https://colab.research.google.com/github/RBniCS/RBniCS/blob/open-in-colab/tutorials/12_stokes/data/generate_mesh.ipynb\n",
    ") notebook."
   ]
  },
  {
   "cell_type": "code",
   "execution_count": null,
   "metadata": {},
   "outputs": [],
   "source": [
    "mesh = Mesh(\"data/t_bypass.xml\")\n",
    "subdomains = MeshFunction(\"size_t\", mesh, \"data/t_bypass_physical_region.xml\")\n",
    "boundaries = MeshFunction(\"size_t\", mesh, \"data/t_bypass_facet_region.xml\")"
   ]
  },
  {
   "cell_type": "markdown",
   "metadata": {},
   "source": [
    "### 4.2. Create Finite Element space (Taylor-Hood P2-P1)"
   ]
  },
  {
   "cell_type": "code",
   "execution_count": null,
   "metadata": {},
   "outputs": [],
   "source": [
    "element_u = VectorElement(\"Lagrange\", mesh.ufl_cell(), 2)\n",
    "element_p = FiniteElement(\"Lagrange\", mesh.ufl_cell(), 1)\n",
    "element = MixedElement(element_u, element_p)\n",
    "V = FunctionSpace(mesh, element, components=[[\"u\", \"s\"], \"p\"])"
   ]
  },
  {
   "cell_type": "markdown",
   "metadata": {},
   "source": [
    "### 4.3. Allocate an object of the Stokes class"
   ]
  },
  {
   "cell_type": "code",
   "execution_count": null,
   "metadata": {},
   "outputs": [],
   "source": [
    "problem = Stokes(V, subdomains=subdomains, boundaries=boundaries)\n",
    "mu_range = [\n",
    "    (0.5, 1.5),\n",
    "    (0.5, 1.5),\n",
    "    (0.5, 1.5),\n",
    "    (0.5, 1.5),\n",
    "    (0.5, 1.5),\n",
    "    (0., pi / 6.)\n",
    "]\n",
    "problem.set_mu_range(mu_range)"
   ]
  },
  {
   "cell_type": "markdown",
   "metadata": {},
   "source": [
    "### 4.4. Prepare reduction with a reduced basis method"
   ]
  },
  {
   "cell_type": "code",
   "execution_count": null,
   "metadata": {},
   "outputs": [],
   "source": [
    "reduction_method = ReducedBasis(problem)\n",
    "reduction_method.set_Nmax(25)\n",
    "reduction_method.set_tolerance(1e-6)"
   ]
  },
  {
   "cell_type": "markdown",
   "metadata": {},
   "source": [
    "### 4.5. Perform the offline phase"
   ]
  },
  {
   "cell_type": "code",
   "execution_count": null,
   "metadata": {},
   "outputs": [],
   "source": [
    "lifting_mu = (1.0, 1.0, 1.0, 1.0, 1.0, 0.0)\n",
    "problem.set_mu(lifting_mu)\n",
    "reduction_method.initialize_training_set(100, sampling=LinearlyDependentUniformDistribution())\n",
    "reduced_problem = reduction_method.offline()"
   ]
  },
  {
   "cell_type": "markdown",
   "metadata": {},
   "source": [
    "### 4.6. Perform an online solve"
   ]
  },
  {
   "cell_type": "code",
   "execution_count": null,
   "metadata": {},
   "outputs": [],
   "source": [
    "online_mu = (1.0, 1.0, 1.0, 1.0, 1.0, pi / 6.)\n",
    "reduced_problem.set_mu(online_mu)\n",
    "reduced_solution = reduced_problem.solve()"
   ]
  },
  {
   "cell_type": "code",
   "execution_count": null,
   "metadata": {},
   "outputs": [],
   "source": [
    "plot(reduced_solution, reduced_problem=reduced_problem, component=\"u\")"
   ]
  },
  {
   "cell_type": "code",
   "execution_count": null,
   "metadata": {},
   "outputs": [],
   "source": [
    "plot(reduced_solution, reduced_problem=reduced_problem, component=\"p\")"
   ]
  },
  {
   "cell_type": "markdown",
   "metadata": {},
   "source": [
    "### 4.7. Perform an error analysis"
   ]
  },
  {
   "cell_type": "code",
   "execution_count": null,
   "metadata": {},
   "outputs": [],
   "source": [
    "reduction_method.initialize_testing_set(100, sampling=LinearlyDependentUniformDistribution())\n",
    "reduction_method.error_analysis()"
   ]
  },
  {
   "cell_type": "markdown",
   "metadata": {},
   "source": [
    "### 4.8. Perform a speedup analysis"
   ]
  },
  {
   "cell_type": "code",
   "execution_count": null,
   "metadata": {},
   "outputs": [],
   "source": [
    "reduction_method.speedup_analysis()"
   ]
  }
 ],
 "metadata": {
  "kernelspec": {
   "display_name": "Python 3",
   "language": "python",
   "name": "python3"
  },
  "language_info": {
   "codemirror_mode": {
    "name": "ipython"
   },
   "file_extension": ".py",
   "mimetype": "text/x-python",
   "name": "python",
   "nbconvert_exporter": "python"
  }
 },
 "nbformat": 4,
 "nbformat_minor": 2
}
